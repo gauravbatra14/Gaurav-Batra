{
 "cells": [
  {
   "cell_type": "markdown",
   "metadata": {},
   "source": [
    "# Python Program for Making a Calculator"
   ]
  },
  {
   "cell_type": "code",
   "execution_count": 3,
   "metadata": {},
   "outputs": [
    {
     "name": "stdout",
     "output_type": "stream",
     "text": [
      "Select an option\n",
      "1. Addition\n",
      "2. Substraction\n",
      "3. Multiplication\n",
      "4. Division\n",
      "5. Exponential\n",
      "Enter your Choice from 1-5 : 4\n",
      "Enter Ist num : 25\n",
      "Enter 2nd num : 5\n",
      "Division of 25.0 and 5.0 : 5.0 \n"
     ]
    }
   ],
   "source": [
    "def add (x,y) :\n",
    "    \"\"\"\n",
    "    this function will give addition.\n",
    "    \"\"\"\n",
    "    return x + y\n",
    "\n",
    "def substract (x,y) :\n",
    "    \"\"\"\n",
    "    this function will give substraction.\n",
    "    \"\"\"\n",
    "    return x - y\n",
    "\n",
    "def mutiply (x,y) :\n",
    "    \"\"\"\n",
    "    this function will give Multiplication.\n",
    "    \"\"\"\n",
    "    return x * y\n",
    "\n",
    "def division (x,y) :\n",
    "    \"\"\"\n",
    "    this function will give Division.\n",
    "    \"\"\"\n",
    "    return x / y\n",
    "\n",
    "def Exponent (x,y) :\n",
    "    \"\"\"\n",
    "    this function will give Exponential.\n",
    "    \"\"\"\n",
    "    return x ** y\n",
    "\n",
    "print (\"Select an option\")\n",
    "print (\"1. Addition\")\n",
    "print (\"2. Substraction\")\n",
    "print (\"3. Multiplication\")\n",
    "print (\"4. Division\")\n",
    "print (\"5. Exponential\")\n",
    "\n",
    "choice = int(input(\"Enter your Choice from 1-5 : \"))\n",
    "\n",
    "num1 = float (input (\"Enter Ist num : \"))\n",
    "num2 = float (input (\"Enter 2nd num : \"))\n",
    "\n",
    "if choice == 1:\n",
    "    print (\"Addition of {0} and {1} : {2} \" .format(num1, num2, add(num1, num2)))\n",
    "elif choice == 2:\n",
    "    print (\"Substraction of {0} and {1} : {2} \" .format(num1, num2, substract(num1, num2)))\n",
    "elif choice == 3:\n",
    "    print (\"Multiplication of {0} and {1} : {2} \" .format(num1, num2, multiply(num1, num2)))\n",
    "elif choice == 4:\n",
    "    print (\"Division of {0} and {1} : {2} \" .format(num1, num2, division(num1, num2)))\n",
    "elif choice == 5:\n",
    "    print (\"Exponential of {0} and {1} : {2} \" .format(num1, num2, Exponent(num1, num2)))\n",
    "else:\n",
    "    print (\"Invalid Choice so kindly enter from 1-5 for getting require result.\")"
   ]
  }
 ],
 "metadata": {
  "kernelspec": {
   "display_name": "Python 3",
   "language": "python",
   "name": "python3"
  },
  "language_info": {
   "codemirror_mode": {
    "name": "ipython",
    "version": 3
   },
   "file_extension": ".py",
   "mimetype": "text/x-python",
   "name": "python",
   "nbconvert_exporter": "python",
   "pygments_lexer": "ipython3",
   "version": "3.7.3"
  }
 },
 "nbformat": 4,
 "nbformat_minor": 2
}
