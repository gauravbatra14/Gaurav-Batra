{
  "nbformat": 4,
  "nbformat_minor": 0,
  "metadata": {
    "kernelspec": {
      "display_name": "Python 3",
      "language": "python",
      "name": "python3"
    },
    "language_info": {
      "codemirror_mode": {
        "name": "ipython",
        "version": 3
      },
      "file_extension": ".py",
      "mimetype": "text/x-python",
      "name": "python",
      "nbconvert_exporter": "python",
      "pygments_lexer": "ipython3",
      "version": "3.7.7"
    },
    "colab": {
      "name": "09-Guessing Game Challenge (1).ipynb",
      "provenance": []
    }
  },
  "cells": [
    {
      "cell_type": "markdown",
      "metadata": {
        "id": "O2Y0m0VHKbU_",
        "colab_type": "text"
      },
      "source": [
        "# Guessing Game Challenge\n",
        "\n",
        "Let's use `while` loops to create a guessing game.\n",
        "\n",
        "The Challenge:\n",
        "\n",
        "Write a program that picks a random integer from 1 to 100, and has players guess the number. The rules are:\n",
        "\n",
        "1. If a player's guess is less than 1 or greater than 100, say \"OUT OF BOUNDS\"\n",
        "2. On a player's first turn, if their guess is\n",
        " * within 10 of the number, return \"WARM!\"\n",
        " * further than 10 away from the number, return \"COLD!\"\n",
        "3. On all subsequent turns, if a guess is \n",
        " * closer to the number than the previous guess return \"WARMER!\"\n",
        " * farther from the number than the previous guess, return \"COLDER!\"\n",
        "4. When the player's guess equals the number, tell them they've guessed correctly *and* how many guesses it took!\n",
        "\n",
        "You can try this from scratch, or follow the steps outlined below. A separate Solution notebook has been provided. Good luck!\n"
      ]
    },
    {
      "cell_type": "markdown",
      "metadata": {
        "id": "s-4A5yqFKbVB",
        "colab_type": "text"
      },
      "source": [
        "#### First, pick a random integer from 1 to 100 using the random module and assign it to a variable\n",
        "\n",
        "Note: `random.randint(a,b)` returns a random integer in range `[a, b]`, including both end points."
      ]
    },
    {
      "cell_type": "code",
      "metadata": {
        "id": "w0d0isAHKbVC",
        "colab_type": "code",
        "colab": {}
      },
      "source": [
        "import random\n",
        "sample = random.randint(1,100)"
      ],
      "execution_count": 0,
      "outputs": []
    },
    {
      "cell_type": "markdown",
      "metadata": {
        "id": "OT_mweOMKbVI",
        "colab_type": "text"
      },
      "source": [
        "#### Next, print an introduction to the game and explain the rules"
      ]
    },
    {
      "cell_type": "code",
      "metadata": {
        "id": "Vj1I_NwlKbVJ",
        "colab_type": "code",
        "colab": {},
        "outputId": "bb80f277-ddea-4577-feb9-336f0ee9e28d"
      },
      "source": [
        "print(\"RULES OF THE GAME\\n\\nIf a player's guess is less than 1 or greater than 100, say 'OUT OF BOUNDS' \\nOn a player's first turn, if their guess is \\nwithin 10 of the number, return 'WARM!'' \\nfurther than 10 away from the number, return 'COLD!'\\nOn all subsequent turns, if a guess is\\ncloser to the number than the previous guess return 'WARMER!'\\nfarther from the number than the previous guess, return 'COLDER!'\\nWhen the player's guess equals the number, tell them they've guessed correctly and how many guesses it took!\")"
      ],
      "execution_count": 0,
      "outputs": [
        {
          "output_type": "stream",
          "text": [
            "RULES OF THE GAME\n",
            "\n",
            "If a player's guess is less than 1 or greater than 100, say 'OUT OF BOUNDS' \n",
            "On a player's first turn, if their guess is \n",
            "within 10 of the number, return 'WARM!'' \n",
            "further than 10 away from the number, return 'COLD!'\n",
            "On all subsequent turns, if a guess is\n",
            "closer to the number than the previous guess return 'WARMER!'\n",
            "farther from the number than the previous guess, return 'COLDER!'\n",
            "When the player's guess equals the number, tell them they've guessed correctly and how many guesses it took!\n"
          ],
          "name": "stdout"
        }
      ]
    },
    {
      "cell_type": "markdown",
      "metadata": {
        "id": "Q157j1GaKbVO",
        "colab_type": "text"
      },
      "source": [
        "#### Create a list to store guesses\n",
        "\n",
        "Hint: zero is a good placeholder value. It's useful because it evaluates to \"False\""
      ]
    },
    {
      "cell_type": "code",
      "metadata": {
        "id": "JCTUU4XWKbVP",
        "colab_type": "code",
        "colab": {}
      },
      "source": [
        "guess_list = []"
      ],
      "execution_count": 0,
      "outputs": []
    },
    {
      "cell_type": "markdown",
      "metadata": {
        "id": "e9hXagHsKbVT",
        "colab_type": "text"
      },
      "source": [
        "#### Write a `while` loop that asks for a valid guess. Test it a few times to make sure it works."
      ]
    },
    {
      "cell_type": "code",
      "metadata": {
        "id": "gTPdMe7qKbVU",
        "colab_type": "code",
        "colab": {},
        "outputId": "ac67b2d1-af4c-4779-da85-becbdae87c66"
      },
      "source": [
        "while True:\n",
        "    guess = int(input(\"guess a number between 1 to 100 : \"))\n",
        "    if (guess<1 or guess>100) :\n",
        "        print(\"OUT OF BOUNDS\")\n",
        "        continue\n",
        "        \n",
        "    else:\n",
        "        break"
      ],
      "execution_count": 0,
      "outputs": [
        {
          "output_type": "stream",
          "text": [
            "guess a number between 1 to 10054\n"
          ],
          "name": "stdout"
        }
      ]
    },
    {
      "cell_type": "markdown",
      "metadata": {
        "id": "YLGKfwYHKbVY",
        "colab_type": "text"
      },
      "source": [
        "#### Write a `while` loop that compares the player's guess to our number. If the player guesses correctly, break from the loop. Otherwise, tell the player if they're warmer or colder, and continue asking for guesses.\n",
        "\n",
        "Some hints:\n",
        "* it may help to sketch out all possible combinations on paper first!\n",
        "* you can use the `abs()` function to find the positive difference between two numbers\n",
        "* if you append all new guesses to the list, then the previous guess is given as `guesses[-2]`"
      ]
    },
    {
      "cell_type": "code",
      "metadata": {
        "id": "UQ0Ve24vKbVY",
        "colab_type": "code",
        "colab": {},
        "outputId": "ee174631-9b36-46c9-d9e3-0f60818343e2"
      },
      "source": [
        "count = 1\n",
        "while True:\n",
        "    \n",
        "    guess = int(input(\"guess a number between 1 to 100 : \"))\n",
        "    guess_list.append(guess)\n",
        "    \n",
        "    if (guess<1 or guess>100) :\n",
        "        print(\"OUT OF BOUNDS\")\n",
        "        continue\n",
        "    \n",
        "    if guess == sample:\n",
        "        print(\"You have correctly guess the number and you guess correctly in {} moves\".format(count))\n",
        "        break\n",
        "        \n",
        "    elif count == 1 and abs(guess - sample)<=10 :\n",
        "        print(\"WARM\")\n",
        "        \n",
        "    elif count == 1 and abs(guess - sample)>10 :\n",
        "        print(\"cold\")\n",
        "    \n",
        "    elif abs(guess - sample)>abs(guess_list[-2] - sample) :\n",
        "        print(\"COLDER\")\n",
        "    \n",
        "    else:\n",
        "        print(\"WARMER\")\n",
        "        \n",
        "    count +=1\n",
        "        \n",
        "# we can copy the code from above to take an input\n"
      ],
      "execution_count": 0,
      "outputs": [
        {
          "output_type": "stream",
          "text": [
            "guess a number between 1 to 100767\n",
            "OUT OF BOUNDS\n",
            "guess a number between 1 to 10055\n",
            "cold\n",
            "guess a number between 1 to 10053\n",
            "COLDER\n",
            "guess a number between 1 to 10057\n",
            "WARMER\n",
            "guess a number between 1 to 10097\n",
            "WARMER\n",
            "guess a number between 1 to 10098\n",
            "COLDER\n",
            "guess a number between 1 to 10097\n",
            "WARMER\n",
            "guess a number between 1 to 10096\n",
            "WARMER\n",
            "guess a number between 1 to 10095\n",
            "WARMER\n",
            "guess a number between 1 to 10096\n",
            "COLDER\n",
            "guess a number between 1 to 10095\n",
            "WARMER\n",
            "guess a number between 1 to 10093\n",
            "WARMER\n",
            "guess a number between 1 to 10092\n",
            "WARMER\n",
            "guess a number between 1 to 10091\n",
            "You have correctly guess the number and you guess correctly in 13 moves\n"
          ],
          "name": "stdout"
        }
      ]
    },
    {
      "cell_type": "markdown",
      "metadata": {
        "id": "QmVUcQBKKbVc",
        "colab_type": "text"
      },
      "source": [
        "That's it! You've just programmed your first game!\n",
        "\n",
        "In the next section we'll learn how to turn some of these repetitive actions into *functions* that can be called whenever we need them."
      ]
    },
    {
      "cell_type": "markdown",
      "metadata": {
        "id": "nzKyjb4tKbVd",
        "colab_type": "text"
      },
      "source": [
        "### Good Job!"
      ]
    }
  ]
}