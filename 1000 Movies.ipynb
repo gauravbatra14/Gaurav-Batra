{
  "nbformat": 4,
  "nbformat_minor": 0,
  "metadata": {
    "colab": {
      "name": "Untitled15.ipynb",
      "provenance": []
    },
    "kernelspec": {
      "name": "python3",
      "display_name": "Python 3"
    }
  },
  "cells": [
    {
      "cell_type": "markdown",
      "metadata": {
        "id": "hSMOIkXqEa_O",
        "colab_type": "text"
      },
      "source": [
        "## **Import Library and Packages**"
      ]
    },
    {
      "cell_type": "code",
      "metadata": {
        "id": "-VgSijzQBsoZ",
        "colab_type": "code",
        "colab": {}
      },
      "source": [
        "import numpy as np\n",
        "import pandas as pd\n",
        "import seaborn as sns\n",
        "import matplotlib.pyplot as plt\n",
        "%matplotlib inline"
      ],
      "execution_count": 0,
      "outputs": []
    },
    {
      "cell_type": "markdown",
      "metadata": {
        "id": "m-4Aq7PpEmXi",
        "colab_type": "text"
      },
      "source": [
        "#### **This is 1000 Movies Dataset based on IMDB of 2006 to 2015**"
      ]
    },
    {
      "cell_type": "markdown",
      "metadata": {
        "id": "wZ1cIh7qE1zh",
        "colab_type": "text"
      },
      "source": [
        "This Dataset is about 1000 movies Dataset based on IMDB in last 10 Years."
      ]
    },
    {
      "cell_type": "markdown",
      "metadata": {
        "id": "1r3M0zbrErvZ",
        "colab_type": "text"
      },
      "source": [
        "| **Column Name**    | **Description of Each Column**                   |\n",
        "| -------------      | :---------------------------                     |\n",
        "| Rank               | Movie Rank order |\n",
        "| Title              | title of the film   |\n",
        "| Genre              |A comma-separated list of genres used to classify the  film   |\n",
        "| Description        | Brief one-sentence movie summary  |\n",
        "| Director           |The name of the film's director                 |\n",
        "| Actors             |A comma-separated list of the main stars of the film         |\n",
        "| Year               | The year that the film released as an integer |\n",
        "| Runtime (Minutes)  | The duration of the film in minutes. |\n",
        "| Rating             |User rating for the movie 0-10  |\n",
        "| Votes              | Number of votes |\n",
        "| Revenue (Millions) | Movie revenue in millions      |   \n",
        "| Metascore          | An aggregated average of critic scores. Values are between 0 and 100. Higher scores represent positive reviews. |  "
      ]
    },
    {
      "cell_type": "markdown",
      "metadata": {
        "id": "qXK8CzGLFGYb",
        "colab_type": "text"
      },
      "source": [
        "## **Loading Dataset**"
      ]
    },
    {
      "cell_type": "code",
      "metadata": {
        "id": "RQNmh5bNB4as",
        "colab_type": "code",
        "colab": {
          "base_uri": "https://localhost:8080/",
          "height": 296
        },
        "outputId": "772b7301-e63b-40ff-e145-98217cabac3c"
      },
      "source": [
        "mvs_df = pd.read_csv(\"https://raw.githubusercontent.com/gauravbatra14/Term-1/master/Data/Projects/1000%20movies%20data.csv\")\n",
        "\n",
        "mvs_df.head()"
      ],
      "execution_count": 123,
      "outputs": [
        {
          "output_type": "execute_result",
          "data": {
            "text/html": [
              "<div>\n",
              "<style scoped>\n",
              "    .dataframe tbody tr th:only-of-type {\n",
              "        vertical-align: middle;\n",
              "    }\n",
              "\n",
              "    .dataframe tbody tr th {\n",
              "        vertical-align: top;\n",
              "    }\n",
              "\n",
              "    .dataframe thead th {\n",
              "        text-align: right;\n",
              "    }\n",
              "</style>\n",
              "<table border=\"1\" class=\"dataframe\">\n",
              "  <thead>\n",
              "    <tr style=\"text-align: right;\">\n",
              "      <th></th>\n",
              "      <th>Rank</th>\n",
              "      <th>Title</th>\n",
              "      <th>Genre</th>\n",
              "      <th>Description</th>\n",
              "      <th>Director</th>\n",
              "      <th>Actors</th>\n",
              "      <th>Year</th>\n",
              "      <th>Runtime (Minutes)</th>\n",
              "      <th>Rating</th>\n",
              "      <th>Votes</th>\n",
              "      <th>Revenue (Millions)</th>\n",
              "      <th>Metascore</th>\n",
              "    </tr>\n",
              "  </thead>\n",
              "  <tbody>\n",
              "    <tr>\n",
              "      <th>0</th>\n",
              "      <td>1</td>\n",
              "      <td>Guardians of the Galaxy</td>\n",
              "      <td>Action,Adventure,Sci-Fi</td>\n",
              "      <td>A group of intergalactic criminals are forced ...</td>\n",
              "      <td>James Gunn</td>\n",
              "      <td>Chris Pratt, Vin Diesel, Bradley Cooper, Zoe S...</td>\n",
              "      <td>2014</td>\n",
              "      <td>121</td>\n",
              "      <td>8.1</td>\n",
              "      <td>757074</td>\n",
              "      <td>333.13</td>\n",
              "      <td>76.0</td>\n",
              "    </tr>\n",
              "    <tr>\n",
              "      <th>1</th>\n",
              "      <td>2</td>\n",
              "      <td>Prometheus</td>\n",
              "      <td>Adventure,Mystery,Sci-Fi</td>\n",
              "      <td>Following clues to the origin of mankind, a te...</td>\n",
              "      <td>Ridley Scott</td>\n",
              "      <td>Noomi Rapace, Logan Marshall-Green, Michael Fa...</td>\n",
              "      <td>2012</td>\n",
              "      <td>124</td>\n",
              "      <td>7.0</td>\n",
              "      <td>485820</td>\n",
              "      <td>126.46</td>\n",
              "      <td>65.0</td>\n",
              "    </tr>\n",
              "    <tr>\n",
              "      <th>2</th>\n",
              "      <td>3</td>\n",
              "      <td>Split</td>\n",
              "      <td>Horror,Thriller</td>\n",
              "      <td>Three girls are kidnapped by a man with a diag...</td>\n",
              "      <td>M. Night Shyamalan</td>\n",
              "      <td>James McAvoy, Anya Taylor-Joy, Haley Lu Richar...</td>\n",
              "      <td>2016</td>\n",
              "      <td>117</td>\n",
              "      <td>7.3</td>\n",
              "      <td>157606</td>\n",
              "      <td>138.12</td>\n",
              "      <td>62.0</td>\n",
              "    </tr>\n",
              "    <tr>\n",
              "      <th>3</th>\n",
              "      <td>4</td>\n",
              "      <td>Sing</td>\n",
              "      <td>Animation,Comedy,Family</td>\n",
              "      <td>In a city of humanoid animals, a hustling thea...</td>\n",
              "      <td>Christophe Lourdelet</td>\n",
              "      <td>Matthew McConaughey,Reese Witherspoon, Seth Ma...</td>\n",
              "      <td>2016</td>\n",
              "      <td>108</td>\n",
              "      <td>7.2</td>\n",
              "      <td>60545</td>\n",
              "      <td>270.32</td>\n",
              "      <td>59.0</td>\n",
              "    </tr>\n",
              "    <tr>\n",
              "      <th>4</th>\n",
              "      <td>5</td>\n",
              "      <td>Suicide Squad</td>\n",
              "      <td>Action,Adventure,Fantasy</td>\n",
              "      <td>A secret government agency recruits some of th...</td>\n",
              "      <td>David Ayer</td>\n",
              "      <td>Will Smith, Jared Leto, Margot Robbie, Viola D...</td>\n",
              "      <td>2016</td>\n",
              "      <td>123</td>\n",
              "      <td>6.2</td>\n",
              "      <td>393727</td>\n",
              "      <td>325.02</td>\n",
              "      <td>40.0</td>\n",
              "    </tr>\n",
              "  </tbody>\n",
              "</table>\n",
              "</div>"
            ],
            "text/plain": [
              "   Rank                    Title  ... Revenue (Millions) Metascore\n",
              "0     1  Guardians of the Galaxy  ...             333.13      76.0\n",
              "1     2               Prometheus  ...             126.46      65.0\n",
              "2     3                    Split  ...             138.12      62.0\n",
              "3     4                     Sing  ...             270.32      59.0\n",
              "4     5            Suicide Squad  ...             325.02      40.0\n",
              "\n",
              "[5 rows x 12 columns]"
            ]
          },
          "metadata": {
            "tags": []
          },
          "execution_count": 123
        }
      ]
    },
    {
      "cell_type": "code",
      "metadata": {
        "id": "oE-9JVpfCCLs",
        "colab_type": "code",
        "colab": {
          "base_uri": "https://localhost:8080/",
          "height": 336
        },
        "outputId": "13e1adae-fac3-43eb-e037-161cf7011b7e"
      },
      "source": [
        "mvs_df.info()"
      ],
      "execution_count": 124,
      "outputs": [
        {
          "output_type": "stream",
          "text": [
            "<class 'pandas.core.frame.DataFrame'>\n",
            "RangeIndex: 1000 entries, 0 to 999\n",
            "Data columns (total 12 columns):\n",
            " #   Column              Non-Null Count  Dtype  \n",
            "---  ------              --------------  -----  \n",
            " 0   Rank                1000 non-null   int64  \n",
            " 1   Title               1000 non-null   object \n",
            " 2   Genre               1000 non-null   object \n",
            " 3   Description         1000 non-null   object \n",
            " 4   Director            1000 non-null   object \n",
            " 5   Actors              1000 non-null   object \n",
            " 6   Year                1000 non-null   int64  \n",
            " 7   Runtime (Minutes)   1000 non-null   int64  \n",
            " 8   Rating              1000 non-null   float64\n",
            " 9   Votes               1000 non-null   int64  \n",
            " 10  Revenue (Millions)  872 non-null    float64\n",
            " 11  Metascore           936 non-null    float64\n",
            "dtypes: float64(3), int64(4), object(5)\n",
            "memory usage: 93.9+ KB\n"
          ],
          "name": "stdout"
        }
      ]
    },
    {
      "cell_type": "markdown",
      "metadata": {
        "id": "nkQjipFwGqXy",
        "colab_type": "text"
      },
      "source": [
        "#### As we found that for which years, Data has been picked up."
      ]
    },
    {
      "cell_type": "code",
      "metadata": {
        "id": "5qPyvX8GEygU",
        "colab_type": "code",
        "colab": {
          "base_uri": "https://localhost:8080/",
          "height": 34
        },
        "outputId": "c6dccfaa-1298-49b2-f350-e406e44af366"
      },
      "source": [
        "mvs_df['Year'].unique()"
      ],
      "execution_count": 125,
      "outputs": [
        {
          "output_type": "execute_result",
          "data": {
            "text/plain": [
              "array([2014, 2012, 2016, 2015, 2007, 2011, 2008, 2006, 2009, 2010, 2013])"
            ]
          },
          "metadata": {
            "tags": []
          },
          "execution_count": 125
        }
      ]
    },
    {
      "cell_type": "code",
      "metadata": {
        "id": "E_ifCee5CIJ0",
        "colab_type": "code",
        "colab": {
          "base_uri": "https://localhost:8080/",
          "height": 235
        },
        "outputId": "74fe3e93-6243-42ed-bb73-aea855186faf"
      },
      "source": [
        "mvs_df.isnull().sum()"
      ],
      "execution_count": 126,
      "outputs": [
        {
          "output_type": "execute_result",
          "data": {
            "text/plain": [
              "Rank                    0\n",
              "Title                   0\n",
              "Genre                   0\n",
              "Description             0\n",
              "Director                0\n",
              "Actors                  0\n",
              "Year                    0\n",
              "Runtime (Minutes)       0\n",
              "Rating                  0\n",
              "Votes                   0\n",
              "Revenue (Millions)    128\n",
              "Metascore              64\n",
              "dtype: int64"
            ]
          },
          "metadata": {
            "tags": []
          },
          "execution_count": 126
        }
      ]
    },
    {
      "cell_type": "markdown",
      "metadata": {
        "id": "jByKNIuiG2Tc",
        "colab_type": "text"
      },
      "source": [
        "After uploading the data, 128 Columns are blank in revenue and 64 columns are blank in Metascore as Metascore is Critics Score and highest ratings will be Positive scores."
      ]
    },
    {
      "cell_type": "code",
      "metadata": {
        "id": "s4RS58xnCP_y",
        "colab_type": "code",
        "colab": {}
      },
      "source": [
        "mvs_df.rename(columns = {'Runtime (Minutes)' : 'Runtime_mins', 'Revenue (Millions)' : 'Revenue_Millions'}, inplace = True)"
      ],
      "execution_count": 0,
      "outputs": []
    },
    {
      "cell_type": "markdown",
      "metadata": {
        "id": "COgKItF0FQzs",
        "colab_type": "text"
      },
      "source": [
        "## **Average Revenue in Millions**"
      ]
    },
    {
      "cell_type": "code",
      "metadata": {
        "id": "CikZAzC3Ja_2",
        "colab_type": "code",
        "colab": {
          "base_uri": "https://localhost:8080/",
          "height": 34
        },
        "outputId": "9168bdaa-8f1e-4987-c61a-c88c5acd7b57"
      },
      "source": [
        "mvs_df['Revenue_Millions'].mean()"
      ],
      "execution_count": 128,
      "outputs": [
        {
          "output_type": "execute_result",
          "data": {
            "text/plain": [
              "82.95637614678897"
            ]
          },
          "metadata": {
            "tags": []
          },
          "execution_count": 128
        }
      ]
    },
    {
      "cell_type": "markdown",
      "metadata": {
        "id": "3oih6z5nHdQw",
        "colab_type": "text"
      },
      "source": [
        "#### As we have taken mean in both columns for removing null values."
      ]
    },
    {
      "cell_type": "code",
      "metadata": {
        "id": "pOFadaj7J42K",
        "colab_type": "code",
        "colab": {}
      },
      "source": [
        "mvs_df['Revenue_Millions'].fillna(mvs_df['Revenue_Millions'].mean(), inplace = True)"
      ],
      "execution_count": 0,
      "outputs": []
    },
    {
      "cell_type": "code",
      "metadata": {
        "id": "FA1i0ho3HOiD",
        "colab_type": "code",
        "colab": {}
      },
      "source": [
        "mvs_df['Metascore'].fillna(mvs_df['Metascore'].mean(), inplace = True)"
      ],
      "execution_count": 0,
      "outputs": []
    },
    {
      "cell_type": "code",
      "metadata": {
        "id": "AS6ne7_lKIqU",
        "colab_type": "code",
        "colab": {
          "base_uri": "https://localhost:8080/",
          "height": 235
        },
        "outputId": "1e2abf67-dba6-458e-909d-d77babd6a659"
      },
      "source": [
        "mvs_df.isnull().sum()"
      ],
      "execution_count": 131,
      "outputs": [
        {
          "output_type": "execute_result",
          "data": {
            "text/plain": [
              "Rank                0\n",
              "Title               0\n",
              "Genre               0\n",
              "Description         0\n",
              "Director            0\n",
              "Actors              0\n",
              "Year                0\n",
              "Runtime_mins        0\n",
              "Rating              0\n",
              "Votes               0\n",
              "Revenue_Millions    0\n",
              "Metascore           0\n",
              "dtype: int64"
            ]
          },
          "metadata": {
            "tags": []
          },
          "execution_count": 131
        }
      ]
    },
    {
      "cell_type": "markdown",
      "metadata": {
        "id": "k08o1I7PFaGx",
        "colab_type": "text"
      },
      "source": [
        "### **Data Visualizations and EDA on Dataset**"
      ]
    },
    {
      "cell_type": "code",
      "metadata": {
        "id": "NdHOGRLt-zA9",
        "colab_type": "code",
        "colab": {
          "base_uri": "https://localhost:8080/",
          "height": 186
        },
        "outputId": "8f537b35-e16d-404a-950d-19d59d03f31d"
      },
      "source": [
        "movie_subset = mvs_df.loc['Prometheus':'Sing']\n",
        "\n",
        "movie_subset = mvs_df.iloc[1:4]\n",
        "\n",
        "movie_subset"
      ],
      "execution_count": 132,
      "outputs": [
        {
          "output_type": "execute_result",
          "data": {
            "text/html": [
              "<div>\n",
              "<style scoped>\n",
              "    .dataframe tbody tr th:only-of-type {\n",
              "        vertical-align: middle;\n",
              "    }\n",
              "\n",
              "    .dataframe tbody tr th {\n",
              "        vertical-align: top;\n",
              "    }\n",
              "\n",
              "    .dataframe thead th {\n",
              "        text-align: right;\n",
              "    }\n",
              "</style>\n",
              "<table border=\"1\" class=\"dataframe\">\n",
              "  <thead>\n",
              "    <tr style=\"text-align: right;\">\n",
              "      <th></th>\n",
              "      <th>Rank</th>\n",
              "      <th>Title</th>\n",
              "      <th>Genre</th>\n",
              "      <th>Description</th>\n",
              "      <th>Director</th>\n",
              "      <th>Actors</th>\n",
              "      <th>Year</th>\n",
              "      <th>Runtime_mins</th>\n",
              "      <th>Rating</th>\n",
              "      <th>Votes</th>\n",
              "      <th>Revenue_Millions</th>\n",
              "      <th>Metascore</th>\n",
              "    </tr>\n",
              "  </thead>\n",
              "  <tbody>\n",
              "    <tr>\n",
              "      <th>1</th>\n",
              "      <td>2</td>\n",
              "      <td>Prometheus</td>\n",
              "      <td>Adventure,Mystery,Sci-Fi</td>\n",
              "      <td>Following clues to the origin of mankind, a te...</td>\n",
              "      <td>Ridley Scott</td>\n",
              "      <td>Noomi Rapace, Logan Marshall-Green, Michael Fa...</td>\n",
              "      <td>2012</td>\n",
              "      <td>124</td>\n",
              "      <td>7.0</td>\n",
              "      <td>485820</td>\n",
              "      <td>126.46</td>\n",
              "      <td>65.0</td>\n",
              "    </tr>\n",
              "    <tr>\n",
              "      <th>2</th>\n",
              "      <td>3</td>\n",
              "      <td>Split</td>\n",
              "      <td>Horror,Thriller</td>\n",
              "      <td>Three girls are kidnapped by a man with a diag...</td>\n",
              "      <td>M. Night Shyamalan</td>\n",
              "      <td>James McAvoy, Anya Taylor-Joy, Haley Lu Richar...</td>\n",
              "      <td>2016</td>\n",
              "      <td>117</td>\n",
              "      <td>7.3</td>\n",
              "      <td>157606</td>\n",
              "      <td>138.12</td>\n",
              "      <td>62.0</td>\n",
              "    </tr>\n",
              "    <tr>\n",
              "      <th>3</th>\n",
              "      <td>4</td>\n",
              "      <td>Sing</td>\n",
              "      <td>Animation,Comedy,Family</td>\n",
              "      <td>In a city of humanoid animals, a hustling thea...</td>\n",
              "      <td>Christophe Lourdelet</td>\n",
              "      <td>Matthew McConaughey,Reese Witherspoon, Seth Ma...</td>\n",
              "      <td>2016</td>\n",
              "      <td>108</td>\n",
              "      <td>7.2</td>\n",
              "      <td>60545</td>\n",
              "      <td>270.32</td>\n",
              "      <td>59.0</td>\n",
              "    </tr>\n",
              "  </tbody>\n",
              "</table>\n",
              "</div>"
            ],
            "text/plain": [
              "   Rank       Title  ... Revenue_Millions Metascore\n",
              "1     2  Prometheus  ...           126.46      65.0\n",
              "2     3       Split  ...           138.12      62.0\n",
              "3     4        Sing  ...           270.32      59.0\n",
              "\n",
              "[3 rows x 12 columns]"
            ]
          },
          "metadata": {
            "tags": []
          },
          "execution_count": 132
        }
      ]
    },
    {
      "cell_type": "code",
      "metadata": {
        "id": "6YoyN3K9-5Bw",
        "colab_type": "code",
        "colab": {
          "base_uri": "https://localhost:8080/",
          "height": 777
        },
        "outputId": "fbe8d17a-84d7-47be-f7ac-125cb339c6ae"
      },
      "source": [
        "mvs_df[(mvs_df['Genre'] == 'Thriller') | (mvs_df['Director'] == 'M. Night Shyamalan')]"
      ],
      "execution_count": 133,
      "outputs": [
        {
          "output_type": "execute_result",
          "data": {
            "text/html": [
              "<div>\n",
              "<style scoped>\n",
              "    .dataframe tbody tr th:only-of-type {\n",
              "        vertical-align: middle;\n",
              "    }\n",
              "\n",
              "    .dataframe tbody tr th {\n",
              "        vertical-align: top;\n",
              "    }\n",
              "\n",
              "    .dataframe thead th {\n",
              "        text-align: right;\n",
              "    }\n",
              "</style>\n",
              "<table border=\"1\" class=\"dataframe\">\n",
              "  <thead>\n",
              "    <tr style=\"text-align: right;\">\n",
              "      <th></th>\n",
              "      <th>Rank</th>\n",
              "      <th>Title</th>\n",
              "      <th>Genre</th>\n",
              "      <th>Description</th>\n",
              "      <th>Director</th>\n",
              "      <th>Actors</th>\n",
              "      <th>Year</th>\n",
              "      <th>Runtime_mins</th>\n",
              "      <th>Rating</th>\n",
              "      <th>Votes</th>\n",
              "      <th>Revenue_Millions</th>\n",
              "      <th>Metascore</th>\n",
              "    </tr>\n",
              "  </thead>\n",
              "  <tbody>\n",
              "    <tr>\n",
              "      <th>2</th>\n",
              "      <td>3</td>\n",
              "      <td>Split</td>\n",
              "      <td>Horror,Thriller</td>\n",
              "      <td>Three girls are kidnapped by a man with a diag...</td>\n",
              "      <td>M. Night Shyamalan</td>\n",
              "      <td>James McAvoy, Anya Taylor-Joy, Haley Lu Richar...</td>\n",
              "      <td>2016</td>\n",
              "      <td>117</td>\n",
              "      <td>7.3</td>\n",
              "      <td>157606</td>\n",
              "      <td>138.120000</td>\n",
              "      <td>62.000000</td>\n",
              "    </tr>\n",
              "    <tr>\n",
              "      <th>282</th>\n",
              "      <td>283</td>\n",
              "      <td>Death Proof</td>\n",
              "      <td>Thriller</td>\n",
              "      <td>Two separate sets of voluptuous women are stal...</td>\n",
              "      <td>Quentin Tarantino</td>\n",
              "      <td>Kurt Russell, Zoë Bell, Rosario Dawson, Vaness...</td>\n",
              "      <td>2007</td>\n",
              "      <td>113</td>\n",
              "      <td>7.1</td>\n",
              "      <td>220236</td>\n",
              "      <td>82.956376</td>\n",
              "      <td>58.985043</td>\n",
              "    </tr>\n",
              "    <tr>\n",
              "      <th>289</th>\n",
              "      <td>290</td>\n",
              "      <td>Iris</td>\n",
              "      <td>Thriller</td>\n",
              "      <td>Iris, young wife of a businessman, disappears ...</td>\n",
              "      <td>Jalil Lespert</td>\n",
              "      <td>Romain Duris, Charlotte Le Bon, Jalil Lespert,...</td>\n",
              "      <td>2016</td>\n",
              "      <td>99</td>\n",
              "      <td>6.1</td>\n",
              "      <td>726</td>\n",
              "      <td>82.956376</td>\n",
              "      <td>58.985043</td>\n",
              "    </tr>\n",
              "    <tr>\n",
              "      <th>318</th>\n",
              "      <td>319</td>\n",
              "      <td>The Visit</td>\n",
              "      <td>Comedy,Horror,Thriller</td>\n",
              "      <td>Two siblings become increasingly frightened by...</td>\n",
              "      <td>M. Night Shyamalan</td>\n",
              "      <td>Olivia DeJonge, Ed Oxenbould, Deanna Dunagan, ...</td>\n",
              "      <td>2015</td>\n",
              "      <td>94</td>\n",
              "      <td>6.2</td>\n",
              "      <td>81429</td>\n",
              "      <td>65.070000</td>\n",
              "      <td>55.000000</td>\n",
              "    </tr>\n",
              "    <tr>\n",
              "      <th>444</th>\n",
              "      <td>445</td>\n",
              "      <td>The Thinning</td>\n",
              "      <td>Thriller</td>\n",
              "      <td>\"The Thinning\" takes place in a post-apocalypt...</td>\n",
              "      <td>Michael J. Gallagher</td>\n",
              "      <td>Logan Paul, Peyton List, Lia Marie Johnson,Cal...</td>\n",
              "      <td>2016</td>\n",
              "      <td>81</td>\n",
              "      <td>6.0</td>\n",
              "      <td>4531</td>\n",
              "      <td>82.956376</td>\n",
              "      <td>31.000000</td>\n",
              "    </tr>\n",
              "    <tr>\n",
              "      <th>512</th>\n",
              "      <td>513</td>\n",
              "      <td>The Happening</td>\n",
              "      <td>Sci-Fi,Thriller</td>\n",
              "      <td>A science teacher, his wife, and a young girl ...</td>\n",
              "      <td>M. Night Shyamalan</td>\n",
              "      <td>Mark Wahlberg, Zooey Deschanel, John Leguizamo...</td>\n",
              "      <td>2008</td>\n",
              "      <td>91</td>\n",
              "      <td>5.0</td>\n",
              "      <td>170897</td>\n",
              "      <td>64.510000</td>\n",
              "      <td>34.000000</td>\n",
              "    </tr>\n",
              "    <tr>\n",
              "      <th>581</th>\n",
              "      <td>582</td>\n",
              "      <td>The Last Airbender</td>\n",
              "      <td>Action,Adventure,Family</td>\n",
              "      <td>Follows the adventures of Aang, a young succes...</td>\n",
              "      <td>M. Night Shyamalan</td>\n",
              "      <td>Noah Ringer, Nicola Peltz, Jackson Rathbone,De...</td>\n",
              "      <td>2010</td>\n",
              "      <td>103</td>\n",
              "      <td>4.2</td>\n",
              "      <td>125129</td>\n",
              "      <td>82.956376</td>\n",
              "      <td>20.000000</td>\n",
              "    </tr>\n",
              "    <tr>\n",
              "      <th>729</th>\n",
              "      <td>730</td>\n",
              "      <td>The Guest</td>\n",
              "      <td>Thriller</td>\n",
              "      <td>A soldier introduces himself to the Peterson f...</td>\n",
              "      <td>Adam Wingard</td>\n",
              "      <td>Dan Stevens, Sheila Kelley, Maika Monroe, Joel...</td>\n",
              "      <td>2014</td>\n",
              "      <td>100</td>\n",
              "      <td>6.7</td>\n",
              "      <td>71069</td>\n",
              "      <td>0.320000</td>\n",
              "      <td>76.000000</td>\n",
              "    </tr>\n",
              "    <tr>\n",
              "      <th>746</th>\n",
              "      <td>747</td>\n",
              "      <td>Only for One Night</td>\n",
              "      <td>Thriller</td>\n",
              "      <td>A married womans husband with a perfect life c...</td>\n",
              "      <td>Chris Stokes</td>\n",
              "      <td>Brian White, Karrueche Tran, Angelique Pereira...</td>\n",
              "      <td>2016</td>\n",
              "      <td>86</td>\n",
              "      <td>4.6</td>\n",
              "      <td>313</td>\n",
              "      <td>82.956376</td>\n",
              "      <td>60.000000</td>\n",
              "    </tr>\n",
              "    <tr>\n",
              "      <th>773</th>\n",
              "      <td>774</td>\n",
              "      <td>Lady in the Water</td>\n",
              "      <td>Drama,Fantasy,Mystery</td>\n",
              "      <td>Apartment building superintendent Cleveland He...</td>\n",
              "      <td>M. Night Shyamalan</td>\n",
              "      <td>Paul Giamatti, Bryce Dallas Howard, Jeffrey Wr...</td>\n",
              "      <td>2006</td>\n",
              "      <td>110</td>\n",
              "      <td>5.6</td>\n",
              "      <td>82701</td>\n",
              "      <td>42.270000</td>\n",
              "      <td>36.000000</td>\n",
              "    </tr>\n",
              "    <tr>\n",
              "      <th>848</th>\n",
              "      <td>849</td>\n",
              "      <td>Mean Dreams</td>\n",
              "      <td>Thriller</td>\n",
              "      <td>Follows Casey and Jonas, two teenagers despera...</td>\n",
              "      <td>Nathan Morlando</td>\n",
              "      <td>Sophie Nélisse, Josh Wiggins, Joe Cobden, Bill...</td>\n",
              "      <td>2016</td>\n",
              "      <td>108</td>\n",
              "      <td>6.3</td>\n",
              "      <td>1066</td>\n",
              "      <td>82.956376</td>\n",
              "      <td>64.000000</td>\n",
              "    </tr>\n",
              "    <tr>\n",
              "      <th>911</th>\n",
              "      <td>912</td>\n",
              "      <td>I Am the Pretty Thing That Lives in the House</td>\n",
              "      <td>Thriller</td>\n",
              "      <td>A young nurse takes care of elderly author who...</td>\n",
              "      <td>Oz Perkins</td>\n",
              "      <td>Ruth Wilson, Paula Prentiss, Lucy Boynton, Bob...</td>\n",
              "      <td>2016</td>\n",
              "      <td>87</td>\n",
              "      <td>4.7</td>\n",
              "      <td>4204</td>\n",
              "      <td>82.956376</td>\n",
              "      <td>68.000000</td>\n",
              "    </tr>\n",
              "    <tr>\n",
              "      <th>933</th>\n",
              "      <td>934</td>\n",
              "      <td>Detour</td>\n",
              "      <td>Thriller</td>\n",
              "      <td>A young law student blindly enters into a pact...</td>\n",
              "      <td>Christopher Smith</td>\n",
              "      <td>Tye Sheridan, Emory Cohen, Bel Powley,Stephen ...</td>\n",
              "      <td>2016</td>\n",
              "      <td>97</td>\n",
              "      <td>6.3</td>\n",
              "      <td>2205</td>\n",
              "      <td>82.956376</td>\n",
              "      <td>46.000000</td>\n",
              "    </tr>\n",
              "    <tr>\n",
              "      <th>942</th>\n",
              "      <td>943</td>\n",
              "      <td>Transpecos</td>\n",
              "      <td>Thriller</td>\n",
              "      <td>For three Border Patrol agents working a remot...</td>\n",
              "      <td>Greg Kwedar</td>\n",
              "      <td>Johnny Simmons, Gabriel Luna, Clifton Collins ...</td>\n",
              "      <td>2016</td>\n",
              "      <td>86</td>\n",
              "      <td>5.8</td>\n",
              "      <td>1292</td>\n",
              "      <td>82.956376</td>\n",
              "      <td>73.000000</td>\n",
              "    </tr>\n",
              "    <tr>\n",
              "      <th>948</th>\n",
              "      <td>949</td>\n",
              "      <td>After Earth</td>\n",
              "      <td>Action,Adventure,Sci-Fi</td>\n",
              "      <td>A crash landing leaves Kitai Raige and his fat...</td>\n",
              "      <td>M. Night Shyamalan</td>\n",
              "      <td>Jaden Smith, David Denman, Will Smith,Sophie O...</td>\n",
              "      <td>2013</td>\n",
              "      <td>100</td>\n",
              "      <td>4.9</td>\n",
              "      <td>166512</td>\n",
              "      <td>60.520000</td>\n",
              "      <td>33.000000</td>\n",
              "    </tr>\n",
              "  </tbody>\n",
              "</table>\n",
              "</div>"
            ],
            "text/plain": [
              "     Rank  ...  Metascore\n",
              "2       3  ...  62.000000\n",
              "282   283  ...  58.985043\n",
              "289   290  ...  58.985043\n",
              "318   319  ...  55.000000\n",
              "444   445  ...  31.000000\n",
              "512   513  ...  34.000000\n",
              "581   582  ...  20.000000\n",
              "729   730  ...  76.000000\n",
              "746   747  ...  60.000000\n",
              "773   774  ...  36.000000\n",
              "848   849  ...  64.000000\n",
              "911   912  ...  68.000000\n",
              "933   934  ...  46.000000\n",
              "942   943  ...  73.000000\n",
              "948   949  ...  33.000000\n",
              "\n",
              "[15 rows x 12 columns]"
            ]
          },
          "metadata": {
            "tags": []
          },
          "execution_count": 133
        }
      ]
    },
    {
      "cell_type": "code",
      "metadata": {
        "id": "VB4y-ksT_rTx",
        "colab_type": "code",
        "colab": {
          "base_uri": "https://localhost:8080/",
          "height": 595
        },
        "outputId": "5fa10c24-6220-4095-a272-539edb1d6963"
      },
      "source": [
        "mvs_df[(mvs_df['Year'] == 2015) & (mvs_df['Revenue_Millions'] >= 100.0)].head(10)"
      ],
      "execution_count": 134,
      "outputs": [
        {
          "output_type": "execute_result",
          "data": {
            "text/html": [
              "<div>\n",
              "<style scoped>\n",
              "    .dataframe tbody tr th:only-of-type {\n",
              "        vertical-align: middle;\n",
              "    }\n",
              "\n",
              "    .dataframe tbody tr th {\n",
              "        vertical-align: top;\n",
              "    }\n",
              "\n",
              "    .dataframe thead th {\n",
              "        text-align: right;\n",
              "    }\n",
              "</style>\n",
              "<table border=\"1\" class=\"dataframe\">\n",
              "  <thead>\n",
              "    <tr style=\"text-align: right;\">\n",
              "      <th></th>\n",
              "      <th>Rank</th>\n",
              "      <th>Title</th>\n",
              "      <th>Genre</th>\n",
              "      <th>Description</th>\n",
              "      <th>Director</th>\n",
              "      <th>Actors</th>\n",
              "      <th>Year</th>\n",
              "      <th>Runtime_mins</th>\n",
              "      <th>Rating</th>\n",
              "      <th>Votes</th>\n",
              "      <th>Revenue_Millions</th>\n",
              "      <th>Metascore</th>\n",
              "    </tr>\n",
              "  </thead>\n",
              "  <tbody>\n",
              "    <tr>\n",
              "      <th>50</th>\n",
              "      <td>51</td>\n",
              "      <td>Star Wars: Episode VII - The Force Awakens</td>\n",
              "      <td>Action,Adventure,Fantasy</td>\n",
              "      <td>Three decades after the defeat of the Galactic...</td>\n",
              "      <td>J.J. Abrams</td>\n",
              "      <td>Daisy Ridley, John Boyega, Oscar Isaac, Domhna...</td>\n",
              "      <td>2015</td>\n",
              "      <td>136</td>\n",
              "      <td>8.1</td>\n",
              "      <td>661608</td>\n",
              "      <td>936.63</td>\n",
              "      <td>81.0</td>\n",
              "    </tr>\n",
              "    <tr>\n",
              "      <th>63</th>\n",
              "      <td>64</td>\n",
              "      <td>Fifty Shades of Grey</td>\n",
              "      <td>Drama,Romance,Thriller</td>\n",
              "      <td>Literature student Anastasia Steele's life cha...</td>\n",
              "      <td>Sam Taylor-Johnson</td>\n",
              "      <td>Dakota Johnson, Jamie Dornan, Jennifer Ehle,El...</td>\n",
              "      <td>2015</td>\n",
              "      <td>125</td>\n",
              "      <td>4.1</td>\n",
              "      <td>244474</td>\n",
              "      <td>166.15</td>\n",
              "      <td>46.0</td>\n",
              "    </tr>\n",
              "    <tr>\n",
              "      <th>67</th>\n",
              "      <td>68</td>\n",
              "      <td>Mad Max: Fury Road</td>\n",
              "      <td>Action,Adventure,Sci-Fi</td>\n",
              "      <td>A woman rebels against a tyrannical ruler in p...</td>\n",
              "      <td>George Miller</td>\n",
              "      <td>Tom Hardy, Charlize Theron, Nicholas Hoult, Zo...</td>\n",
              "      <td>2015</td>\n",
              "      <td>120</td>\n",
              "      <td>8.1</td>\n",
              "      <td>632842</td>\n",
              "      <td>153.63</td>\n",
              "      <td>90.0</td>\n",
              "    </tr>\n",
              "    <tr>\n",
              "      <th>84</th>\n",
              "      <td>85</td>\n",
              "      <td>Furious Seven</td>\n",
              "      <td>Action,Crime,Thriller</td>\n",
              "      <td>Deckard Shaw seeks revenge against Dominic Tor...</td>\n",
              "      <td>James Wan</td>\n",
              "      <td>Vin Diesel, Paul Walker, Dwayne Johnson, Jason...</td>\n",
              "      <td>2015</td>\n",
              "      <td>137</td>\n",
              "      <td>7.2</td>\n",
              "      <td>301249</td>\n",
              "      <td>350.03</td>\n",
              "      <td>67.0</td>\n",
              "    </tr>\n",
              "    <tr>\n",
              "      <th>85</th>\n",
              "      <td>86</td>\n",
              "      <td>Jurassic World</td>\n",
              "      <td>Action,Adventure,Sci-Fi</td>\n",
              "      <td>A new theme park, built on the original site o...</td>\n",
              "      <td>Colin Trevorrow</td>\n",
              "      <td>Chris Pratt, Bryce Dallas Howard, Ty Simpkins,...</td>\n",
              "      <td>2015</td>\n",
              "      <td>124</td>\n",
              "      <td>7.0</td>\n",
              "      <td>455169</td>\n",
              "      <td>652.18</td>\n",
              "      <td>59.0</td>\n",
              "    </tr>\n",
              "    <tr>\n",
              "      <th>94</th>\n",
              "      <td>95</td>\n",
              "      <td>Avengers: Age of Ultron</td>\n",
              "      <td>Action,Adventure,Sci-Fi</td>\n",
              "      <td>When Tony Stark and Bruce Banner try to jump-s...</td>\n",
              "      <td>Joss Whedon</td>\n",
              "      <td>Robert Downey Jr., Chris Evans, Mark Ruffalo, ...</td>\n",
              "      <td>2015</td>\n",
              "      <td>141</td>\n",
              "      <td>7.4</td>\n",
              "      <td>516895</td>\n",
              "      <td>458.99</td>\n",
              "      <td>66.0</td>\n",
              "    </tr>\n",
              "    <tr>\n",
              "      <th>102</th>\n",
              "      <td>103</td>\n",
              "      <td>The Martian</td>\n",
              "      <td>Adventure,Drama,Sci-Fi</td>\n",
              "      <td>An astronaut becomes stranded on Mars after hi...</td>\n",
              "      <td>Ridley Scott</td>\n",
              "      <td>Matt Damon, Jessica Chastain, Kristen Wiig, Ka...</td>\n",
              "      <td>2015</td>\n",
              "      <td>144</td>\n",
              "      <td>8.0</td>\n",
              "      <td>556097</td>\n",
              "      <td>228.43</td>\n",
              "      <td>80.0</td>\n",
              "    </tr>\n",
              "    <tr>\n",
              "      <th>129</th>\n",
              "      <td>130</td>\n",
              "      <td>The Revenant</td>\n",
              "      <td>Adventure,Drama,Thriller</td>\n",
              "      <td>A frontiersman on a fur trading expedition in ...</td>\n",
              "      <td>Alejandro González Iñárritu</td>\n",
              "      <td>Leonardo DiCaprio, Tom Hardy, Will Poulter, Do...</td>\n",
              "      <td>2015</td>\n",
              "      <td>156</td>\n",
              "      <td>8.0</td>\n",
              "      <td>499424</td>\n",
              "      <td>183.64</td>\n",
              "      <td>76.0</td>\n",
              "    </tr>\n",
              "    <tr>\n",
              "      <th>169</th>\n",
              "      <td>170</td>\n",
              "      <td>Spectre</td>\n",
              "      <td>Action,Adventure,Thriller</td>\n",
              "      <td>A cryptic message from Bond's past sends him o...</td>\n",
              "      <td>Sam Mendes</td>\n",
              "      <td>Daniel Craig, Christoph Waltz, Léa Seydoux, Ra...</td>\n",
              "      <td>2015</td>\n",
              "      <td>148</td>\n",
              "      <td>6.8</td>\n",
              "      <td>308981</td>\n",
              "      <td>200.07</td>\n",
              "      <td>60.0</td>\n",
              "    </tr>\n",
              "    <tr>\n",
              "      <th>179</th>\n",
              "      <td>180</td>\n",
              "      <td>Ant-Man</td>\n",
              "      <td>Action,Adventure,Comedy</td>\n",
              "      <td>Armed with a super-suit with the astonishing a...</td>\n",
              "      <td>Peyton Reed</td>\n",
              "      <td>Paul Rudd, Michael Douglas, Corey Stoll, Evang...</td>\n",
              "      <td>2015</td>\n",
              "      <td>117</td>\n",
              "      <td>7.3</td>\n",
              "      <td>368912</td>\n",
              "      <td>180.19</td>\n",
              "      <td>64.0</td>\n",
              "    </tr>\n",
              "  </tbody>\n",
              "</table>\n",
              "</div>"
            ],
            "text/plain": [
              "     Rank  ... Metascore\n",
              "50     51  ...      81.0\n",
              "63     64  ...      46.0\n",
              "67     68  ...      90.0\n",
              "84     85  ...      67.0\n",
              "85     86  ...      59.0\n",
              "94     95  ...      66.0\n",
              "102   103  ...      80.0\n",
              "129   130  ...      76.0\n",
              "169   170  ...      60.0\n",
              "179   180  ...      64.0\n",
              "\n",
              "[10 rows x 12 columns]"
            ]
          },
          "metadata": {
            "tags": []
          },
          "execution_count": 134
        }
      ]
    },
    {
      "cell_type": "markdown",
      "metadata": {
        "id": "Makd5fu-Fk_I",
        "colab_type": "text"
      },
      "source": [
        "### **Top 10 Movies as per their Revenue(In Millions)**"
      ]
    },
    {
      "cell_type": "code",
      "metadata": {
        "id": "InuRuOcGKy6q",
        "colab_type": "code",
        "colab": {
          "base_uri": "https://localhost:8080/",
          "height": 218
        },
        "outputId": "4e585b9c-2261-4805-9492-e15ff0911fa1"
      },
      "source": [
        "mvs_df.groupby(['Title'])['Revenue_Millions'].sum().sort_values(ascending = False)[:10]"
      ],
      "execution_count": 135,
      "outputs": [
        {
          "output_type": "execute_result",
          "data": {
            "text/plain": [
              "Title\n",
              "Star Wars: Episode VII - The Force Awakens    936.63\n",
              "Avatar                                        760.51\n",
              "Jurassic World                                652.18\n",
              "The Avengers                                  623.28\n",
              "The Dark Knight                               533.32\n",
              "Rogue One                                     532.17\n",
              "Finding Dory                                  486.29\n",
              "Avengers: Age of Ultron                       458.99\n",
              "The Dark Knight Rises                         448.13\n",
              "The Hunger Games: Catching Fire               424.65\n",
              "Name: Revenue_Millions, dtype: float64"
            ]
          },
          "metadata": {
            "tags": []
          },
          "execution_count": 135
        }
      ]
    },
    {
      "cell_type": "code",
      "metadata": {
        "id": "Y6oyy7LW3WBI",
        "colab_type": "code",
        "colab": {
          "base_uri": "https://localhost:8080/",
          "height": 445
        },
        "outputId": "34c356f1-9ceb-49b9-e6b4-b5f2e5cba3b4"
      },
      "source": [
        "mvs_df.groupby(['Title'])['Revenue_Millions'].mean().sort_values(ascending = False)[:10].plot(kind= 'barh', figsize = (15,7), cmap = 'gist_rainbow_r')"
      ],
      "execution_count": 136,
      "outputs": [
        {
          "output_type": "execute_result",
          "data": {
            "text/plain": [
              "<matplotlib.axes._subplots.AxesSubplot at 0x7f1a8afbe9e8>"
            ]
          },
          "metadata": {
            "tags": []
          },
          "execution_count": 136
        },
        {
          "output_type": "display_data",
          "data": {
            "image/png": "[encoded data removed]",
            "text/plain": [
              "<Figure size 1080x504 with 1 Axes>"
            ]
          },
          "metadata": {
            "tags": [],
            "needs_background": "light"
          }
        }
      ]
    },
    {
      "cell_type": "markdown",
      "metadata": {
        "id": "9z5u2u9KHrdh",
        "colab_type": "text"
      },
      "source": [
        "#### Star Wrs: Episode VII has earned maximum revenue as 937 Millions and there is good amount of difference in Between Ist & 2nd Movie which is of 176 Millions and if we will take last 10 movies then All these 10 movies only generated 0.13 Millions put together."
      ]
    },
    {
      "cell_type": "markdown",
      "metadata": {
        "id": "V0yvEjHjMBRx",
        "colab_type": "text"
      },
      "source": [
        "### **Last 10 movies in terms of Revenue**"
      ]
    },
    {
      "cell_type": "code",
      "metadata": {
        "id": "aIc8W2JjIros",
        "colab_type": "code",
        "colab": {
          "base_uri": "https://localhost:8080/",
          "height": 218
        },
        "outputId": "9f5f6f6e-a900-4bb1-9445-7f6c236bc3db"
      },
      "source": [
        "mvs_df.groupby(['Title'])['Revenue_Millions'].mean().sort_values(ascending = True)[:10]"
      ],
      "execution_count": 150,
      "outputs": [
        {
          "output_type": "execute_result",
          "data": {
            "text/plain": [
              "Title\n",
              "A Kind of Murder            0.00\n",
              "Dead Awake                  0.01\n",
              "Lovesong                    0.01\n",
              "Wakefield                   0.01\n",
              "Love, Rosie                 0.01\n",
              "Into the Forest             0.01\n",
              "Stake Land                  0.02\n",
              "The First Time              0.02\n",
              "The Blackcoat's Daughter    0.02\n",
              "The Sea of Trees            0.02\n",
              "Name: Revenue_Millions, dtype: float64"
            ]
          },
          "metadata": {
            "tags": []
          },
          "execution_count": 150
        }
      ]
    },
    {
      "cell_type": "code",
      "metadata": {
        "id": "3euL7pjDIOAS",
        "colab_type": "code",
        "colab": {
          "base_uri": "https://localhost:8080/",
          "height": 445
        },
        "outputId": "62967a3c-b729-446b-ec36-74274abf1be6"
      },
      "source": [
        "mvs_df.groupby(['Title'])['Revenue_Millions'].mean().sort_values(ascending = True)[:10].plot(kind= 'barh', figsize = (15,7), cmap = 'gist_rainbow_r')"
      ],
      "execution_count": 146,
      "outputs": [
        {
          "output_type": "execute_result",
          "data": {
            "text/plain": [
              "<matplotlib.axes._subplots.AxesSubplot at 0x7f1a8abcf048>"
            ]
          },
          "metadata": {
            "tags": []
          },
          "execution_count": 146
        },
        {
          "output_type": "display_data",
          "data": {
            "image/png": "[encoded data removed]",
            "text/plain": [
              "<Figure size 1080x504 with 1 Axes>"
            ]
          },
          "metadata": {
            "tags": [],
            "needs_background": "light"
          }
        }
      ]
    },
    {
      "cell_type": "markdown",
      "metadata": {
        "id": "otWia81PFx8s",
        "colab_type": "text"
      },
      "source": [
        "### **Top 10 Movies as per their Votes**"
      ]
    },
    {
      "cell_type": "markdown",
      "metadata": {
        "id": "dSWzDj35JC08",
        "colab_type": "text"
      },
      "source": [
        "#### From Votes point of view, The Dark Knight and Inception is on top 2 places and Avater which is 2nd place in terms of revenue, its on 9th place in terms of Votings."
      ]
    },
    {
      "cell_type": "code",
      "metadata": {
        "id": "uOW19-jw4NjW",
        "colab_type": "code",
        "colab": {
          "base_uri": "https://localhost:8080/",
          "height": 458
        },
        "outputId": "869bb8f0-07ef-476f-eccc-9a893a581584"
      },
      "source": [
        "mvs_df.groupby(['Title'])['Votes'].mean().sort_values(ascending = False)[:10].plot(kind= 'barh', figsize = (15,7), cmap = 'CMRmap')"
      ],
      "execution_count": 137,
      "outputs": [
        {
          "output_type": "execute_result",
          "data": {
            "text/plain": [
              "<matplotlib.axes._subplots.AxesSubplot at 0x7f1a8afbec88>"
            ]
          },
          "metadata": {
            "tags": []
          },
          "execution_count": 137
        },
        {
          "output_type": "display_data",
          "data": {
            "image/png": "[encoded data removed]",
            "text/plain": [
              "<Figure size 1080x504 with 1 Axes>"
            ]
          },
          "metadata": {
            "tags": [],
            "needs_background": "light"
          }
        }
      ]
    },
    {
      "cell_type": "markdown",
      "metadata": {
        "id": "b8sMpQ3GF21m",
        "colab_type": "text"
      },
      "source": [
        "### **Top 10 Movies as per Ratings**"
      ]
    },
    {
      "cell_type": "markdown",
      "metadata": {
        "id": "XHzs7TEjJZpe",
        "colab_type": "text"
      },
      "source": [
        "#### From ratings poll, Star wars and Avatar both are not there in top 10 movies. The Dark Knight and Inception are on top 2 places in ratings as well."
      ]
    },
    {
      "cell_type": "code",
      "metadata": {
        "id": "8ZkA2-x139rV",
        "colab_type": "code",
        "colab": {
          "base_uri": "https://localhost:8080/",
          "height": 445
        },
        "outputId": "b7951ab8-a59f-47a2-bc16-776e7841e5fd"
      },
      "source": [
        "mvs_df.groupby(['Title'])['Rating'].mean().sort_values(ascending = False)[:10].plot(kind= 'barh', figsize = (15,7), cmap = 'cividis_r')"
      ],
      "execution_count": 138,
      "outputs": [
        {
          "output_type": "execute_result",
          "data": {
            "text/plain": [
              "<matplotlib.axes._subplots.AxesSubplot at 0x7f1a8af2fd30>"
            ]
          },
          "metadata": {
            "tags": []
          },
          "execution_count": 138
        },
        {
          "output_type": "display_data",
          "data": {
            "image/png": "[encoded data removed]",
            "text/plain": [
              "<Figure size 1080x504 with 1 Axes>"
            ]
          },
          "metadata": {
            "tags": [],
            "needs_background": "light"
          }
        }
      ]
    },
    {
      "cell_type": "markdown",
      "metadata": {
        "id": "fb0oMuP3F7bp",
        "colab_type": "text"
      },
      "source": [
        "### **Top 10 Movies as per their Running Time**"
      ]
    },
    {
      "cell_type": "code",
      "metadata": {
        "id": "WhFzH83M47Yw",
        "colab_type": "code",
        "colab": {
          "base_uri": "https://localhost:8080/",
          "height": 445
        },
        "outputId": "020367be-5591-4bf0-ed94-545b11d4045e"
      },
      "source": [
        "mvs_df.groupby(['Title'])['Runtime_mins'].mean().sort_values(ascending = False)[:10].plot(kind= 'barh', figsize = (15,7), cmap = 'cool')"
      ],
      "execution_count": 139,
      "outputs": [
        {
          "output_type": "execute_result",
          "data": {
            "text/plain": [
              "<matplotlib.axes._subplots.AxesSubplot at 0x7f1a8af38eb8>"
            ]
          },
          "metadata": {
            "tags": []
          },
          "execution_count": 139
        },
        {
          "output_type": "display_data",
          "data": {
            "image/png": "[encoded data removed]",
            "text/plain": [
              "<Figure size 1080x504 with 1 Axes>"
            ]
          },
          "metadata": {
            "tags": [],
            "needs_background": "light"
          }
        }
      ]
    },
    {
      "cell_type": "markdown",
      "metadata": {
        "id": "9hOJ06I4GBfC",
        "colab_type": "text"
      },
      "source": [
        "### **Adding new Column as \"Rating Category\"**"
      ]
    },
    {
      "cell_type": "markdown",
      "metadata": {
        "id": "IHMO9Wl0JvNu",
        "colab_type": "text"
      },
      "source": [
        "#### As we have added one more column as Rating category in which if rating is above than 8 then it considered as good otherwise bad."
      ]
    },
    {
      "cell_type": "code",
      "metadata": {
        "id": "sGDT-p4z5gyI",
        "colab_type": "code",
        "colab": {}
      },
      "source": [
        "def rating_function(x):\n",
        "  if x >= 8.0:\n",
        "    return 'good'\n",
        "  else:\n",
        "    return 'bad'"
      ],
      "execution_count": 0,
      "outputs": []
    },
    {
      "cell_type": "code",
      "metadata": {
        "id": "wt92oYeZ9YxY",
        "colab_type": "code",
        "colab": {
          "base_uri": "https://localhost:8080/",
          "height": 363
        },
        "outputId": "8d8b78a4-bf37-4295-b1b9-79d54038b267"
      },
      "source": [
        "mvs_df['rating_category'] = mvs_df['Rating'].apply(rating_function)\n",
        "mvs_df.sort_values(by = 'Revenue_Millions', ascending = False).head()"
      ],
      "execution_count": 152,
      "outputs": [
        {
          "output_type": "execute_result",
          "data": {
            "text/html": [
              "<div>\n",
              "<style scoped>\n",
              "    .dataframe tbody tr th:only-of-type {\n",
              "        vertical-align: middle;\n",
              "    }\n",
              "\n",
              "    .dataframe tbody tr th {\n",
              "        vertical-align: top;\n",
              "    }\n",
              "\n",
              "    .dataframe thead th {\n",
              "        text-align: right;\n",
              "    }\n",
              "</style>\n",
              "<table border=\"1\" class=\"dataframe\">\n",
              "  <thead>\n",
              "    <tr style=\"text-align: right;\">\n",
              "      <th></th>\n",
              "      <th>Rank</th>\n",
              "      <th>Title</th>\n",
              "      <th>Genre</th>\n",
              "      <th>Description</th>\n",
              "      <th>Director</th>\n",
              "      <th>Actors</th>\n",
              "      <th>Year</th>\n",
              "      <th>Runtime_mins</th>\n",
              "      <th>Rating</th>\n",
              "      <th>Votes</th>\n",
              "      <th>Revenue_Millions</th>\n",
              "      <th>Metascore</th>\n",
              "      <th>rating_category</th>\n",
              "    </tr>\n",
              "  </thead>\n",
              "  <tbody>\n",
              "    <tr>\n",
              "      <th>50</th>\n",
              "      <td>51</td>\n",
              "      <td>Star Wars: Episode VII - The Force Awakens</td>\n",
              "      <td>Action,Adventure,Fantasy</td>\n",
              "      <td>Three decades after the defeat of the Galactic...</td>\n",
              "      <td>J.J. Abrams</td>\n",
              "      <td>Daisy Ridley, John Boyega, Oscar Isaac, Domhna...</td>\n",
              "      <td>2015</td>\n",
              "      <td>136</td>\n",
              "      <td>8.1</td>\n",
              "      <td>661608</td>\n",
              "      <td>936.63</td>\n",
              "      <td>81.0</td>\n",
              "      <td>good</td>\n",
              "    </tr>\n",
              "    <tr>\n",
              "      <th>87</th>\n",
              "      <td>88</td>\n",
              "      <td>Avatar</td>\n",
              "      <td>Action,Adventure,Fantasy</td>\n",
              "      <td>A paraplegic marine dispatched to the moon Pan...</td>\n",
              "      <td>James Cameron</td>\n",
              "      <td>Sam Worthington, Zoe Saldana, Sigourney Weaver...</td>\n",
              "      <td>2009</td>\n",
              "      <td>162</td>\n",
              "      <td>7.8</td>\n",
              "      <td>935408</td>\n",
              "      <td>760.51</td>\n",
              "      <td>83.0</td>\n",
              "      <td>bad</td>\n",
              "    </tr>\n",
              "    <tr>\n",
              "      <th>85</th>\n",
              "      <td>86</td>\n",
              "      <td>Jurassic World</td>\n",
              "      <td>Action,Adventure,Sci-Fi</td>\n",
              "      <td>A new theme park, built on the original site o...</td>\n",
              "      <td>Colin Trevorrow</td>\n",
              "      <td>Chris Pratt, Bryce Dallas Howard, Ty Simpkins,...</td>\n",
              "      <td>2015</td>\n",
              "      <td>124</td>\n",
              "      <td>7.0</td>\n",
              "      <td>455169</td>\n",
              "      <td>652.18</td>\n",
              "      <td>59.0</td>\n",
              "      <td>bad</td>\n",
              "    </tr>\n",
              "    <tr>\n",
              "      <th>76</th>\n",
              "      <td>77</td>\n",
              "      <td>The Avengers</td>\n",
              "      <td>Action,Sci-Fi</td>\n",
              "      <td>Earth's mightiest heroes must come together an...</td>\n",
              "      <td>Joss Whedon</td>\n",
              "      <td>Robert Downey Jr., Chris Evans, Scarlett Johan...</td>\n",
              "      <td>2012</td>\n",
              "      <td>143</td>\n",
              "      <td>8.1</td>\n",
              "      <td>1045588</td>\n",
              "      <td>623.28</td>\n",
              "      <td>69.0</td>\n",
              "      <td>good</td>\n",
              "    </tr>\n",
              "    <tr>\n",
              "      <th>54</th>\n",
              "      <td>55</td>\n",
              "      <td>The Dark Knight</td>\n",
              "      <td>Action,Crime,Drama</td>\n",
              "      <td>When the menace known as the Joker wreaks havo...</td>\n",
              "      <td>Christopher Nolan</td>\n",
              "      <td>Christian Bale, Heath Ledger, Aaron Eckhart,Mi...</td>\n",
              "      <td>2008</td>\n",
              "      <td>152</td>\n",
              "      <td>9.0</td>\n",
              "      <td>1791916</td>\n",
              "      <td>533.32</td>\n",
              "      <td>82.0</td>\n",
              "      <td>good</td>\n",
              "    </tr>\n",
              "  </tbody>\n",
              "</table>\n",
              "</div>"
            ],
            "text/plain": [
              "    Rank                                       Title  ... Metascore rating_category\n",
              "50    51  Star Wars: Episode VII - The Force Awakens  ...      81.0            good\n",
              "87    88                                      Avatar  ...      83.0             bad\n",
              "85    86                              Jurassic World  ...      59.0             bad\n",
              "76    77                                The Avengers  ...      69.0            good\n",
              "54    55                             The Dark Knight  ...      82.0            good\n",
              "\n",
              "[5 rows x 13 columns]"
            ]
          },
          "metadata": {
            "tags": []
          },
          "execution_count": 152
        }
      ]
    },
    {
      "cell_type": "markdown",
      "metadata": {
        "id": "BFI-AUGEGUpx",
        "colab_type": "text"
      },
      "source": [
        "### **Boxplot of Rating Categories and Revenue(In Millions)**"
      ]
    },
    {
      "cell_type": "code",
      "metadata": {
        "id": "tgz40tmv92cx",
        "colab_type": "code",
        "colab": {
          "base_uri": "https://localhost:8080/",
          "height": 443
        },
        "outputId": "562e6ab9-78a0-4d00-e7fa-86bc835bd2a9"
      },
      "source": [
        "mvs_df.boxplot(by=\"rating_category\", column=\"Revenue_Millions\", figsize=(8,6), grid=False, fontsize=16, patch_artist=True)"
      ],
      "execution_count": 143,
      "outputs": [
        {
          "output_type": "execute_result",
          "data": {
            "text/plain": [
              "<matplotlib.axes._subplots.AxesSubplot at 0x7f1a8acc2f98>"
            ]
          },
          "metadata": {
            "tags": []
          },
          "execution_count": 143
        },
        {
          "output_type": "display_data",
          "data": {
            "image/png": "[encoded data removed]",
            "text/plain": [
              "<Figure size 576x432 with 1 Axes>"
            ]
          },
          "metadata": {
            "tags": [],
            "needs_background": "light"
          }
        }
      ]
    },
    {
      "cell_type": "markdown",
      "metadata": {
        "id": "ruP_9Ho1KOCJ",
        "colab_type": "text"
      },
      "source": [
        "#### In boxplot representation, there are 3-4 movies which are having higher revenues and ratings are above 8 as considered as good movies. Star wars-VII are considered as good movie where 2nd & 3rd highest revenue movies were considered as bad because their Ratings are below 8.0."
      ]
    },
    {
      "cell_type": "markdown",
      "metadata": {
        "id": "-sW_tBncGITs",
        "colab_type": "text"
      },
      "source": [
        "### **Scatterplot of Ratings Vs. Revenue(In Millions)**"
      ]
    },
    {
      "cell_type": "code",
      "metadata": {
        "id": "_IKsANOM9jU3",
        "colab_type": "code",
        "colab": {
          "base_uri": "https://localhost:8080/",
          "height": 295
        },
        "outputId": "a4314abd-bd14-49fa-ef1e-3d48d85f298b"
      },
      "source": [
        "mvs_df.plot.scatter(x='Rating', y='Revenue_Millions', title='Revenue (millions) vs Rating');"
      ],
      "execution_count": 142,
      "outputs": [
        {
          "output_type": "display_data",
          "data": {
            "image/png": "[encoded data removed]",
            "text/plain": [
              "<Figure size 432x288 with 1 Axes>"
            ]
          },
          "metadata": {
            "tags": [],
            "needs_background": "light"
          }
        }
      ]
    },
    {
      "cell_type": "markdown",
      "metadata": {
        "id": "yJSCuA2mGc8P",
        "colab_type": "text"
      },
      "source": [
        "### **Correlation between Columns**"
      ]
    },
    {
      "cell_type": "code",
      "metadata": {
        "id": "LrltKn3eAODm",
        "colab_type": "code",
        "colab": {
          "base_uri": "https://localhost:8080/",
          "height": 254
        },
        "outputId": "2979d85b-d21b-42fd-b64f-6762e163a7d8"
      },
      "source": [
        "mvs_df.corr()"
      ],
      "execution_count": 144,
      "outputs": [
        {
          "output_type": "execute_result",
          "data": {
            "text/html": [
              "<div>\n",
              "<style scoped>\n",
              "    .dataframe tbody tr th:only-of-type {\n",
              "        vertical-align: middle;\n",
              "    }\n",
              "\n",
              "    .dataframe tbody tr th {\n",
              "        vertical-align: top;\n",
              "    }\n",
              "\n",
              "    .dataframe thead th {\n",
              "        text-align: right;\n",
              "    }\n",
              "</style>\n",
              "<table border=\"1\" class=\"dataframe\">\n",
              "  <thead>\n",
              "    <tr style=\"text-align: right;\">\n",
              "      <th></th>\n",
              "      <th>Rank</th>\n",
              "      <th>Year</th>\n",
              "      <th>Runtime_mins</th>\n",
              "      <th>Rating</th>\n",
              "      <th>Votes</th>\n",
              "      <th>Revenue_Millions</th>\n",
              "      <th>Metascore</th>\n",
              "    </tr>\n",
              "  </thead>\n",
              "  <tbody>\n",
              "    <tr>\n",
              "      <th>Rank</th>\n",
              "      <td>1.000000</td>\n",
              "      <td>-0.261605</td>\n",
              "      <td>-0.221739</td>\n",
              "      <td>-0.219555</td>\n",
              "      <td>-0.283876</td>\n",
              "      <td>-0.252996</td>\n",
              "      <td>-0.185159</td>\n",
              "    </tr>\n",
              "    <tr>\n",
              "      <th>Year</th>\n",
              "      <td>-0.261605</td>\n",
              "      <td>1.000000</td>\n",
              "      <td>-0.164900</td>\n",
              "      <td>-0.211219</td>\n",
              "      <td>-0.411904</td>\n",
              "      <td>-0.117562</td>\n",
              "      <td>-0.076077</td>\n",
              "    </tr>\n",
              "    <tr>\n",
              "      <th>Runtime_mins</th>\n",
              "      <td>-0.221739</td>\n",
              "      <td>-0.164900</td>\n",
              "      <td>1.000000</td>\n",
              "      <td>0.392214</td>\n",
              "      <td>0.407062</td>\n",
              "      <td>0.247834</td>\n",
              "      <td>0.202239</td>\n",
              "    </tr>\n",
              "    <tr>\n",
              "      <th>Rating</th>\n",
              "      <td>-0.219555</td>\n",
              "      <td>-0.211219</td>\n",
              "      <td>0.392214</td>\n",
              "      <td>1.000000</td>\n",
              "      <td>0.511537</td>\n",
              "      <td>0.189527</td>\n",
              "      <td>0.604723</td>\n",
              "    </tr>\n",
              "    <tr>\n",
              "      <th>Votes</th>\n",
              "      <td>-0.283876</td>\n",
              "      <td>-0.411904</td>\n",
              "      <td>0.407062</td>\n",
              "      <td>0.511537</td>\n",
              "      <td>1.000000</td>\n",
              "      <td>0.607941</td>\n",
              "      <td>0.318116</td>\n",
              "    </tr>\n",
              "    <tr>\n",
              "      <th>Revenue_Millions</th>\n",
              "      <td>-0.252996</td>\n",
              "      <td>-0.117562</td>\n",
              "      <td>0.247834</td>\n",
              "      <td>0.189527</td>\n",
              "      <td>0.607941</td>\n",
              "      <td>1.000000</td>\n",
              "      <td>0.132304</td>\n",
              "    </tr>\n",
              "    <tr>\n",
              "      <th>Metascore</th>\n",
              "      <td>-0.185159</td>\n",
              "      <td>-0.076077</td>\n",
              "      <td>0.202239</td>\n",
              "      <td>0.604723</td>\n",
              "      <td>0.318116</td>\n",
              "      <td>0.132304</td>\n",
              "      <td>1.000000</td>\n",
              "    </tr>\n",
              "  </tbody>\n",
              "</table>\n",
              "</div>"
            ],
            "text/plain": [
              "                      Rank      Year  ...  Revenue_Millions  Metascore\n",
              "Rank              1.000000 -0.261605  ...         -0.252996  -0.185159\n",
              "Year             -0.261605  1.000000  ...         -0.117562  -0.076077\n",
              "Runtime_mins     -0.221739 -0.164900  ...          0.247834   0.202239\n",
              "Rating           -0.219555 -0.211219  ...          0.189527   0.604723\n",
              "Votes            -0.283876 -0.411904  ...          0.607941   0.318116\n",
              "Revenue_Millions -0.252996 -0.117562  ...          1.000000   0.132304\n",
              "Metascore        -0.185159 -0.076077  ...          0.132304   1.000000\n",
              "\n",
              "[7 rows x 7 columns]"
            ]
          },
          "metadata": {
            "tags": []
          },
          "execution_count": 144
        }
      ]
    },
    {
      "cell_type": "code",
      "metadata": {
        "id": "ef3LdAYHAvp3",
        "colab_type": "code",
        "colab": {
          "base_uri": "https://localhost:8080/",
          "height": 580
        },
        "outputId": "a4857bee-b066-421e-88ed-85c72d0562c5"
      },
      "source": [
        "f, ax = plt.subplots(figsize=(10, 8))\n",
        "corr = mvs_df.corr()\n",
        "sns.heatmap(corr, square=True, ax=ax, annot= True)"
      ],
      "execution_count": 145,
      "outputs": [
        {
          "output_type": "execute_result",
          "data": {
            "text/plain": [
              "<matplotlib.axes._subplots.AxesSubplot at 0x7f1a8ace9828>"
            ]
          },
          "metadata": {
            "tags": []
          },
          "execution_count": 145
        },
        {
          "output_type": "display_data",
          "data": {
            "image/png": "[encoded data removed]",
            "text/plain": [
              "<Figure size 720x576 with 2 Axes>"
            ]
          },
          "metadata": {
            "tags": [],
            "needs_background": "light"
          }
        }
      ]
    },
    {
      "cell_type": "markdown",
      "metadata": {
        "id": "8Y7vQyf1LM-f",
        "colab_type": "text"
      },
      "source": [
        "Here's Co-relation representation of Heat Map, in which its clearly represented as Votes and Ratings are having good Co-relation and same is for Metascore and Ratings as well. There is good co-relation in between Votes and Revenue but there are some outliers in this as having higher revenues but less votes."
      ]
    },
    {
      "cell_type": "markdown",
      "metadata": {
        "id": "bChzUwKuMkod",
        "colab_type": "text"
      },
      "source": [
        "### **Top 10 movies based on Metascores**"
      ]
    },
    {
      "cell_type": "markdown",
      "metadata": {
        "id": "OftdrjkNMre1",
        "colab_type": "text"
      },
      "source": [
        "#### Its representing completely different scenario for top 10 movies in comparison to Ratings and Votes and same is shown in Co-relation map as well where Metascore is hardly any relation with revenue(in millions)."
      ]
    },
    {
      "cell_type": "code",
      "metadata": {
        "id": "Le7Fbl3aMPp9",
        "colab_type": "code",
        "colab": {
          "base_uri": "https://localhost:8080/",
          "height": 445
        },
        "outputId": "a7fb05e5-798c-4495-c3a0-f5baaf04bc5d"
      },
      "source": [
        "mvs_df.groupby(['Title'])['Metascore'].mean().sort_values(ascending = False)[:10].plot(kind= 'barh', figsize = (15,7), cmap = 'copper_r')"
      ],
      "execution_count": 156,
      "outputs": [
        {
          "output_type": "execute_result",
          "data": {
            "text/plain": [
              "<matplotlib.axes._subplots.AxesSubplot at 0x7f1a8a920cf8>"
            ]
          },
          "metadata": {
            "tags": []
          },
          "execution_count": 156
        },
        {
          "output_type": "display_data",
          "data": {
            "image/png": "[encoded data removed]",
            "text/plain": [
              "<Figure size 1080x504 with 1 Axes>"
            ]
          },
          "metadata": {
            "tags": [],
            "needs_background": "light"
          }
        }
      ]
    }
  ]
}