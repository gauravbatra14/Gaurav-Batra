{
 "cells": [
  {
   "cell_type": "code",
   "execution_count": 1,
   "metadata": {},
   "outputs": [
    {
     "name": "stdout",
     "output_type": "stream",
     "text": [
      "['False', 'None', 'True', 'and', 'as', 'assert', 'async', 'await', 'break', 'class', 'continue', 'def', 'del', 'elif', 'else', 'except', 'finally', 'for', 'from', 'global', 'if', 'import', 'in', 'is', 'lambda', 'nonlocal', 'not', 'or', 'pass', 'raise', 'return', 'try', 'while', 'with', 'yield']\n"
     ]
    }
   ],
   "source": [
    "import keyword\n",
    "\n",
    "print (keyword.kwlist)"
   ]
  },
  {
   "cell_type": "code",
   "execution_count": 2,
   "metadata": {},
   "outputs": [
    {
     "name": "stdout",
     "output_type": "stream",
     "text": [
      "35\n"
     ]
    }
   ],
   "source": [
    "print (len(keyword.kwlist))"
   ]
  },
  {
   "cell_type": "code",
   "execution_count": 3,
   "metadata": {},
   "outputs": [
    {
     "ename": "SyntaxError",
     "evalue": "invalid syntax (<ipython-input-3-d2dd69b23a0d>, line 1)",
     "output_type": "error",
     "traceback": [
      "\u001b[1;36m  File \u001b[1;32m\"<ipython-input-3-d2dd69b23a0d>\"\u001b[1;36m, line \u001b[1;32m1\u001b[0m\n\u001b[1;33m    1x = 10                    #starting wiht digit error in identifier\u001b[0m\n\u001b[1;37m     ^\u001b[0m\n\u001b[1;31mSyntaxError\u001b[0m\u001b[1;31m:\u001b[0m invalid syntax\n"
     ]
    }
   ],
   "source": [
    "1x = 10                    #starting wiht digit error in identifier"
   ]
  },
  {
   "cell_type": "code",
   "execution_count": 14,
   "metadata": {},
   "outputs": [
    {
     "name": "stdout",
     "output_type": "stream",
     "text": [
      "10\n"
     ]
    }
   ],
   "source": [
    "x1 = 10\n",
    "print (x1)"
   ]
  },
  {
   "cell_type": "code",
   "execution_count": 15,
   "metadata": {},
   "outputs": [
    {
     "ename": "SyntaxError",
     "evalue": "invalid syntax (<ipython-input-15-4971032d01f4>, line 1)",
     "output_type": "error",
     "traceback": [
      "\u001b[1;36m  File \u001b[1;32m\"<ipython-input-15-4971032d01f4>\"\u001b[1;36m, line \u001b[1;32m1\u001b[0m\n\u001b[1;33m    x! = 10                        #special character error in identifier\u001b[0m\n\u001b[1;37m     ^\u001b[0m\n\u001b[1;31mSyntaxError\u001b[0m\u001b[1;31m:\u001b[0m invalid syntax\n"
     ]
    }
   ],
   "source": [
    "x! = 10                        #special character error in identifier\n",
    "print (x!)"
   ]
  },
  {
   "cell_type": "code",
   "execution_count": 16,
   "metadata": {},
   "outputs": [
    {
     "ename": "SyntaxError",
     "evalue": "invalid syntax (<ipython-input-16-8cb59efc1198>, line 1)",
     "output_type": "error",
     "traceback": [
      "\u001b[1;36m  File \u001b[1;32m\"<ipython-input-16-8cb59efc1198>\"\u001b[1;36m, line \u001b[1;32m1\u001b[0m\n\u001b[1;33m    yield = 10                         # keyword error in identifier\u001b[0m\n\u001b[1;37m          ^\u001b[0m\n\u001b[1;31mSyntaxError\u001b[0m\u001b[1;31m:\u001b[0m invalid syntax\n"
     ]
    }
   ],
   "source": [
    "yield = 10                         # keyword error in identifier\n",
    "print (yield)"
   ]
  },
  {
   "cell_type": "code",
   "execution_count": 17,
   "metadata": {},
   "outputs": [
    {
     "name": "stdout",
     "output_type": "stream",
     "text": [
      "10\n",
      "10\n",
      "10\n"
     ]
    }
   ],
   "source": [
    "# correct identifiers\n",
    "\n",
    "x =10\n",
    "print (x)\n",
    "\n",
    "x1 =10\n",
    "print (x1)\n",
    "\n",
    "x_1 = 10\n",
    "print (x_1)"
   ]
  },
  {
   "cell_type": "code",
   "execution_count": 18,
   "metadata": {},
   "outputs": [
    {
     "name": "stdout",
     "output_type": "stream",
     "text": [
      "400\n"
     ]
    }
   ],
   "source": [
    "def square(num):\n",
    "    return num*num\n",
    "\n",
    "print (square(20))"
   ]
  },
  {
   "cell_type": "code",
   "execution_count": 19,
   "metadata": {},
   "outputs": [
    {
     "name": "stdout",
     "output_type": "stream",
     "text": [
      "None\n"
     ]
    }
   ],
   "source": [
    "print (square.__doc__)                # to print docstring of a function use the __doc__attribute of a function"
   ]
  },
  {
   "cell_type": "code",
   "execution_count": 20,
   "metadata": {},
   "outputs": [
    {
     "data": {
      "text/plain": [
       "<function __main__.square(num)>"
      ]
     },
     "execution_count": 20,
     "metadata": {},
     "output_type": "execute_result"
    }
   ],
   "source": [
    "square              # press shift+tab to view docstring"
   ]
  },
  {
   "cell_type": "code",
   "execution_count": 21,
   "metadata": {},
   "outputs": [
    {
     "ename": "IndentationError",
     "evalue": "unexpected indent (<ipython-input-21-f2dc8e38701b>, line 2)",
     "output_type": "error",
     "traceback": [
      "\u001b[1;36m  File \u001b[1;32m\"<ipython-input-21-f2dc8e38701b>\"\u001b[1;36m, line \u001b[1;32m2\u001b[0m\n\u001b[1;33m    var2 = 20\u001b[0m\n\u001b[1;37m    ^\u001b[0m\n\u001b[1;31mIndentationError\u001b[0m\u001b[1;31m:\u001b[0m unexpected indent\n"
     ]
    }
   ],
   "source": [
    "var1 = 10                              #illogoical identation\n",
    "    var2 = 20 "
   ]
  },
  {
   "cell_type": "code",
   "execution_count": 22,
   "metadata": {},
   "outputs": [],
   "source": [
    "var1 = 10                 # logical identation without 4 whitespaces\n",
    "var2 = 20"
   ]
  },
  {
   "cell_type": "code",
   "execution_count": 23,
   "metadata": {},
   "outputs": [
    {
     "name": "stdout",
     "output_type": "stream",
     "text": [
      "1\n",
      "2\n",
      "2\n",
      "3\n",
      "3\n",
      "4\n",
      "4\n",
      "5\n"
     ]
    }
   ],
   "source": [
    "for i in range(1, 5):\n",
    "    print (i)\n",
    "    print (i+1)               # 2nd print also came under this for loop"
   ]
  },
  {
   "cell_type": "code",
   "execution_count": 24,
   "metadata": {},
   "outputs": [
    {
     "name": "stdout",
     "output_type": "stream",
     "text": [
      "1\n",
      "2\n",
      "3\n",
      "4\n",
      "back to original\n"
     ]
    }
   ],
   "source": [
    "for i in range(1, 5):\n",
    "    print (i)\n",
    "print (\"back to original\")              #whereas block will be over after 1st print option "
   ]
  },
  {
   "cell_type": "code",
   "execution_count": 25,
   "metadata": {},
   "outputs": [],
   "source": [
    "number = 10           #single line statement"
   ]
  },
  {
   "cell_type": "code",
   "execution_count": 26,
   "metadata": {},
   "outputs": [
    {
     "ename": "SyntaxError",
     "evalue": "unexpected character after line continuation character (<ipython-input-26-6905cc8285a3>, line 1)",
     "output_type": "error",
     "traceback": [
      "\u001b[1;36m  File \u001b[1;32m\"<ipython-input-26-6905cc8285a3>\"\u001b[1;36m, line \u001b[1;32m1\u001b[0m\n\u001b[1;33m    number = 10 + 20 + \\            # multiline statment with continuation character \"\\\" backslash\u001b[0m\n\u001b[1;37m                                                                                                  ^\u001b[0m\n\u001b[1;31mSyntaxError\u001b[0m\u001b[1;31m:\u001b[0m unexpected character after line continuation character\n"
     ]
    }
   ],
   "source": [
    "number = 10 + 20 + \\            # multiline statment with continuation character \"\\\" backslash\n",
    "         30 + 40 \n",
    "\n",
    "print (number)"
   ]
  },
  {
   "cell_type": "code",
   "execution_count": 27,
   "metadata": {},
   "outputs": [
    {
     "name": "stdout",
     "output_type": "stream",
     "text": [
      "150\n"
     ]
    }
   ],
   "source": [
    "number = (10 + 20 +            # multiline statment with continuation character \"( )\" open and close brackets\n",
    "         30 + 40 +\n",
    "         50)\n",
    "\n",
    "print (number)"
   ]
  },
  {
   "cell_type": "code",
   "execution_count": 28,
   "metadata": {},
   "outputs": [
    {
     "name": "stdout",
     "output_type": "stream",
     "text": [
      "10 10.5 Gaurav\n"
     ]
    }
   ],
   "source": [
    "# Variable Assignment\n",
    "\n",
    "Intnum = 10\n",
    "floatnum = 10.5\n",
    "stringval = \"Gaurav\"\n",
    "\n",
    "print (Intnum, floatnum, stringval)"
   ]
  },
  {
   "cell_type": "code",
   "execution_count": 29,
   "metadata": {},
   "outputs": [
    {
     "name": "stdout",
     "output_type": "stream",
     "text": [
      "10 10.5 Gaurav\n"
     ]
    }
   ],
   "source": [
    "# Multiple assignment\n",
    "\n",
    "Intnum, floatnum, stringval = 10, 10.5, \"Gaurav\"\n",
    "\n",
    "print (Intnum, floatnum, stringval)"
   ]
  },
  {
   "cell_type": "code",
   "execution_count": 30,
   "metadata": {},
   "outputs": [
    {
     "name": "stdout",
     "output_type": "stream",
     "text": [
      "10 10 10\n"
     ]
    }
   ],
   "source": [
    "# Same value assigned to variable\n",
    "\n",
    "Intnum = floatnum = stringval = 10\n",
    "\n",
    "print (Intnum, floatnum, stringval)"
   ]
  },
  {
   "cell_type": "code",
   "execution_count": 31,
   "metadata": {},
   "outputs": [
    {
     "name": "stdout",
     "output_type": "stream",
     "text": [
      "140719109149792\n",
      "140719109149792\n",
      "140719109149792\n"
     ]
    }
   ],
   "source": [
    "# find out ID of stroage location\n",
    "\n",
    "print (id(Intnum))\n",
    "print (id(floatnum))\n",
    "print (id(stringval))   # all three are coming same bcz of same value assigned to all three"
   ]
  },
  {
   "cell_type": "code",
   "execution_count": 32,
   "metadata": {},
   "outputs": [
    {
     "name": "stdout",
     "output_type": "stream",
     "text": [
      "10 10.5 Gaurav\n"
     ]
    }
   ],
   "source": [
    "Intnum, floatnum, stringval = 10, 10.5, \"Gaurav\"\n",
    "\n",
    "print (Intnum, floatnum, stringval)           "
   ]
  },
  {
   "cell_type": "code",
   "execution_count": 33,
   "metadata": {},
   "outputs": [
    {
     "name": "stdout",
     "output_type": "stream",
     "text": [
      "140719109149792\n",
      "2011774547648\n",
      "2011775823128\n"
     ]
    }
   ],
   "source": [
    "# find out ID of stroage location when different values assigned to all three variables\n",
    "\n",
    "print (id(Intnum))\n",
    "print (id(floatnum))\n",
    "print (id(stringval))"
   ]
  },
  {
   "cell_type": "code",
   "execution_count": 34,
   "metadata": {},
   "outputs": [
    {
     "name": "stdout",
     "output_type": "stream",
     "text": [
      "20 is type of <class 'int'>\n"
     ]
    }
   ],
   "source": [
    "var1 = 20                                        #integer data type\n",
    "print (var1, \"is type of\", type(var1))"
   ]
  },
  {
   "cell_type": "code",
   "execution_count": 35,
   "metadata": {},
   "outputs": [
    {
     "name": "stdout",
     "output_type": "stream",
     "text": [
      "20.5 is type of <class 'float'>\n"
     ]
    }
   ],
   "source": [
    "var2 = 20.5                                        #floating number data type\n",
    "print (var2, \"is type of\", type(var2))"
   ]
  },
  {
   "cell_type": "code",
   "execution_count": 36,
   "metadata": {},
   "outputs": [
    {
     "name": "stdout",
     "output_type": "stream",
     "text": [
      "(20+2j) is type of <class 'complex'>\n"
     ]
    }
   ],
   "source": [
    "var3 = 20 + 2j                                      #complex data type\n",
    "print (var3, \"is type of\", type(var3))"
   ]
  },
  {
   "cell_type": "code",
   "execution_count": 4,
   "metadata": {},
   "outputs": [
    {
     "name": "stdout",
     "output_type": "stream",
     "text": [
      "False is type of <class 'bool'>\n"
     ]
    }
   ],
   "source": [
    "var4 = False                                       # boolean value class (true or false)\n",
    "print (var4, \"is type of\", type(var4))"
   ]
  },
  {
   "cell_type": "code",
   "execution_count": 37,
   "metadata": {},
   "outputs": [
    {
     "name": "stdout",
     "output_type": "stream",
     "text": [
      "Is (20+2j) type of class complex ? True\n"
     ]
    }
   ],
   "source": [
    "print (\"Is\", var3, \"type of class complex ?\", isinstance (var3, complex))        # use of isinstance to check boolean value"
   ]
  },
  {
   "cell_type": "code",
   "execution_count": 38,
   "metadata": {},
   "outputs": [
    {
     "name": "stdout",
     "output_type": "stream",
     "text": [
      "Is (20+2j) type of class complex ? False\n"
     ]
    }
   ],
   "source": [
    "print (\"Is\", var3, \"type of class complex ?\", isinstance (var3, int))           # use of isinstance to check boolean value     "
   ]
  },
  {
   "cell_type": "markdown",
   "metadata": {},
   "source": [
    "### Python strings"
   ]
  },
  {
   "cell_type": "code",
   "execution_count": 39,
   "metadata": {},
   "outputs": [
    {
     "name": "stdout",
     "output_type": "stream",
     "text": [
      "string variable is : Gaurav worked with Unilever for 4 years and 8 months\n"
     ]
    }
   ],
   "source": [
    "strval = 'Gaurav worked with Unilever for 4 years and 8 months'\n",
    "\n",
    "print (\"string variable is :\", strval)"
   ]
  },
  {
   "cell_type": "code",
   "execution_count": 40,
   "metadata": {},
   "outputs": [
    {
     "name": "stdout",
     "output_type": "stream",
     "text": [
      "G\n",
      "Gaurav wor\n",
      "Gaurav wor\n",
      "ked with Unilever for 4 years and 8 months\n",
      "s\n",
      "Gaurav worked with Unilever for 4 years and 8 month\n"
     ]
    }
   ],
   "source": [
    "# slicing in python strings and Ist character starts from index [0]\n",
    "\n",
    "print (strval[0])               # getting ist character\n",
    "\n",
    "print (strval[0:10])            # getting ist 9 characters\n",
    "\n",
    "print (strval[:10])            # getting ist 9 characters\n",
    "\n",
    "print (strval[10:])            # getting all characters except ist 9\n",
    "\n",
    "print (strval[-1:])            # getting last character\n",
    "\n",
    "print (strval[:-1])            # getting all characters except last one"
   ]
  },
  {
   "cell_type": "markdown",
   "metadata": {},
   "source": [
    "### Python list"
   ]
  },
  {
   "cell_type": "code",
   "execution_count": 41,
   "metadata": {},
   "outputs": [
    {
     "name": "stdout",
     "output_type": "stream",
     "text": [
      "[1, 3, 5, 'gaurav', 8, 9.4, 'prayank']\n"
     ]
    }
   ],
   "source": [
    "list1 = [1, 3, 5, 'gaurav', 8, 9.4, 'prayank']\n",
    "print (list1)"
   ]
  },
  {
   "cell_type": "code",
   "execution_count": 42,
   "metadata": {},
   "outputs": [
    {
     "name": "stdout",
     "output_type": "stream",
     "text": [
      "gaurav\n"
     ]
    }
   ],
   "source": [
    "# accessing 4th element from list\n",
    "\n",
    "print (list1[3])"
   ]
  },
  {
   "cell_type": "code",
   "execution_count": 43,
   "metadata": {},
   "outputs": [
    {
     "name": "stdout",
     "output_type": "stream",
     "text": [
      "[8, 9.4, 'prayank']\n"
     ]
    }
   ],
   "source": [
    "print (list1 [4:7])   #accessing 4th to 7th element"
   ]
  },
  {
   "cell_type": "code",
   "execution_count": 44,
   "metadata": {},
   "outputs": [
    {
     "name": "stdout",
     "output_type": "stream",
     "text": [
      "[1, 3, 5, 'gaurav', 8, 9.4, 'prayank', 5]\n"
     ]
    }
   ],
   "source": [
    "#adding an element in exisiting list\n",
    "\n",
    "list1.append(5)\n",
    "print(list1)"
   ]
  },
  {
   "cell_type": "code",
   "execution_count": 45,
   "metadata": {},
   "outputs": [],
   "source": [
    "list1.remove(8)"
   ]
  },
  {
   "cell_type": "code",
   "execution_count": 46,
   "metadata": {},
   "outputs": [
    {
     "data": {
      "text/plain": [
       "5"
      ]
     },
     "execution_count": 46,
     "metadata": {},
     "output_type": "execute_result"
    }
   ],
   "source": [
    "list1.pop(2)"
   ]
  },
  {
   "cell_type": "code",
   "execution_count": 47,
   "metadata": {},
   "outputs": [
    {
     "name": "stdout",
     "output_type": "stream",
     "text": [
      "[1, 3, 'gaurav', 'shruti', 'prayank', 5]\n"
     ]
    }
   ],
   "source": [
    "list1[3] = 'shruti'\n",
    "\n",
    "print (list1)"
   ]
  },
  {
   "cell_type": "code",
   "execution_count": 48,
   "metadata": {},
   "outputs": [],
   "source": [
    "list1.clear()"
   ]
  },
  {
   "cell_type": "code",
   "execution_count": 49,
   "metadata": {},
   "outputs": [
    {
     "name": "stdout",
     "output_type": "stream",
     "text": [
      "['batra']\n"
     ]
    }
   ],
   "source": [
    "list1.insert(3, 'batra')\n",
    "print (list1)"
   ]
  },
  {
   "cell_type": "code",
   "execution_count": 50,
   "metadata": {},
   "outputs": [
    {
     "name": "stdout",
     "output_type": "stream",
     "text": [
      "['batra']\n"
     ]
    }
   ],
   "source": [
    "list1.reverse()\n",
    "\n",
    "print (list1)"
   ]
  },
  {
   "cell_type": "code",
   "execution_count": 51,
   "metadata": {},
   "outputs": [
    {
     "name": "stdout",
     "output_type": "stream",
     "text": [
      "['batra']\n"
     ]
    }
   ],
   "source": [
    "print (list1)"
   ]
  },
  {
   "cell_type": "markdown",
   "metadata": {},
   "source": [
    "### Python Tuples"
   ]
  },
  {
   "cell_type": "code",
   "execution_count": 52,
   "metadata": {},
   "outputs": [
    {
     "name": "stdout",
     "output_type": "stream",
     "text": [
      "(1, 3, 'gaurav', 'batra', 'shruti', 'prayank', 5)\n",
      "<class 'tuple'>\n"
     ]
    }
   ],
   "source": [
    "tuple1 = (1, 3, 'gaurav', 'batra', 'shruti', 'prayank', 5)\n",
    "\n",
    "print (tuple1)\n",
    "\n",
    "print (type(tuple1))"
   ]
  },
  {
   "cell_type": "code",
   "execution_count": 53,
   "metadata": {},
   "outputs": [
    {
     "name": "stdout",
     "output_type": "stream",
     "text": [
      "shruti\n",
      "(1, 3, 'gaurav')\n"
     ]
    }
   ],
   "source": [
    "print (tuple1[4])\n",
    "\n",
    "print (tuple1[0:3])"
   ]
  },
  {
   "cell_type": "markdown",
   "metadata": {},
   "source": [
    "### Python sets"
   ]
  },
  {
   "cell_type": "code",
   "execution_count": 54,
   "metadata": {},
   "outputs": [
    {
     "name": "stdout",
     "output_type": "stream",
     "text": [
      "{10, 20, 50, 30}\n",
      "<class 'set'>\n"
     ]
    }
   ],
   "source": [
    "set1 = {10, 20, 50, 30, 20, 10}\n",
    "\n",
    "print (set1)\n",
    "\n",
    "print (type(set1))         #only unique values will come as remove duplicates automatically"
   ]
  },
  {
   "cell_type": "code",
   "execution_count": 55,
   "metadata": {},
   "outputs": [
    {
     "ename": "TypeError",
     "evalue": "'set' object is not subscriptable",
     "output_type": "error",
     "traceback": [
      "\u001b[1;31m---------------------------------------------------------------------------\u001b[0m",
      "\u001b[1;31mTypeError\u001b[0m                                 Traceback (most recent call last)",
      "\u001b[1;32m<ipython-input-55-748c77a48e25>\u001b[0m in \u001b[0;36m<module>\u001b[1;34m\u001b[0m\n\u001b[1;32m----> 1\u001b[1;33m \u001b[0mprint\u001b[0m \u001b[1;33m(\u001b[0m\u001b[0mset1\u001b[0m\u001b[1;33m[\u001b[0m\u001b[1;36m0\u001b[0m\u001b[1;33m:\u001b[0m\u001b[1;36m3\u001b[0m\u001b[1;33m]\u001b[0m\u001b[1;33m)\u001b[0m                \u001b[1;31m# unorder sequence collection so indexing doesn't work with sets\u001b[0m\u001b[1;33m\u001b[0m\u001b[1;33m\u001b[0m\u001b[0m\n\u001b[0m",
      "\u001b[1;31mTypeError\u001b[0m: 'set' object is not subscriptable"
     ]
    }
   ],
   "source": [
    "print (set1[0:3])                # unorder sequence collection so indexing doesn't work with sets"
   ]
  },
  {
   "cell_type": "markdown",
   "metadata": {},
   "source": [
    "### Python Dictionary"
   ]
  },
  {
   "cell_type": "code",
   "execution_count": 56,
   "metadata": {},
   "outputs": [
    {
     "name": "stdout",
     "output_type": "stream",
     "text": [
      "{'Gaurav': '14/09/1989', 'sharuti': '25/10/1989', 'Prayank': '01/07/2019'}\n",
      "<class 'dict'>\n",
      "01/07/2019\n"
     ]
    }
   ],
   "source": [
    "dict1 = {\"Gaurav\": \"14/09/1989\", \"sharuti\" : \"25/10/1989\", \"Prayank\" : \"01/07/2019\"}\n",
    "\n",
    "print (dict1)\n",
    "\n",
    "print (type(dict1))\n",
    "\n",
    "print (dict1 [\"Prayank\"])                #get prayank's DOB value"
   ]
  },
  {
   "cell_type": "code",
   "execution_count": 57,
   "metadata": {},
   "outputs": [
    {
     "name": "stdout",
     "output_type": "stream",
     "text": [
      "{'Gaurav': '14/09/1989', 'sharuti': '25/10/1989', 'Prayank': '01/07/2019', 'meenu': ['22/02/1992']}\n"
     ]
    }
   ],
   "source": [
    "dict1 [\"meenu\"] = [\"22/02/1992\"]                    #addition of key\n",
    "\n",
    "print(dict1)"
   ]
  },
  {
   "cell_type": "code",
   "execution_count": 58,
   "metadata": {},
   "outputs": [
    {
     "name": "stdout",
     "output_type": "stream",
     "text": [
      "{'Gaurav': ['14/09/89'], 'sharuti': '25/10/1989', 'Prayank': '01/07/2019', 'meenu': ['22/02/1992']}\n"
     ]
    }
   ],
   "source": [
    "dict1[\"Gaurav\"] = [\"14/09/89\"]                      #updation of particular key\n",
    "\n",
    "print (dict1)                      "
   ]
  },
  {
   "cell_type": "code",
   "execution_count": 59,
   "metadata": {},
   "outputs": [
    {
     "name": "stdout",
     "output_type": "stream",
     "text": [
      "{'Gaurav': '14/09/1989', 'sharuti': '25/10/1989', 'Prayank': '01/07/2019', 'meenu': '22/02/1992'}\n"
     ]
    }
   ],
   "source": [
    "dict1 = {'Gaurav': '14/09/1989', 'sharuti': '25/10/1989', 'Prayank': '01/07/2019', 'meenu': '22/02/1992'}\n",
    "print (dict1)"
   ]
  },
  {
   "cell_type": "code",
   "execution_count": 60,
   "metadata": {},
   "outputs": [
    {
     "name": "stdout",
     "output_type": "stream",
     "text": [
      "{'sharuti': '25/10/1989', 'Prayank': '01/07/2019', 'meenu': '22/02/1992'}\n"
     ]
    }
   ],
   "source": [
    "del dict1[\"Gaurav\"]\n",
    "\n",
    "print (dict1)"
   ]
  },
  {
   "cell_type": "markdown",
   "metadata": {},
   "source": [
    "## Conversion B/w Datatypes"
   ]
  },
  {
   "cell_type": "code",
   "execution_count": 61,
   "metadata": {},
   "outputs": [
    {
     "ename": "ValueError",
     "evalue": "invalid literal for int() with base 10: '11.2'",
     "output_type": "error",
     "traceback": [
      "\u001b[1;31m---------------------------------------------------------------------------\u001b[0m",
      "\u001b[1;31mValueError\u001b[0m                                Traceback (most recent call last)",
      "\u001b[1;32m<ipython-input-61-7330fe8f8ff2>\u001b[0m in \u001b[0;36m<module>\u001b[1;34m\u001b[0m\n\u001b[1;32m----> 1\u001b[1;33m \u001b[0mint\u001b[0m \u001b[1;33m(\u001b[0m\u001b[1;34m'11.2'\u001b[0m\u001b[1;33m)\u001b[0m               \u001b[1;31m#floating value under string so error thrown\u001b[0m\u001b[1;33m\u001b[0m\u001b[1;33m\u001b[0m\u001b[0m\n\u001b[0m",
      "\u001b[1;31mValueError\u001b[0m: invalid literal for int() with base 10: '11.2'"
     ]
    }
   ],
   "source": [
    "int ('11.2')               #floating value under string so error thrown"
   ]
  },
  {
   "cell_type": "code",
   "execution_count": 62,
   "metadata": {},
   "outputs": [
    {
     "data": {
      "text/plain": [
       "11"
      ]
     },
     "execution_count": 62,
     "metadata": {},
     "output_type": "execute_result"
    }
   ],
   "source": [
    "int (11.2)   #float to int"
   ]
  },
  {
   "cell_type": "code",
   "execution_count": 5,
   "metadata": {},
   "outputs": [
    {
     "name": "stdout",
     "output_type": "stream",
     "text": [
      "True\n"
     ]
    }
   ],
   "source": [
    "p = \"212\" \n",
    "\n",
    "q= p.isdigit()\n",
    "print (q)"
   ]
  },
  {
   "cell_type": "code",
   "execution_count": 63,
   "metadata": {},
   "outputs": [
    {
     "data": {
      "text/plain": [
       "11.0"
      ]
     },
     "execution_count": 63,
     "metadata": {},
     "output_type": "execute_result"
    }
   ],
   "source": [
    "float (11)               #int to float"
   ]
  },
  {
   "cell_type": "code",
   "execution_count": 64,
   "metadata": {},
   "outputs": [
    {
     "data": {
      "text/plain": [
       "5"
      ]
     },
     "execution_count": 64,
     "metadata": {},
     "output_type": "execute_result"
    }
   ],
   "source": [
    "int (\"5\")                 #string to int"
   ]
  },
  {
   "cell_type": "code",
   "execution_count": 65,
   "metadata": {},
   "outputs": [
    {
     "ename": "ValueError",
     "evalue": "invalid literal for int() with base 10: 'string'",
     "output_type": "error",
     "traceback": [
      "\u001b[1;31m---------------------------------------------------------------------------\u001b[0m",
      "\u001b[1;31mValueError\u001b[0m                                Traceback (most recent call last)",
      "\u001b[1;32m<ipython-input-65-7cb4d5159d4a>\u001b[0m in \u001b[0;36m<module>\u001b[1;34m\u001b[0m\n\u001b[1;32m----> 1\u001b[1;33m \u001b[0mint\u001b[0m \u001b[1;33m(\u001b[0m\u001b[1;34m'string'\u001b[0m\u001b[1;33m)\u001b[0m             \u001b[1;31m#string is having characters so will throw error\u001b[0m\u001b[1;33m\u001b[0m\u001b[1;33m\u001b[0m\u001b[0m\n\u001b[0m",
      "\u001b[1;31mValueError\u001b[0m: invalid literal for int() with base 10: 'string'"
     ]
    }
   ],
   "source": [
    "int ('string')             #string is having characters so will throw error"
   ]
  },
  {
   "cell_type": "code",
   "execution_count": 66,
   "metadata": {},
   "outputs": [
    {
     "ename": "TypeError",
     "evalue": "can only concatenate str (not \"int\") to str",
     "output_type": "error",
     "traceback": [
      "\u001b[1;31m---------------------------------------------------------------------------\u001b[0m",
      "\u001b[1;31mTypeError\u001b[0m                                 Traceback (most recent call last)",
      "\u001b[1;32m<ipython-input-66-ce33e2d1491b>\u001b[0m in \u001b[0;36m<module>\u001b[1;34m\u001b[0m\n\u001b[1;32m----> 1\u001b[1;33m \u001b[0mstrng\u001b[0m \u001b[1;33m=\u001b[0m \u001b[1;34m\"Gaurav\"\u001b[0m \u001b[1;33m+\u001b[0m \u001b[1;36m1989\u001b[0m \u001b[1;33m+\u001b[0m \u001b[1;34m\"Batra\"\u001b[0m\u001b[1;33m\u001b[0m\u001b[1;33m\u001b[0m\u001b[0m\n\u001b[0m\u001b[0;32m      2\u001b[0m \u001b[1;33m\u001b[0m\u001b[0m\n\u001b[0;32m      3\u001b[0m \u001b[0mprint\u001b[0m \u001b[1;33m(\u001b[0m\u001b[0mstrng\u001b[0m\u001b[1;33m)\u001b[0m\u001b[1;33m\u001b[0m\u001b[1;33m\u001b[0m\u001b[0m\n",
      "\u001b[1;31mTypeError\u001b[0m: can only concatenate str (not \"int\") to str"
     ]
    }
   ],
   "source": [
    "strng = \"Gaurav\" + 1989 + \"Batra\"\n",
    "\n",
    "print (strng)"
   ]
  },
  {
   "cell_type": "code",
   "execution_count": 67,
   "metadata": {},
   "outputs": [
    {
     "name": "stdout",
     "output_type": "stream",
     "text": [
      "Gaurav1989Batra\n"
     ]
    }
   ],
   "source": [
    "strng = \"Gaurav\" + str(1989) + \"Batra\"\n",
    "\n",
    "print (strng)                #now 1989 changed into string"
   ]
  },
  {
   "cell_type": "code",
   "execution_count": 68,
   "metadata": {},
   "outputs": [
    {
     "name": "stdout",
     "output_type": "stream",
     "text": [
      "[10, 23, 45, 56, 45, 10]\n",
      "<class 'list'>\n",
      "{56, 10, 45, 23}\n",
      "<class 'set'>\n"
     ]
    }
   ],
   "source": [
    "# List to set\n",
    "\n",
    "list4 = [10, 23, 45, 56, 45, 10]\n",
    "print (list4)\n",
    "print (type(list4))\n",
    "\n",
    "\n",
    "set4 = set(list4)\n",
    "print (set4)\n",
    "print (type(set4))"
   ]
  },
  {
   "cell_type": "code",
   "execution_count": 69,
   "metadata": {},
   "outputs": [
    {
     "name": "stdout",
     "output_type": "stream",
     "text": [
      "gaurav batra\n",
      "<class 'str'>\n",
      "['g', 'a', 'u', 'r', 'a', 'v', ' ', 'b', 'a', 't', 'r', 'a']\n",
      "<class 'list'>\n"
     ]
    }
   ],
   "source": [
    "# string to list\n",
    "\n",
    "strng = \"gaurav batra\"\n",
    "print (strng)\n",
    "print (type(strng))\n",
    "\n",
    "strngtolist = list(strng)\n",
    "print (strngtolist)\n",
    "print (type(strngtolist))"
   ]
  },
  {
   "cell_type": "code",
   "execution_count": 70,
   "metadata": {},
   "outputs": [
    {
     "name": "stdout",
     "output_type": "stream",
     "text": [
      "{56, 10, 45, 23}\n",
      "<class 'set'>\n",
      "[56, 10, 45, 23]\n",
      "<class 'list'>\n"
     ]
    }
   ],
   "source": [
    "# Set to list\n",
    "\n",
    "set5 = {10, 23, 45, 56, 45, 10}\n",
    "print (set5)\n",
    "print (type(set5))\n",
    "\n",
    "\n",
    "list5 = list(set5)\n",
    "print (list5)\n",
    "print (type(list5))"
   ]
  },
  {
   "cell_type": "markdown",
   "metadata": {},
   "source": [
    "### Python Output"
   ]
  },
  {
   "cell_type": "code",
   "execution_count": 71,
   "metadata": {},
   "outputs": [
    {
     "name": "stdout",
     "output_type": "stream",
     "text": [
      "for getting python output, use Print function\n"
     ]
    }
   ],
   "source": [
    "print (\"for getting python output, use Print function\")"
   ]
  },
  {
   "cell_type": "code",
   "execution_count": 72,
   "metadata": {},
   "outputs": [
    {
     "name": "stdout",
     "output_type": "stream",
     "text": [
      "my DOB is 140989\n"
     ]
    }
   ],
   "source": [
    "int1 = 140989\n",
    "\n",
    "print (\"my DOB is\", int1)                    #in a simple way"
   ]
  },
  {
   "cell_type": "code",
   "execution_count": 73,
   "metadata": {},
   "outputs": [
    {
     "name": "stdout",
     "output_type": "stream",
     "text": [
      "my DOB is140989\n"
     ]
    }
   ],
   "source": [
    "int1 = 140989\n",
    "\n",
    "print (\"my DOB is\" + str(int1))             #converting int into string and then concatenate \n",
    "\n",
    "#as output will come with one space less in between is and DOB"
   ]
  },
  {
   "cell_type": "markdown",
   "metadata": {},
   "source": [
    "### Output Formatting"
   ]
  },
  {
   "cell_type": "code",
   "execution_count": 6,
   "metadata": {},
   "outputs": [
    {
     "name": "stdout",
     "output_type": "stream",
     "text": [
      "intnum1 : 400 is one forth of intnum2 : 1600\n"
     ]
    }
   ],
   "source": [
    "# using of str.format() method for showing output in more attractive way\n",
    "\n",
    "intnum1 = 400                   \n",
    "\n",
    "intnum2 = 1600\n",
    "\n",
    "print(\"intnum1 : {} is one forth of intnum2 : {}\".format (intnum1, intnum2))"
   ]
  },
  {
   "cell_type": "code",
   "execution_count": 7,
   "metadata": {},
   "outputs": [
    {
     "name": "stdout",
     "output_type": "stream",
     "text": [
      "intnum2 : 1600 is four times of intnum1 : 400\n"
     ]
    }
   ],
   "source": [
    "# changing position in string without chaging format, use of indexing\n",
    "\n",
    "print(\"intnum2 : {1} is four times of intnum1 : {0}\".format (intnum1, intnum2))       "
   ]
  },
  {
   "cell_type": "code",
   "execution_count": 8,
   "metadata": {},
   "outputs": [
    {
     "name": "stdout",
     "output_type": "stream",
     "text": [
      "I travelled to mumbai in the month of november and weather conditions were like as summer\n"
     ]
    }
   ],
   "source": [
    "# use of keywords argument to format string\n",
    "\n",
    "print (\"I travelled to {place} in the month of {month} and weather conditions were like as {weather}\".format(place= 'mumbai', weather ='summer', month = 'november'))"
   ]
  },
  {
   "cell_type": "code",
   "execution_count": 9,
   "metadata": {},
   "outputs": [
    {
     "name": "stdout",
     "output_type": "stream",
     "text": [
      "I travelled to mumbai in the month of november and weather conditions were like as summer\n"
     ]
    }
   ],
   "source": [
    "# combination of positional arguments and keyword arguments\n",
    "\n",
    "print (\"I travelled to {0} in the month of {month} and weather conditions were like as {1}\".format('mumbai', 'summer', month = 'november'))"
   ]
  },
  {
   "cell_type": "code",
   "execution_count": 10,
   "metadata": {},
   "outputs": [
    {
     "name": "stdout",
     "output_type": "stream",
     "text": [
      "+5.150000, +5.150000\n",
      "+5.150000, -5.150000\n",
      "-5.150000, 5.150000\n",
      "5.150000, 5.150000\n"
     ]
    }
   ],
   "source": [
    "# show signs\n",
    "\n",
    "print (\"{:+f}, {:+f}\". format(5.15, 5.15))\n",
    "\n",
    "print (\"{:+f}, {:-f}\". format(5.15, -5.15))\n",
    "\n",
    "print (\"{:f}, {:-f}\". format(-5.15, 5.15))\n",
    "\n",
    "print (\"{:f}, {:f}\". format(5.15, 5.15))"
   ]
  },
  {
   "cell_type": "markdown",
   "metadata": {},
   "source": [
    "### Python Input"
   ]
  },
  {
   "cell_type": "code",
   "execution_count": 11,
   "metadata": {},
   "outputs": [
    {
     "name": "stdout",
     "output_type": "stream",
     "text": [
      "how many marks achieved in JEE exam out of 1000? :960\n",
      "you typed in:  960\n",
      "type of user input data:  <class 'str'>\n"
     ]
    }
   ],
   "source": [
    "inputdata = input(\"how many marks achieved in JEE exam out of 1000? :\")\n",
    "\n",
    "print(\"you typed in: \", inputdata)\n",
    "\n",
    "print (\"type of user input data: \", type(inputdata))"
   ]
  },
  {
   "cell_type": "code",
   "execution_count": 13,
   "metadata": {},
   "outputs": [
    {
     "name": "stdout",
     "output_type": "stream",
     "text": [
      "you typed in:  960\n",
      "type of user input data:  <class 'int'>\n"
     ]
    }
   ],
   "source": [
    "marks = int(inputdata)\n",
    "\n",
    "print(\"you typed in: \", inputdata)\n",
    "\n",
    "print (\"type of user input data: \", type(marks))"
   ]
  },
  {
   "cell_type": "markdown",
   "metadata": {},
   "source": [
    "## Operators"
   ]
  },
  {
   "cell_type": "markdown",
   "metadata": {},
   "source": [
    "### Arithematic operator"
   ]
  },
  {
   "cell_type": "code",
   "execution_count": 4,
   "metadata": {},
   "outputs": [
    {
     "name": "stdout",
     "output_type": "stream",
     "text": [
      "11\n",
      "3\n",
      "28\n",
      "1.75\n",
      "3\n",
      "1\n",
      "2401\n"
     ]
    }
   ],
   "source": [
    "var1, var2 = 7, 4\n",
    "\n",
    "print (var1 + var2)      #addition (+)\n",
    "\n",
    "print (var1 - var2)      #subtraction (+)\n",
    "\n",
    "print (var1 * var2)      #multiplication (*)\n",
    "\n",
    "print (var1 / var2)      #division (/)\n",
    "\n",
    "print (var1 % var2)      #modulus (%)\n",
    "\n",
    "print (var1 // var2)      #floor division (//)                    # vale comes to be nearest smallest integer \n",
    "\n",
    "print (var1 ** var2)      #expoenent or power (**)"
   ]
  },
  {
   "cell_type": "markdown",
   "metadata": {},
   "source": [
    "### Comparison operator"
   ]
  },
  {
   "cell_type": "code",
   "execution_count": 7,
   "metadata": {},
   "outputs": [
    {
     "name": "stdout",
     "output_type": "stream",
     "text": [
      "True\n",
      "False\n",
      "False\n",
      "True\n",
      "True\n",
      "False\n",
      "True\n",
      "True\n"
     ]
    }
   ],
   "source": [
    "var1, var2 = 7, 4\n",
    "\n",
    "print (var1 > var2)      #one is greater than other (>)\n",
    "\n",
    "print (var1 < var2)      #one is lesser than other (<)\n",
    "\n",
    "print (var1 == var2)      #one is euqal to other (==)\n",
    "\n",
    "print (var1 != var2)      #one is not euqal to other (!=)\n",
    "\n",
    "print (var1 >= var2)      #one is greater than and equal to other (>=)\n",
    "\n",
    "print (var1 <= var2)      #one is smaller than and equal to other (<=)\n",
    "\n",
    "\n",
    "var3, var4 = 7, 7\n",
    "\n",
    "print (var3 >= var4)      #one is greater than and equal to other (>=)\n",
    "\n",
    "print (var3 <= var4)      #one is smaller than and equal to other (<=)\n"
   ]
  },
  {
   "cell_type": "markdown",
   "metadata": {},
   "source": [
    "### Logical Operator"
   ]
  },
  {
   "cell_type": "code",
   "execution_count": 8,
   "metadata": {},
   "outputs": [
    {
     "name": "stdout",
     "output_type": "stream",
     "text": [
      "False\n",
      "True\n",
      "False\n",
      "True\n"
     ]
    }
   ],
   "source": [
    "log1, log2 = True, False\n",
    "\n",
    "print (log1 and log2)        # and operator\n",
    "\n",
    "#0 0 0\n",
    "#0 1 0\n",
    "#1 0 0\n",
    "#1 1 1\n",
    "\n",
    "print (log1 or log2)        # or operator\n",
    "\n",
    "#0 0 0\n",
    "#0 1 1\n",
    "#1 0 1\n",
    "#1 1 1\n",
    "\n",
    "print (not log1)           # not operator\n",
    "\n",
    "print (not log2)"
   ]
  },
  {
   "cell_type": "markdown",
   "metadata": {},
   "source": [
    "### Bitwise Operator"
   ]
  },
  {
   "cell_type": "code",
   "execution_count": 14,
   "metadata": {},
   "outputs": [
    {
     "name": "stdout",
     "output_type": "stream",
     "text": [
      "5\n",
      "7\n",
      "-6\n",
      "-8\n",
      "1\n",
      "20\n",
      "2\n"
     ]
    }
   ],
   "source": [
    "bit1, bit2 = 7, 5                                # 7 = 0000 0111, 5 = 0000 0101\n",
    "\n",
    "print (bit1 & bit2)       # and operator\n",
    "\n",
    "print (bit1 | bit2)       # or operator\n",
    "\n",
    "print (~ bit2)       # not operator\n",
    "\n",
    "print (~ bit1)       # not operator\n",
    "\n",
    "print (bit2 >>2)       # rightshift operator\n",
    "\n",
    "print (bit2 <<2)       # leftshift operator\n",
    "\n",
    "print (bit1 ^ bit2)       # XOR operator"
   ]
  },
  {
   "cell_type": "markdown",
   "metadata": {},
   "source": [
    "### Assignment Operator"
   ]
  },
  {
   "cell_type": "code",
   "execution_count": 21,
   "metadata": {},
   "outputs": [
    {
     "name": "stdout",
     "output_type": "stream",
     "text": [
      "60\n",
      "55\n",
      "275\n",
      "137.5\n",
      "137.5\n",
      "17.5\n",
      "8.0\n"
     ]
    }
   ],
   "source": [
    "marks = 50\n",
    "\n",
    "marks += 10\n",
    "print (marks)\n",
    "\n",
    "marks -= 5\n",
    "print (marks)\n",
    "\n",
    "marks *= 5\n",
    "print (marks)\n",
    "\n",
    "marks /= 2\n",
    "print (marks)\n",
    "\n",
    "marks **= 1\n",
    "print (marks)\n",
    "\n",
    "marks %= 20\n",
    "print (marks)\n",
    "\n",
    "marks //= 2\n",
    "print (marks)"
   ]
  },
  {
   "cell_type": "markdown",
   "metadata": {},
   "source": [
    "### Membership Operator"
   ]
  },
  {
   "cell_type": "code",
   "execution_count": 25,
   "metadata": {},
   "outputs": [
    {
     "name": "stdout",
     "output_type": "stream",
     "text": [
      "False\n",
      "False\n",
      "True\n"
     ]
    }
   ],
   "source": [
    "# in and not in\n",
    "\n",
    "list1 = [3, 'g', 'p', 4, 5, 44]\n",
    "\n",
    "print (50 in list1)\n",
    "\n",
    "print ('g' not in list1)\n",
    "\n",
    "print ('p' in list1)"
   ]
  },
  {
   "cell_type": "code",
   "execution_count": 29,
   "metadata": {},
   "outputs": [
    {
     "name": "stdout",
     "output_type": "stream",
     "text": [
      "True\n",
      "True\n"
     ]
    }
   ],
   "source": [
    "set1 = {10, 20, 30, 20}\n",
    "\n",
    "set2 = {10, 20, 30}\n",
    "\n",
    "print (20 in set1)\n",
    "\n",
    "print (10 in set2)"
   ]
  },
  {
   "cell_type": "code",
   "execution_count": 35,
   "metadata": {},
   "outputs": [
    {
     "name": "stdout",
     "output_type": "stream",
     "text": [
      "True\n",
      "False\n",
      "True\n",
      "False\n"
     ]
    }
   ],
   "source": [
    "dict1 = {'Gaurav': '14/09/1989', 'sharuti': '25/10/1989', 'Prayank': '01/07/2019', 'meenu': '22/02/1992'}\n",
    "\n",
    "print ('Gaurav' in dict1)\n",
    "\n",
    "print ('14/09/1989' in dict1)\n",
    "\n",
    "print ('batra' not in dict1)\n",
    "\n",
    "print ('gaurav' in dict1) "
   ]
  },
  {
   "cell_type": "code",
   "execution_count": 36,
   "metadata": {},
   "outputs": [
    {
     "name": "stdout",
     "output_type": "stream",
     "text": [
      "True\n",
      "True\n",
      "False\n"
     ]
    }
   ],
   "source": [
    "tup1 =(2, 4, 'a', 5, 'b')\n",
    "\n",
    "print ('a' in tup1)\n",
    "\n",
    "print ('g' not in tup1)\n",
    "\n",
    "print (6 in tup1)"
   ]
  },
  {
   "cell_type": "markdown",
   "metadata": {},
   "source": [
    "### Identity Operator"
   ]
  },
  {
   "cell_type": "code",
   "execution_count": 26,
   "metadata": {},
   "outputs": [
    {
     "name": "stdout",
     "output_type": "stream",
     "text": [
      "False\n",
      "True\n"
     ]
    }
   ],
   "source": [
    "int3 = 30\n",
    "int4 = 40\n",
    "\n",
    "print (int3 is int4)\n",
    "\n",
    "print (int3 is not int4)"
   ]
  },
  {
   "cell_type": "code",
   "execution_count": 27,
   "metadata": {},
   "outputs": [
    {
     "name": "stdout",
     "output_type": "stream",
     "text": [
      "False\n",
      "True\n"
     ]
    }
   ],
   "source": [
    "list3 = [3, 4, 6]\n",
    "\n",
    "list4 = [3, 4, 6]\n",
    "\n",
    "print (list3 is list4)\n",
    "\n",
    "print (list3 is not list4)"
   ]
  },
  {
   "cell_type": "code",
   "execution_count": 28,
   "metadata": {},
   "outputs": [
    {
     "name": "stdout",
     "output_type": "stream",
     "text": [
      "True\n",
      "False\n"
     ]
    }
   ],
   "source": [
    "stg1 = 'prayank'\n",
    "stg2 = 'prayank'\n",
    "\n",
    "print (stg1 is stg2)\n",
    "print (stg1 is not stg2)"
   ]
  },
  {
   "cell_type": "code",
   "execution_count": 32,
   "metadata": {},
   "outputs": [
    {
     "name": "stdout",
     "output_type": "stream",
     "text": [
      "False\n",
      "True\n"
     ]
    }
   ],
   "source": [
    "set1 = {10, 20, 30, 20}\n",
    "\n",
    "set2 = {10, 20, 30, 20}\n",
    "\n",
    "print (set1 is set2)\n",
    "\n",
    "print (set1 is not set2)"
   ]
  },
  {
   "cell_type": "code",
   "execution_count": 37,
   "metadata": {},
   "outputs": [
    {
     "name": "stdout",
     "output_type": "stream",
     "text": [
      "False\n",
      "True\n"
     ]
    }
   ],
   "source": [
    "tup1 =(2, 4, 'a', 5, 'b')\n",
    "\n",
    "tup2 =(2, 4, 'a', 5, 'b')\n",
    "\n",
    "print (tup1 is tup2)\n",
    "\n",
    "print (tup1 is not tup2)"
   ]
  },
  {
   "cell_type": "markdown",
   "metadata": {},
   "source": [
    "### if-elif- else statement"
   ]
  },
  {
   "cell_type": "code",
   "execution_count": 41,
   "metadata": {},
   "outputs": [
    {
     "name": "stdout",
     "output_type": "stream",
     "text": [
      "The Result of student : Student got Failed.\n"
     ]
    }
   ],
   "source": [
    "Student_marks = 35\n",
    "\n",
    "if Student_marks >= 80:\n",
    "    Result = \"Congrats! Student got Ist Division.\"\n",
    "\n",
    "elif (Student_marks >= 60) and (Student_marks < 80):\n",
    "        Result = \"Good! Student got Second Division.\"\n",
    "\n",
    "elif (Student_marks >= 40) and (Student_marks < 60):\n",
    "    Result = \"Student passed with average marks.\"\n",
    "\n",
    "else:\n",
    "    Result = \"Student got Failed.\"\n",
    "    \n",
    "print (\"The Result of student : {}\". format(Result))    "
   ]
  },
  {
   "cell_type": "code",
   "execution_count": 51,
   "metadata": {},
   "outputs": [
    {
     "name": "stdout",
     "output_type": "stream",
     "text": [
      "Inside if block\n",
      "outside if block\n"
     ]
    }
   ],
   "source": [
    "# if statement\n",
    "\n",
    "marks = 60\n",
    "if marks >= 50:\n",
    "    print (\"Inside if block\")\n",
    "print (\"outside if block\")"
   ]
  },
  {
   "cell_type": "markdown",
   "metadata": {},
   "source": [
    "### Calculation of a FACTORIAL Number "
   ]
  },
  {
   "cell_type": "code",
   "execution_count": 97,
   "metadata": {},
   "outputs": [
    {
     "name": "stdout",
     "output_type": "stream",
     "text": [
      "Enter a non-zero number: 5\n",
      "Thank you!!! Let me share result with you\n",
      "Factorical of given input number is: 120\n"
     ]
    }
   ],
   "source": [
    "userinput = input (\"Enter a non-zero number: \")\n",
    "number = int(userinput)\n",
    "\n",
    "if number <= 0:\n",
    "    print (\"invalid number\")\n",
    "    userinput = input (\"Enter a non-zero number: \")\n",
    "    number = int(userinput)\n",
    "else: \n",
    "    print (\"Thank you!!! Let me share result with you\")\n",
    "\n",
    "fact = 1\n",
    "if number > 0:\n",
    "    while number > 0:\n",
    "        fact *= number         \n",
    "        number -= 1\n",
    "print (\"Factorical of given input number is:\", fact)"
   ]
  },
  {
   "cell_type": "code",
   "execution_count": 101,
   "metadata": {},
   "outputs": [
    {
     "name": "stdout",
     "output_type": "stream",
     "text": [
      "sum of mylist : 24\n"
     ]
    }
   ],
   "source": [
    "# sum of numbers in list using while loop\n",
    "\n",
    "list1 = [2, 4, 5, 6, 7]\n",
    "\n",
    "sum = 0\n",
    "index = 0\n",
    "while index < len(list1):\n",
    "    sum += list1 [index]\n",
    "    index += 1 \n",
    "    \n",
    "print (\"sum of mylist : {}\".format (sum))"
   ]
  },
  {
   "cell_type": "code",
   "execution_count": 103,
   "metadata": {},
   "outputs": [
    {
     "name": "stdout",
     "output_type": "stream",
     "text": [
      "2\n",
      "4\n",
      "5\n",
      "6\n",
      "7\n",
      "Iteration Completed\n"
     ]
    }
   ],
   "source": [
    "# Iterating list using while loop\n",
    "\n",
    "list1 = [2, 4, 5, 6, 7]\n",
    "\n",
    "index = 0\n",
    "while index < len(list1):\n",
    "    print (list1 [index])\n",
    "    index += 1\n",
    "print (\"Iteration Completed\")"
   ]
  },
  {
   "cell_type": "code",
   "execution_count": 104,
   "metadata": {},
   "outputs": [
    {
     "name": "stdout",
     "output_type": "stream",
     "text": [
      "sum of array: 24\n"
     ]
    }
   ],
   "source": [
    "# sum of numbers in list using FOR loop\n",
    "\n",
    "c\n",
    "\n",
    "sum = 0\n",
    "for element in list1:\n",
    "    sum += element \n",
    "\n",
    "print (\"sum of array: {}\".format(sum))"
   ]
  },
  {
   "cell_type": "code",
   "execution_count": 106,
   "metadata": {},
   "outputs": [
    {
     "name": "stdout",
     "output_type": "stream",
     "text": [
      "0\n",
      "10\n",
      "20\n",
      "30\n",
      "40\n",
      "50\n",
      "60\n",
      "70\n",
      "80\n",
      "90\n",
      "100\n"
     ]
    }
   ],
   "source": [
    "# Range() function n it is also defined as range (start, stop, step_size)\n",
    "\n",
    "for element in range (0, 101, 10):\n",
    "    print (element)"
   ]
  },
  {
   "cell_type": "code",
   "execution_count": 107,
   "metadata": {},
   "outputs": [
    {
     "name": "stdout",
     "output_type": "stream",
     "text": [
      "0\n",
      "1\n",
      "2\n",
      "3\n",
      "4\n",
      "5\n",
      "6\n",
      "7\n",
      "8\n",
      "9\n"
     ]
    }
   ],
   "source": [
    "for element in range (10):\n",
    "    print (element)"
   ]
  },
  {
   "cell_type": "code",
   "execution_count": 108,
   "metadata": {},
   "outputs": [
    {
     "name": "stdout",
     "output_type": "stream",
     "text": [
      "2\n",
      "4\n",
      "5\n",
      "6\n",
      "gaurav\n",
      "7\n"
     ]
    }
   ],
   "source": [
    "list1 = [2, 4, 5, 6, \"gaurav\", 7]\n",
    "for element in list1:\n",
    "    print (element)"
   ]
  },
  {
   "cell_type": "code",
   "execution_count": 109,
   "metadata": {},
   "outputs": [
    {
     "name": "stdout",
     "output_type": "stream",
     "text": [
      "2\n",
      "4\n",
      "5\n",
      "6\n",
      "gaurav\n",
      "7\n",
      "iteration completed\n"
     ]
    }
   ],
   "source": [
    "# for loop with else\n",
    "\n",
    "list1 = [2, 4, 5, 6, \"gaurav\", 7]\n",
    "for element in list1:\n",
    "    print (element)\n",
    "else:\n",
    "    print (\"iteration completed\")"
   ]
  },
  {
   "cell_type": "code",
   "execution_count": 117,
   "metadata": {},
   "outputs": [
    {
     "name": "stdout",
     "output_type": "stream",
     "text": [
      "prayank\n",
      "gaurav\n",
      "shruti\n",
      "Came out of for else block after break statement\n"
     ]
    }
   ],
   "source": [
    "# for loop with else and break statement\n",
    "\n",
    "names = ['prayank', 'gaurav', 'shruti', 'meenu']\n",
    "\n",
    "for name in names:\n",
    "    print (name)\n",
    "    if name == 'shruti':\n",
    "        break\n",
    "else:\n",
    "    print (\"iteration completed\")\n",
    "    \n",
    "print (\"Came out of for else block after break statement\")"
   ]
  },
  {
   "cell_type": "markdown",
   "metadata": {},
   "source": [
    "### Program to calculate Divisors of number "
   ]
  },
  {
   "cell_type": "code",
   "execution_count": 121,
   "metadata": {},
   "outputs": [
    {
     "name": "stdout",
     "output_type": "stream",
     "text": [
      "Enter a non-zero positive number : 100\n",
      "[1, 2, 4, 5, 10, 20, 25, 50]\n"
     ]
    }
   ],
   "source": [
    "inpnum = input (\"Enter a non-zero positive number : \")\n",
    "number = int (inpnum)\n",
    "listofdivisors = [1]\n",
    "\n",
    "\n",
    "for divisors in range(2, int(number/2)+1) :        #divisor = 2, 3, 4, 5, 6, 7 etc.\n",
    "    if (number%divisors == 0):\n",
    "        listofdivisors.append(divisors)\n",
    "else:\n",
    "    print (listofdivisors)"
   ]
  },
  {
   "cell_type": "markdown",
   "metadata": {},
   "source": [
    "### Use of break and continue statement"
   ]
  },
  {
   "cell_type": "code",
   "execution_count": 126,
   "metadata": {},
   "outputs": [
    {
     "name": "stdout",
     "output_type": "stream",
     "text": [
      "prayank\n",
      "gaurav\n",
      "shruti\n",
      "meenu\n",
      "iteration completed\n",
      "Came out of for else block after break statement\n"
     ]
    }
   ],
   "source": [
    "# use of break \n",
    "\n",
    "names = c\n",
    "\n",
    "for name in names:\n",
    "    \n",
    "    if name == 'neelam':\n",
    "        break\n",
    "    print (name)\n",
    "else:\n",
    "    print (\"iteration completed\")\n",
    "    \n",
    "print (\"Came out of for else block after break statement\")\n",
    "\n",
    "\n",
    "# if name will not be there then loop will be completed and break will be exit."
   ]
  },
  {
   "cell_type": "code",
   "execution_count": 125,
   "metadata": {},
   "outputs": [
    {
     "name": "stdout",
     "output_type": "stream",
     "text": [
      "prayank\n",
      "shruti\n",
      "meenu\n",
      "iteration completed\n",
      "Came out of for else block after break statement\n"
     ]
    }
   ],
   "source": [
    "# use of continue\n",
    "\n",
    "names = ['prayank', 'gaurav', 'shruti', 'meenu']\n",
    "\n",
    "for name in names:\n",
    "    \n",
    "    if name == 'gaurav':\n",
    "        continue\n",
    "    print (name)\n",
    "else:\n",
    "    print (\"iteration completed\")\n",
    "    \n",
    "print (\"Came out of for else block after break statement\")\n",
    "\n",
    "#as after using continue, it skipped the name \"gaurav\""
   ]
  },
  {
   "cell_type": "markdown",
   "metadata": {},
   "source": [
    "### Example : first 3 divisors of a number execpt 2 & 3"
   ]
  },
  {
   "cell_type": "code",
   "execution_count": 132,
   "metadata": {},
   "outputs": [
    {
     "name": "stdout",
     "output_type": "stream",
     "text": [
      "Enter a non-zero positive number : 48\n",
      "[1, 4, 6]\n"
     ]
    }
   ],
   "source": [
    "inpnum = input (\"Enter a non-zero positive number : \")\n",
    "number = int (inpnum)\n",
    "listofdivisors = [1]\n",
    "\n",
    "for divisors in range(2, int(number/2)+1) :        #divisor = 2, 3, 4, 5, 6, 7 etc.\n",
    "    if (number%divisors == 0):\n",
    "        if divisors in [2, 3]:\n",
    "            continue\n",
    "        elif len(listofdivisors) == 3:\n",
    "            break\n",
    "        listofdivisors.append(divisors)\n",
    "print (listofdivisors)"
   ]
  },
  {
   "cell_type": "markdown",
   "metadata": {},
   "source": [
    "# Lists"
   ]
  },
  {
   "cell_type": "code",
   "execution_count": 133,
   "metadata": {},
   "outputs": [
    {
     "name": "stdout",
     "output_type": "stream",
     "text": [
      "[]\n",
      "['prayank', 'gaurav', 'shruti', 'meenu']\n",
      "[2, 4, 5, 8]\n",
      "[[2, 4, 5], [4, 5], [3, 4.5, 'gaurav']]\n",
      "[2, 3, 4.5, 'gaurav', 4.9]\n"
     ]
    }
   ],
   "source": [
    "blank_list = []                \n",
    "\n",
    "list_of_strings = ['prayank', 'gaurav', 'shruti', 'meenu']\n",
    "\n",
    "list_of_nums = [2, 4, 5, 8]\n",
    "\n",
    "list_of_lists = [[2, 4, 5], [4, 5], [3, 4.5, 'gaurav']]\n",
    "\n",
    "mixed_data_list = [2, 3, 4.5, 'gaurav', 4.9]\n",
    "\n",
    "print (blank_list)\n",
    "\n",
    "print (list_of_strings)\n",
    "\n",
    "print (list_of_nums)\n",
    "\n",
    "print (list_of_lists)\n",
    "\n",
    "print (mixed_data_list)"
   ]
  },
  {
   "cell_type": "code",
   "execution_count": 134,
   "metadata": {},
   "outputs": [
    {
     "name": "stdout",
     "output_type": "stream",
     "text": [
      "0\n",
      "4\n",
      "4\n",
      "3\n",
      "5\n"
     ]
    }
   ],
   "source": [
    "# finding length of list\n",
    "\n",
    "print (len(blank_list))\n",
    "\n",
    "print (len(list_of_strings))\n",
    "\n",
    "print (len(list_of_nums))\n",
    "\n",
    "print (len(list_of_lists))\n",
    "\n",
    "print (len(mixed_data_list))"
   ]
  },
  {
   "cell_type": "code",
   "execution_count": 135,
   "metadata": {},
   "outputs": [
    {
     "name": "stdout",
     "output_type": "stream",
     "text": [
      "[2, 3, 4.5, 'gaurav', 4.9, 'shruti']\n"
     ]
    }
   ],
   "source": [
    "#add an element by using append, that will add in end of list\n",
    "\n",
    "mixed_data_list.append('shruti')\n",
    "\n",
    "print (mixed_data_list)"
   ]
  },
  {
   "cell_type": "code",
   "execution_count": 136,
   "metadata": {},
   "outputs": [
    {
     "name": "stdout",
     "output_type": "stream",
     "text": [
      "[2, 3, 4.5, 'prayank', 'gaurav', 4.9, 'shruti']\n"
     ]
    }
   ],
   "source": [
    "# inserting an element\n",
    "\n",
    "mixed_data_list.insert (3, 'prayank')\n",
    "\n",
    "print (mixed_data_list)"
   ]
  },
  {
   "cell_type": "code",
   "execution_count": 141,
   "metadata": {},
   "outputs": [
    {
     "name": "stdout",
     "output_type": "stream",
     "text": [
      "[2, 3, 4.5, 'prayank', 'gaurav', 4.9, 'shruti', [2, 4, 5], [4, 5], [3, 4.5, 'gaurav']]\n",
      "10\n"
     ]
    }
   ],
   "source": [
    "# extend function\n",
    "\n",
    "mixed_data_list = [2, 3, 4.5, 'prayank', 'gaurav', 4.9, 'shruti']\n",
    "\n",
    "mixed_data_list.extend(list_of_lists)\n",
    "\n",
    "print (mixed_data_list)\n",
    "\n",
    "print (len(mixed_data_list))"
   ]
  },
  {
   "cell_type": "code",
   "execution_count": 142,
   "metadata": {},
   "outputs": [
    {
     "name": "stdout",
     "output_type": "stream",
     "text": [
      "[2, 3, 4.5, 'prayank', 'gaurav', 4.9, 'shruti', [[2, 4, 5], [4, 5], [3, 4.5, 'gaurav']]]\n",
      "8\n"
     ]
    }
   ],
   "source": [
    "# append function\n",
    "\n",
    "mixed_data_list = [2, 3, 4.5, 'prayank', 'gaurav', 4.9, 'shruti']\n",
    "\n",
    "mixed_data_list.append(list_of_lists)\n",
    "\n",
    "print (mixed_data_list)\n",
    "\n",
    "print (len(mixed_data_list))"
   ]
  },
  {
   "cell_type": "code",
   "execution_count": 144,
   "metadata": {},
   "outputs": [
    {
     "name": "stdout",
     "output_type": "stream",
     "text": [
      "[2, 3, 4.5, 'prayank', 'gaurav', 4.9, 'shruti']\n"
     ]
    }
   ],
   "source": [
    "# deletion of element\n",
    "\n",
    "del mixed_data_list[7]\n",
    "\n",
    "print (mixed_data_list)"
   ]
  },
  {
   "cell_type": "code",
   "execution_count": 145,
   "metadata": {},
   "outputs": [
    {
     "name": "stdout",
     "output_type": "stream",
     "text": [
      "[2, 3, 4.5, 4.9, 'shruti']\n"
     ]
    }
   ],
   "source": [
    "# deletion by using slicing\n",
    "\n",
    "del mixed_data_list[3:5]\n",
    "\n",
    "print(mixed_data_list)"
   ]
  },
  {
   "cell_type": "code",
   "execution_count": 146,
   "metadata": {},
   "outputs": [
    {
     "name": "stdout",
     "output_type": "stream",
     "text": [
      "[2, 3, 'prayank', 'gaurav', 4.9, 'shruti']\n"
     ]
    }
   ],
   "source": [
    "# pop function\n",
    "\n",
    "mixed_data_list = [2, 3, 4.5, 'prayank', 'gaurav', 4.9, 'shruti']\n",
    "\n",
    "mixed_data_list.pop(2)\n",
    "\n",
    "print (mixed_data_list)"
   ]
  },
  {
   "cell_type": "code",
   "execution_count": 147,
   "metadata": {},
   "outputs": [
    {
     "name": "stdout",
     "output_type": "stream",
     "text": [
      "[2, 3, 'prayank', 'gaurav', 4.9, 'shruti']\n"
     ]
    }
   ],
   "source": [
    "mixed_data_list = [2, 3, 4.5, 'prayank', 'gaurav', 4.9, 'shruti']\n",
    "\n",
    "mixed_data_list.remove(4.5)\n",
    "\n",
    "print (mixed_data_list)"
   ]
  },
  {
   "cell_type": "code",
   "execution_count": 149,
   "metadata": {},
   "outputs": [
    {
     "name": "stdout",
     "output_type": "stream",
     "text": [
      "not found in list\n",
      "found in list\n"
     ]
    }
   ],
   "source": [
    "mixed_data_list = [2, 3, 4.5, 'prayank', 'gaurav', 4.9, 'shruti']\n",
    "\n",
    "if 4 not in mixed_data_list:\n",
    "    print (\"not found in list\")\n",
    "    \n",
    "if 'prayank' in mixed_data_list:\n",
    "    print (\"found in list\")"
   ]
  },
  {
   "cell_type": "code",
   "execution_count": 150,
   "metadata": {},
   "outputs": [
    {
     "name": "stdout",
     "output_type": "stream",
     "text": [
      "['shruti', 4.9, 'gaurav', 'prayank', 4.5, 3, 2]\n"
     ]
    }
   ],
   "source": [
    "mixed_data_list = [2, 3, 4.5, 'prayank', 'gaurav', 4.9, 'shruti']\n",
    "\n",
    "mixed_data_list.reverse()\n",
    "\n",
    "print (mixed_data_list)"
   ]
  },
  {
   "cell_type": "code",
   "execution_count": 151,
   "metadata": {},
   "outputs": [
    {
     "ename": "TypeError",
     "evalue": "'<' not supported between instances of 'str' and 'float'",
     "output_type": "error",
     "traceback": [
      "\u001b[1;31m---------------------------------------------------------------------------\u001b[0m",
      "\u001b[1;31mTypeError\u001b[0m                                 Traceback (most recent call last)",
      "\u001b[1;32m<ipython-input-151-65bd3b4acef7>\u001b[0m in \u001b[0;36m<module>\u001b[1;34m\u001b[0m\n\u001b[0;32m      3\u001b[0m \u001b[0mmixed_data_list\u001b[0m \u001b[1;33m=\u001b[0m \u001b[1;33m[\u001b[0m\u001b[1;36m2\u001b[0m\u001b[1;33m,\u001b[0m \u001b[1;36m3\u001b[0m\u001b[1;33m,\u001b[0m \u001b[1;36m4.5\u001b[0m\u001b[1;33m,\u001b[0m \u001b[1;34m'prayank'\u001b[0m\u001b[1;33m,\u001b[0m \u001b[1;34m'gaurav'\u001b[0m\u001b[1;33m,\u001b[0m \u001b[1;36m4.9\u001b[0m\u001b[1;33m,\u001b[0m \u001b[1;34m'shruti'\u001b[0m\u001b[1;33m]\u001b[0m\u001b[1;33m\u001b[0m\u001b[1;33m\u001b[0m\u001b[0m\n\u001b[0;32m      4\u001b[0m \u001b[1;33m\u001b[0m\u001b[0m\n\u001b[1;32m----> 5\u001b[1;33m \u001b[0msorted_list\u001b[0m \u001b[1;33m=\u001b[0m \u001b[0msorted\u001b[0m \u001b[1;33m(\u001b[0m\u001b[0mmixed_data_list\u001b[0m\u001b[1;33m)\u001b[0m\u001b[1;33m\u001b[0m\u001b[1;33m\u001b[0m\u001b[0m\n\u001b[0m\u001b[0;32m      6\u001b[0m \u001b[1;33m\u001b[0m\u001b[0m\n\u001b[0;32m      7\u001b[0m \u001b[0mprint\u001b[0m \u001b[1;33m(\u001b[0m\u001b[0msorted_list\u001b[0m\u001b[1;33m)\u001b[0m\u001b[1;33m\u001b[0m\u001b[1;33m\u001b[0m\u001b[0m\n",
      "\u001b[1;31mTypeError\u001b[0m: '<' not supported between instances of 'str' and 'float'"
     ]
    }
   ],
   "source": [
    "# Sort function\n",
    "\n",
    "mixed_data_list = [2, 3, 4.5, 'prayank', 'gaurav', 4.9, 'shruti']\n",
    "\n",
    "sorted_list = sorted (mixed_data_list)\n",
    "\n",
    "print (sorted_list)     \n",
    "\n",
    "# as this sort function doesn't work on string as string doesn't understand ascending/ descending order"
   ]
  },
  {
   "cell_type": "code",
   "execution_count": 152,
   "metadata": {},
   "outputs": [
    {
     "name": "stdout",
     "output_type": "stream",
     "text": [
      "[2, 3.5, 4, 4.5, 5, 12.5]\n",
      "[2, 4, 5, 3.5, 12.5, 4.5]\n"
     ]
    }
   ],
   "source": [
    "list_of_nums = [2, 4, 5, 3.5, 12.5, 4.5]\n",
    "\n",
    "sorted_list = sorted (list_of_nums)\n",
    "\n",
    "print (sorted_list)          # sorting list in ascending order\n",
    "\n",
    "print (list_of_nums)         # original list will not be changed even after using sort function."
   ]
  },
  {
   "cell_type": "code",
   "execution_count": 153,
   "metadata": {},
   "outputs": [
    {
     "name": "stdout",
     "output_type": "stream",
     "text": [
      "Reverse sorted list : [12.5, 5, 4.5, 4, 3.5, 2]\n",
      "[2, 4, 5, 3.5, 12.5, 4.5]\n"
     ]
    }
   ],
   "source": [
    "list_of_nums = [2, 4, 5, 3.5, 12.5, 4.5]\n",
    "\n",
    "print (\"Reverse sorted list :\", sorted (list_of_nums, reverse = True))          # sorting list in discending order\n",
    "\n",
    "print (list_of_nums)         # original list will not be changed even after using sort function."
   ]
  },
  {
   "cell_type": "code",
   "execution_count": 155,
   "metadata": {},
   "outputs": [
    {
     "name": "stdout",
     "output_type": "stream",
     "text": [
      "[2, 3.5, 4, 4.5, 5, 12.5]\n",
      "Reverse sorted list : [12.5, 5, 4.5, 4, 3.5, 2]\n"
     ]
    }
   ],
   "source": [
    "list_of_nums = [2, 4, 5, 3.5, 12.5, 4.5]\n",
    "\n",
    "list_of_nums.sort()\n",
    "\n",
    "print (list_of_nums)\n",
    "\n",
    "print (\"Reverse sorted list :\", sorted (list_of_nums, reverse = True))"
   ]
  },
  {
   "cell_type": "code",
   "execution_count": 157,
   "metadata": {},
   "outputs": [
    {
     "name": "stdout",
     "output_type": "stream",
     "text": [
      "original list: [2, 4, 5, 3.5, 12.5, 4.5, 8]\n"
     ]
    }
   ],
   "source": [
    "# multiple references to list\n",
    "\n",
    "list_of_nums = [2, 4, 5, 3.5, 12.5, 4.5]\n",
    "\n",
    "myref = list_of_nums\n",
    "\n",
    "myref.append(8)\n",
    "\n",
    "print ('original list:', myref)       # adding new element to referred list"
   ]
  },
  {
   "cell_type": "code",
   "execution_count": 161,
   "metadata": {},
   "outputs": [
    {
     "name": "stdout",
     "output_type": "stream",
     "text": [
      "['gaurav', 'shruti', 'prayank']\n"
     ]
    }
   ],
   "source": [
    "# split string to create list\n",
    "\n",
    "mystring = 'gaurav,shruti,prayank'\n",
    "split_string = mystring.split(',')\n",
    "\n",
    "print (split_string)"
   ]
  },
  {
   "cell_type": "code",
   "execution_count": 162,
   "metadata": {},
   "outputs": [
    {
     "name": "stdout",
     "output_type": "stream",
     "text": [
      "['gaurav', 'shruti', 'prayank']\n"
     ]
    }
   ],
   "source": [
    "mystring = 'gaurav shruti prayank'\n",
    "split_string = mystring.split()\n",
    "\n",
    "print (split_string)       # spaces will automatically splited by commas."
   ]
  },
  {
   "cell_type": "code",
   "execution_count": 164,
   "metadata": {},
   "outputs": [
    {
     "name": "stdout",
     "output_type": "stream",
     "text": [
      "['gauravshrutiprayank']\n"
     ]
    }
   ],
   "source": [
    "mystring = 'gauravshrutiprayank'\n",
    "split_string = mystring.split()          \n",
    "\n",
    "print (split_string)"
   ]
  },
  {
   "cell_type": "code",
   "execution_count": 2,
   "metadata": {},
   "outputs": [
    {
     "name": "stdout",
     "output_type": "stream",
     "text": [
      "4.5\n",
      "shruti\n"
     ]
    }
   ],
   "source": [
    "# List indexing\n",
    "\n",
    "# pop function\n",
    "\n",
    "mixed_data_list = [2, 3, 4.5, 'prayank', 'gaurav', 4.9, 'shruti']\n",
    "\n",
    "print (mixed_data_list[2])         # for getting an element, use indexing by checking its position which starts from zero.\n",
    "\n",
    "print (mixed_data_list[-1])     # for getting last element, use negative indexing"
   ]
  },
  {
   "cell_type": "code",
   "execution_count": 8,
   "metadata": {},
   "outputs": [
    {
     "name": "stdout",
     "output_type": "stream",
     "text": [
      "[2, 3, 4.5, 'prayank', 'gaurav', 4.9, 'shruti']\n",
      "[2, 3, 4.5]\n",
      "[3, 4.5, 'prayank', 'gaurav']\n",
      "[3, 4.5, 'prayank', 'gaurav', 4.9]\n",
      "['shruti']\n",
      "['prayank', 'gaurav', 4.9]\n",
      "[2, 4.5, 'gaurav', 'shruti']\n",
      "[3, 'prayank', 4.9]\n"
     ]
    }
   ],
   "source": [
    "# Slicing \n",
    "\n",
    "mixed_data_list = [2, 3, 4.5, 'prayank', 'gaurav', 4.9, 'shruti']\n",
    "\n",
    "print (mixed_data_list[:])        # start : end if nothing is mentioned then all elements will print\n",
    "\n",
    "print (mixed_data_list[0:3])      # if start from 0 then end position will be one position before its mentioned element\n",
    "\n",
    "print (mixed_data_list[1:5])      # start from ist position then 5th element will be exclusive.\n",
    "\n",
    "print (mixed_data_list[1:-1])       # negative slicing for starting from reverse\n",
    "\n",
    "print (mixed_data_list[-1:])\n",
    "\n",
    "print (mixed_data_list[-4:-1])\n",
    "\n",
    "print (mixed_data_list[::2])           # for skipping one element from list\n",
    "\n",
    "print (mixed_data_list[1:6:2])       # starting from ist element, will go upto 6th element with skipping one-one element"
   ]
  },
  {
   "cell_type": "code",
   "execution_count": 9,
   "metadata": {},
   "outputs": [
    {
     "name": "stdout",
     "output_type": "stream",
     "text": [
      "[2, 3, 4.5, 'prayank', 'gaurav', 4.9, 'shruti', 2, 4, 5, 3.5, 12.5, 4.5]\n"
     ]
    }
   ],
   "source": [
    "# extend to a list using \"+\" sign\n",
    "\n",
    "mixed_data_list = [2, 3, 4.5, 'prayank', 'gaurav', 4.9, 'shruti']\n",
    "\n",
    "list_of_nums = [2, 4, 5, 3.5, 12.5, 4.5]\n",
    "\n",
    "print (mixed_data_list + list_of_nums)"
   ]
  },
  {
   "cell_type": "code",
   "execution_count": 10,
   "metadata": {},
   "outputs": [
    {
     "name": "stdout",
     "output_type": "stream",
     "text": [
      "1\n",
      "3\n"
     ]
    }
   ],
   "source": [
    "# count of an item in a list\n",
    "\n",
    "list_of_nums = [2, 4, 5, 3.5, 12.5, 4.5, 4, 3, 4]\n",
    "\n",
    "print (list_of_nums.count(3))\n",
    "\n",
    "print (list_of_nums.count(4))\n",
    "\n",
    "# count of particular element"
   ]
  },
  {
   "cell_type": "code",
   "execution_count": 12,
   "metadata": {},
   "outputs": [
    {
     "name": "stdout",
     "output_type": "stream",
     "text": [
      "2\n",
      "4\n",
      "5\n",
      "3.5\n",
      "12.5\n",
      "4.5\n"
     ]
    }
   ],
   "source": [
    "# looping in a list\n",
    "\n",
    "list_of_nums = [2, 4, 5, 3.5, 12.5, 4.5]\n",
    "\n",
    "for element in list_of_nums:\n",
    "    print (element)"
   ]
  },
  {
   "cell_type": "code",
   "execution_count": 16,
   "metadata": {},
   "outputs": [
    {
     "name": "stdout",
     "output_type": "stream",
     "text": [
      "[0, 1, 2, 3]\n"
     ]
    }
   ],
   "source": [
    "# List Comprehensions\n",
    "\n",
    "emptylist = []\n",
    "\n",
    "for i in range(4):\n",
    "    emptylist.append(i)\n",
    "\n",
    "print (emptylist)"
   ]
  },
  {
   "cell_type": "code",
   "execution_count": 17,
   "metadata": {},
   "outputs": [
    {
     "name": "stdout",
     "output_type": "stream",
     "text": [
      "[0, 1, 8, 27]\n"
     ]
    }
   ],
   "source": [
    "emptylist = []\n",
    "\n",
    "for i in range(4):\n",
    "    emptylist.append(i**3)\n",
    "\n",
    "print (emptylist)"
   ]
  },
  {
   "cell_type": "code",
   "execution_count": 20,
   "metadata": {},
   "outputs": [
    {
     "name": "stdout",
     "output_type": "stream",
     "text": [
      "[0, 1, 8, 27, 64]\n"
     ]
    }
   ],
   "source": [
    "# simplifying above method using list compreshension\n",
    "\n",
    "emptylist = [i**3 for i in range(5)]\n",
    "\n",
    "print (emptylist)"
   ]
  },
  {
   "cell_type": "code",
   "execution_count": 30,
   "metadata": {},
   "outputs": [
    {
     "name": "stdout",
     "output_type": "stream",
     "text": [
      "[[0, 1, 2], [0, 1, 2], [0, 1, 2], [0, 1, 2]]\n"
     ]
    }
   ],
   "source": [
    "# Nested list compreshension\n",
    "\n",
    "nested_list = []\n",
    "\n",
    "[nested_list.append([j for j in range(3)]) for i in range(4)]\n",
    "\n",
    "print (nested_list)"
   ]
  },
  {
   "cell_type": "code",
   "execution_count": 31,
   "metadata": {},
   "outputs": [
    {
     "name": "stdout",
     "output_type": "stream",
     "text": [
      "[[1, 3, 5, 7], [1, 3, 5, 7], [1, 3, 5, 7], [1, 3, 5, 7]]\n"
     ]
    }
   ],
   "source": [
    "# representing odd value(1 to 9) matrix using nested list comprehensions\n",
    "\n",
    "nested_list = []\n",
    "\n",
    "[nested_list.append([j for j in range(1,9,2)]) for i in range(4)]\n",
    "\n",
    "print (nested_list)"
   ]
  },
  {
   "cell_type": "code",
   "execution_count": 33,
   "metadata": {},
   "outputs": [
    {
     "name": "stdout",
     "output_type": "stream",
     "text": [
      "[[1, 9, 25, 49], [1, 9, 25, 49], [1, 9, 25, 49], [1, 9, 25, 49]]\n"
     ]
    }
   ],
   "source": [
    "# representing square of all odd value (1 to 9) matrix using nested list comprehensions\n",
    "\n",
    "nested_list = []\n",
    "\n",
    "[nested_list.append([j**2 for j in range(1,9,2)]) for i in range(4)]\n",
    "\n",
    "print (nested_list)"
   ]
  },
  {
   "cell_type": "code",
   "execution_count": 49,
   "metadata": {},
   "outputs": [
    {
     "name": "stdout",
     "output_type": "stream",
     "text": [
      "[1, 4, 9, 16, 25, 36, 64]\n"
     ]
    }
   ],
   "source": [
    "# Exercise : perform below list operations\n",
    "\n",
    "# square list of mylist and store in new list\n",
    "\n",
    "mylist = [1, 2, 3, 4, 5, 6, 8]\n",
    "\n",
    "newlist = [i**2 for i in mylist]\n",
    "\n",
    "print (newlist)"
   ]
  },
  {
   "cell_type": "code",
   "execution_count": 50,
   "metadata": {},
   "outputs": [
    {
     "name": "stdout",
     "output_type": "stream",
     "text": [
      "[(1, 1), (2, 2), (3, 3), (4, 4), (5, 5), (6, 6), (8, 8)]\n"
     ]
    }
   ],
   "source": [
    "# make a combination of x and x values (x, x)\n",
    "\n",
    "mylist = [1, 2, 3, 4, 5, 6, 8]\n",
    "\n",
    "newlist = [(i, i) for i in mylist]\n",
    "\n",
    "print (newlist)"
   ]
  },
  {
   "cell_type": "code",
   "execution_count": 57,
   "metadata": {},
   "outputs": [
    {
     "name": "stdout",
     "output_type": "stream",
     "text": [
      "[4, 6, 8]\n"
     ]
    }
   ],
   "source": [
    "# store only even numbers greater than 2\n",
    "\n",
    "mylist = [1, 2, 3, 4, 5, 6, 8]\n",
    "\n",
    "newlist = [i for i in mylist if i%2 == 0 and i != 2]\n",
    "\n",
    "print (newlist)"
   ]
  },
  {
   "cell_type": "code",
   "execution_count": 71,
   "metadata": {},
   "outputs": [
    {
     "name": "stdout",
     "output_type": "stream",
     "text": [
      "[[0.5, 1.0, 1.5], [2.0, 2.5, 3.0], [3.5, 4.0, 4.5]]\n"
     ]
    }
   ],
   "source": [
    "# create a 3*3 matrix that stores half of number from 1 to 9\n",
    "\n",
    "matrix = []\n",
    "\n",
    "[matrix.append([(i+j)/2 for j in range(0, 3)]) for i in range(1, 10, 3)]\n",
    "\n",
    "print (matrix)"
   ]
  },
  {
   "cell_type": "code",
   "execution_count": 73,
   "metadata": {},
   "outputs": [
    {
     "name": "stdout",
     "output_type": "stream",
     "text": [
      "<class 'list'>\n"
     ]
    }
   ],
   "source": [
    "list1 = ['gaurav']\n",
    "print (type(list1))"
   ]
  },
  {
   "cell_type": "markdown",
   "metadata": {},
   "source": [
    "# TUPLES"
   ]
  },
  {
   "cell_type": "code",
   "execution_count": 72,
   "metadata": {},
   "outputs": [
    {
     "name": "stdout",
     "output_type": "stream",
     "text": [
      "()\n",
      "(3, 5, 9, 2)\n",
      "('x', 4, 'y', 6, 9, 4.5)\n",
      "(2, 3, 'x', [3, 4, 5.5, 'x'], (1, 'z', 4.5), 4.5, 5)\n"
     ]
    }
   ],
   "source": [
    "empty_typle = ()                            # empty tuple representation\n",
    "print (empty_typle)\n",
    "\n",
    "int_tuple = (3, 5, 9, 2)                    # tuples with integers\n",
    "print (int_tuple)\n",
    "\n",
    "mixed_tuple = ('x', 4, 'y', 6, 9, 4.5)      # mixed datatypes tuples\n",
    "print (mixed_tuple)\n",
    "\n",
    "mixed_data = (2, 3, 'x', [3, 4, 5.5, 'x'], (1, 'z', 4.5), 4.5, 5)           # nested tuple\n",
    "print (mixed_data)"
   ]
  },
  {
   "cell_type": "code",
   "execution_count": 75,
   "metadata": {},
   "outputs": [
    {
     "name": "stdout",
     "output_type": "stream",
     "text": [
      "<class 'str'>\n"
     ]
    }
   ],
   "source": [
    "# parenthesis is not enough in case of tuple as it will known as string\n",
    "\n",
    "tuple1 = ('gaurav')\n",
    "print (type(tuple1))              "
   ]
  },
  {
   "cell_type": "code",
   "execution_count": 76,
   "metadata": {},
   "outputs": [
    {
     "name": "stdout",
     "output_type": "stream",
     "text": [
      "<class 'tuple'>\n"
     ]
    }
   ],
   "source": [
    "# for this, we will have to put comma after string in enclosed parenthesis\n",
    "\n",
    "tuple1 = ('gaurav',)\n",
    "print (type(tuple1))              "
   ]
  },
  {
   "cell_type": "code",
   "execution_count": 77,
   "metadata": {},
   "outputs": [
    {
     "name": "stdout",
     "output_type": "stream",
     "text": [
      "<class 'tuple'>\n"
     ]
    }
   ],
   "source": [
    "# for this, we will have to put comma after string in enclosed parenthesis or even parenthesis is optional but comma is necessary\n",
    "\n",
    "tuple1 = 'gaurav',\n",
    "print (type(tuple1))              "
   ]
  },
  {
   "cell_type": "code",
   "execution_count": 80,
   "metadata": {},
   "outputs": [
    {
     "name": "stdout",
     "output_type": "stream",
     "text": [
      "x\n",
      "z\n",
      "5.5\n"
     ]
    }
   ],
   "source": [
    "# accessing elements in tuple\n",
    "\n",
    "mixed_data = (2, 3, 'x', [3, 4, 5.5, 'x'], (1, 'z', 4.5), 4.5, 5)\n",
    "\n",
    "print (mixed_data [2])        # for getting 2nd element\n",
    "\n",
    "print (mixed_data [4][1])     # for getting element in nested tuple\n",
    "\n",
    "print (mixed_data [-4][-2])    # negative indexing"
   ]
  },
  {
   "cell_type": "code",
   "execution_count": 81,
   "metadata": {},
   "outputs": [
    {
     "name": "stdout",
     "output_type": "stream",
     "text": [
      "2240236771328\n",
      "(2, 3, 'x', [3, 4, 'batra', 'x'], (1, 'z', 4.5), 4.5, 5)\n",
      "2240236771328\n"
     ]
    }
   ],
   "source": [
    "# altering in tuple as we can do changes in list nested in tuple because these are mutuable but id for tuple didn't get changed\n",
    "\n",
    "mixed_data = (2, 3, 'x', [3, 4, 5.5, 'x'], (1, 'z', 4.5), 4.5, 5)\n",
    "\n",
    "print (id(mixed_data))\n",
    "\n",
    "mixed_data [3][2] = 'batra'\n",
    "\n",
    "print (mixed_data)\n",
    "\n",
    "print (id (mixed_data))"
   ]
  },
  {
   "cell_type": "code",
   "execution_count": 82,
   "metadata": {},
   "outputs": [
    {
     "ename": "NameError",
     "evalue": "name 'mixed_data' is not defined",
     "output_type": "error",
     "traceback": [
      "\u001b[1;31m---------------------------------------------------------------------------\u001b[0m",
      "\u001b[1;31mNameError\u001b[0m                                 Traceback (most recent call last)",
      "\u001b[1;32m<ipython-input-82-1b1ed571743c>\u001b[0m in \u001b[0;36m<module>\u001b[1;34m\u001b[0m\n\u001b[0;32m      5\u001b[0m \u001b[1;32mdel\u001b[0m \u001b[0mmixed_data\u001b[0m\u001b[1;33m\u001b[0m\u001b[1;33m\u001b[0m\u001b[0m\n\u001b[0;32m      6\u001b[0m \u001b[1;33m\u001b[0m\u001b[0m\n\u001b[1;32m----> 7\u001b[1;33m \u001b[0mprint\u001b[0m\u001b[1;33m(\u001b[0m\u001b[0mmixed_data\u001b[0m\u001b[1;33m)\u001b[0m\u001b[1;33m\u001b[0m\u001b[1;33m\u001b[0m\u001b[0m\n\u001b[0m",
      "\u001b[1;31mNameError\u001b[0m: name 'mixed_data' is not defined"
     ]
    }
   ],
   "source": [
    "#Deletion of tuple as due to immutable nature, single element can't be deleted but whole tuple will be deleted\n",
    "\n",
    "mixed_data = (2, 3, 'x', [3, 4, 5.5, 'x'], (1, 'z', 4.5), 4.5, 5) \n",
    "\n",
    "del mixed_data\n",
    "\n",
    "print(mixed_data)  "
   ]
  },
  {
   "cell_type": "code",
   "execution_count": 86,
   "metadata": {},
   "outputs": [
    {
     "name": "stdout",
     "output_type": "stream",
     "text": [
      "1\n",
      "2\n",
      "2\n"
     ]
    }
   ],
   "source": [
    "# Count occurrances of element in tuple\n",
    "\n",
    "mixed_data = (2, 3, 'x', 5, [3, 4, 5.5, 'x'], (1, 'z', 4.5), 4.5, 'x', 5) \n",
    "\n",
    "print (mixed_data.count(4.5))\n",
    "\n",
    "print (mixed_data.count(5))\n",
    "\n",
    "print (mixed_data.count('x'))"
   ]
  },
  {
   "cell_type": "code",
   "execution_count": 93,
   "metadata": {},
   "outputs": [
    {
     "name": "stdout",
     "output_type": "stream",
     "text": [
      "6\n",
      "x\n"
     ]
    }
   ],
   "source": [
    "# get index position in a tuple & vice-versa\n",
    "\n",
    "mixed_data = (2, 3, 'x', 5, [3, 4, 5.5, 'x'], (1, 'z', 4.5), 4.5, 'x', 5)\n",
    "\n",
    "print (mixed_data.index(4.5))\n",
    "\n",
    "print (mixed_data[4][3])"
   ]
  },
  {
   "cell_type": "code",
   "execution_count": 95,
   "metadata": {},
   "outputs": [
    {
     "name": "stdout",
     "output_type": "stream",
     "text": [
      "True\n",
      "True\n",
      "False\n"
     ]
    }
   ],
   "source": [
    "# Membership operator (in and not in) tuple\n",
    "\n",
    "mixed_data = (2, 3, 'x', 5.5, [3, 4, 5.5, 'x'], (1, 'z', 4.5), 4.5, 'x', 5)\n",
    "\n",
    "print (5.5 in mixed_data)\n",
    "\n",
    "print ('y' not in mixed_data)\n",
    "\n",
    "print ('gaurav' in mixed_data)"
   ]
  },
  {
   "cell_type": "code",
   "execution_count": 101,
   "metadata": {},
   "outputs": [
    {
     "name": "stdout",
     "output_type": "stream",
     "text": [
      "9\n",
      "[3, 4, 45, 65, 89]\n",
      "(4, 3, 89, 45, 65)\n",
      "Reverse sorted tuple : [89, 65, 45, 4, 3]\n"
     ]
    }
   ],
   "source": [
    "# apply common built in function in tuple\n",
    "\n",
    "mixed_data = (2, 3, 'x', 5.5, [3, 4, 5.5, 'x'], (1, 'z', 4.5), 4.5, 'x', 5)\n",
    "\n",
    "# for checking length of tuple\n",
    "\n",
    "print (len(mixed_data))\n",
    "\n",
    "# sorting n tuple : mixed data type can't be sorted as ascending and descending can't be defined\n",
    "\n",
    "int_tuple = (4, 3, 89, 45, 65)\n",
    "\n",
    "sorted_tuple = sorted(int_tuple)\n",
    "\n",
    "print (sorted_tuple)\n",
    "\n",
    "print (int_tuple)\n",
    "\n",
    "print (\"Reverse sorted tuple :\", sorted (int_tuple, reverse = True))"
   ]
  },
  {
   "cell_type": "code",
   "execution_count": 103,
   "metadata": {},
   "outputs": [
    {
     "name": "stdout",
     "output_type": "stream",
     "text": [
      "89\n",
      "3\n",
      "206\n"
     ]
    }
   ],
   "source": [
    "int_tuple = (4, 3, 89, 45, 65)\n",
    "\n",
    "print (max(int_tuple))      # find largest element\n",
    "\n",
    "print (min(int_tuple))      # find smallest element\n",
    "\n",
    "print (sum(int_tuple))      # find sum of all elements  "
   ]
  },
  {
   "cell_type": "markdown",
   "metadata": {},
   "source": [
    "# SETS"
   ]
  },
  {
   "cell_type": "code",
   "execution_count": 105,
   "metadata": {},
   "outputs": [
    {
     "name": "stdout",
     "output_type": "stream",
     "text": [
      "{10, 20, 50, 30}\n",
      "<class 'set'>\n"
     ]
    }
   ],
   "source": [
    "set1 = {10, 20, 30, 10, 50}\n",
    "\n",
    "print (set1)             # duplicates are not allowed\n",
    " \n",
    "print (type(set1))       # type of set"
   ]
  },
  {
   "cell_type": "code",
   "execution_count": 106,
   "metadata": {},
   "outputs": [
    {
     "name": "stdout",
     "output_type": "stream",
     "text": [
      "{3, 5, 9, 20, 30}\n"
     ]
    }
   ],
   "source": [
    "# make set by using list with SET method\n",
    "\n",
    "set2 = set([3, 5, 3, 9, 30, 20])\n",
    "\n",
    "print (set2)             "
   ]
  },
  {
   "cell_type": "code",
   "execution_count": 108,
   "metadata": {},
   "outputs": [
    {
     "name": "stdout",
     "output_type": "stream",
     "text": [
      "set()\n",
      "<class 'set'>\n"
     ]
    }
   ],
   "source": [
    "set3 = set()\n",
    "\n",
    "print (set3)\n",
    "\n",
    "print (type(set3))"
   ]
  },
  {
   "cell_type": "code",
   "execution_count": 109,
   "metadata": {},
   "outputs": [
    {
     "name": "stdout",
     "output_type": "stream",
     "text": [
      "{10, 50, 20, 60, 30}\n"
     ]
    }
   ],
   "source": [
    "# adding an element in sets by add() method\n",
    "\n",
    "set1 = {10, 20, 30, 10, 50}\n",
    "\n",
    "set1.add(60)\n",
    "\n",
    "print (set1)"
   ]
  },
  {
   "cell_type": "code",
   "execution_count": 113,
   "metadata": {},
   "outputs": [
    {
     "name": "stdout",
     "output_type": "stream",
     "text": [
      "{2, 3, 4, 5, 70, 10, 50, 20, 90, 60, 30}\n"
     ]
    }
   ],
   "source": [
    "# adding an element in sets by update() method  and added list & set \n",
    "\n",
    "set1 = {10, 20, 30, 10, 50}\n",
    "\n",
    "set1.update([60, 70, 5, 90],{2, 4, 3})\n",
    "\n",
    "print (set1)"
   ]
  },
  {
   "cell_type": "code",
   "execution_count": 114,
   "metadata": {},
   "outputs": [
    {
     "name": "stdout",
     "output_type": "stream",
     "text": [
      "{2, 3, 4, 5, 70, 50, 20, 90, 60, 30}\n"
     ]
    }
   ],
   "source": [
    "# Removal of element by using different methods\n",
    "\n",
    "# remove() method will remove particular element from set\n",
    "\n",
    "set1 = {2, 3, 4, 5, 70, 10, 50, 20, 90, 60, 30}\n",
    "\n",
    "set1.remove(10)\n",
    "\n",
    "print (set1)"
   ]
  },
  {
   "cell_type": "code",
   "execution_count": 115,
   "metadata": {},
   "outputs": [
    {
     "name": "stdout",
     "output_type": "stream",
     "text": [
      "{3, 4, 5, 70, 50, 20, 90, 60, 30}\n"
     ]
    }
   ],
   "source": [
    "# by using pop() method, it will remove one by one all elements.\n",
    "\n",
    "set1 = {2, 3, 4, 5, 70, 50, 20, 90, 60, 30}\n",
    "\n",
    "set1.pop()\n",
    "\n",
    "print (set1)"
   ]
  },
  {
   "cell_type": "code",
   "execution_count": 116,
   "metadata": {},
   "outputs": [
    {
     "name": "stdout",
     "output_type": "stream",
     "text": [
      "{4, 5, 70, 50, 20, 90, 60, 30}\n"
     ]
    }
   ],
   "source": [
    "set1.pop()\n",
    "\n",
    "print (set1)"
   ]
  },
  {
   "cell_type": "code",
   "execution_count": 117,
   "metadata": {},
   "outputs": [
    {
     "name": "stdout",
     "output_type": "stream",
     "text": [
      "{4, 5, 70, 90, 60, 30}\n"
     ]
    }
   ],
   "source": [
    "# discard() method will not give any error if element will not be there in set\n",
    "\n",
    "set1.discard(50)\n",
    "\n",
    "set1.discard(20)\n",
    "\n",
    "set1.discard(100)         # as 100 wasn't there in set but still it got executed without any error\n",
    "\n",
    "print (set1)"
   ]
  },
  {
   "cell_type": "code",
   "execution_count": 118,
   "metadata": {},
   "outputs": [
    {
     "name": "stdout",
     "output_type": "stream",
     "text": [
      "set()\n"
     ]
    }
   ],
   "source": [
    "# clear() method will be used to delete set but empty will be there in memory space.\n",
    "\n",
    "set1 = {4, 5, 70, 90, 60, 30}\n",
    "\n",
    "set1.clear()\n",
    "\n",
    "print (set1)"
   ]
  },
  {
   "cell_type": "markdown",
   "metadata": {},
   "source": [
    "\n",
    "\n",
    "### Python set operations"
   ]
  },
  {
   "cell_type": "code",
   "execution_count": 119,
   "metadata": {},
   "outputs": [
    {
     "name": "stdout",
     "output_type": "stream",
     "text": [
      "{4, 5, 7, 9, 11, 13, 15}\n",
      "{4, 5, 7, 9, 11, 13, 15}\n"
     ]
    }
   ],
   "source": [
    "# UNION method\n",
    "\n",
    "set1 = {4, 5, 7, 9, 11, 13, 15}\n",
    "\n",
    "set2 = {7, 9, 5}\n",
    "\n",
    "print (set1 | set2)                   # using union symbol\n",
    "\n",
    "print (set1.union(set2))              # using union method"
   ]
  },
  {
   "cell_type": "code",
   "execution_count": 120,
   "metadata": {},
   "outputs": [
    {
     "name": "stdout",
     "output_type": "stream",
     "text": [
      "{9, 5, 7}\n",
      "{9, 5, 7}\n"
     ]
    }
   ],
   "source": [
    "# Intersection method\n",
    "\n",
    "set1 = {4, 5, 7, 9, 11, 13, 15}\n",
    "\n",
    "set2 = {7, 9, 5}\n",
    "\n",
    "print (set1 & set2)                   # using Intersection symbol\n",
    "\n",
    "print (set1.intersection(set2))              # using Intersection method"
   ]
  },
  {
   "cell_type": "code",
   "execution_count": 131,
   "metadata": {},
   "outputs": [
    {
     "name": "stdout",
     "output_type": "stream",
     "text": [
      "{11, 4, 13, 15}\n",
      "{11, 4, 13, 15}\n"
     ]
    }
   ],
   "source": [
    "# Difference method\n",
    "\n",
    "set1 = {4, 5, 7, 9, 11, 13, 15}\n",
    "\n",
    "set2 = {7, 9, 5}\n",
    "\n",
    "print (set1 - set2)                   # using Difference symbol\n",
    "\n",
    "print (set1.difference(set2))              # using Difference method"
   ]
  },
  {
   "cell_type": "code",
   "execution_count": 130,
   "metadata": {},
   "outputs": [
    {
     "name": "stdout",
     "output_type": "stream",
     "text": [
      "{4, 11, 13, 15}\n",
      "{4, 11, 13, 15}\n"
     ]
    }
   ],
   "source": [
    "# Symmetric Difference method\n",
    "\n",
    "set1 = {4, 5, 7, 9, 11, 13, 15}\n",
    "\n",
    "set2 = {7, 9, 5}\n",
    "\n",
    "print (set1 ^ set2)                   # using Symmetric Difference symbol\n",
    "\n",
    "print (set1.symmetric_difference(set2))              # using Symmetric Difference method"
   ]
  },
  {
   "cell_type": "code",
   "execution_count": 123,
   "metadata": {},
   "outputs": [
    {
     "name": "stdout",
     "output_type": "stream",
     "text": [
      "False\n",
      "True\n"
     ]
    }
   ],
   "source": [
    "# SUBSETS\n",
    "\n",
    "set1 = {4, 5, 7, 9, 11, 13, 15}\n",
    "\n",
    "set2 = {7, 9, 5}\n",
    "\n",
    "print (set1.issubset(set2))                  \n",
    "\n",
    "print (set2.issubset(set1))               # using issubset method"
   ]
  },
  {
   "cell_type": "code",
   "execution_count": 124,
   "metadata": {},
   "outputs": [
    {
     "name": "stdout",
     "output_type": "stream",
     "text": [
      "frozenset({1, 2, 3, 4, 5, 6, 7, 8, 9, 10})\n",
      "frozenset({1, 2, 3, 4, 5, 6, 7, 8, 9, 10})\n"
     ]
    }
   ],
   "source": [
    "# FROZEN SETS :- immutuable in nature\n",
    "\n",
    "set1 = frozenset([2, 4, 6, 8, 3, 5, 10])\n",
    "\n",
    "set2 = frozenset([1, 3, 5, 6, 8, 7, 9])\n",
    "\n",
    "print (set1 | set2)                   # using union symbol\n",
    "\n",
    "print (set1.union(set2))              # using union methodv"
   ]
  },
  {
   "cell_type": "code",
   "execution_count": 125,
   "metadata": {},
   "outputs": [
    {
     "name": "stdout",
     "output_type": "stream",
     "text": [
      "frozenset({8, 3, 5, 6})\n",
      "frozenset({8, 3, 5, 6})\n"
     ]
    }
   ],
   "source": [
    "print (set1 & set2)                   # using Intersection symbol\n",
    "\n",
    "print (set1.intersection(set2))              # using Intersection method"
   ]
  },
  {
   "cell_type": "code",
   "execution_count": 126,
   "metadata": {},
   "outputs": [
    {
     "name": "stdout",
     "output_type": "stream",
     "text": [
      "frozenset({2, 10, 4})\n",
      "frozenset({2, 10, 4})\n"
     ]
    }
   ],
   "source": [
    "print (set1 - set2)                   # using Difference symbol\n",
    "\n",
    "print (set1.difference(set2))              # using Difference method"
   ]
  },
  {
   "cell_type": "code",
   "execution_count": 127,
   "metadata": {},
   "outputs": [
    {
     "name": "stdout",
     "output_type": "stream",
     "text": [
      "frozenset({1, 2, 4, 7, 9, 10})\n",
      "frozenset({1, 2, 4, 7, 9, 10})\n"
     ]
    }
   ],
   "source": [
    "print (set1 ^ set2)                   # using Symmetric Difference symbol\n",
    "\n",
    "print (set1.symmetric_difference(set2))              # using Symmetric Difference method"
   ]
  },
  {
   "cell_type": "code",
   "execution_count": 128,
   "metadata": {},
   "outputs": [
    {
     "name": "stdout",
     "output_type": "stream",
     "text": [
      "False\n",
      "False\n"
     ]
    }
   ],
   "source": [
    "print (set1.issubset(set2))                  \n",
    "\n",
    "print (set2.issubset(set1))               # using issubset method"
   ]
  },
  {
   "cell_type": "code",
   "execution_count": 129,
   "metadata": {},
   "outputs": [
    {
     "name": "stdout",
     "output_type": "stream",
     "text": [
      "False\n",
      "False\n"
     ]
    }
   ],
   "source": [
    "print (set1.isdisjoint(set2))                  \n",
    "\n",
    "print (set2.isdisjoint(set1))               # using issubset method"
   ]
  },
  {
   "cell_type": "markdown",
   "metadata": {},
   "source": [
    "## Dictionary"
   ]
  },
  {
   "cell_type": "code",
   "execution_count": 132,
   "metadata": {},
   "outputs": [
    {
     "name": "stdout",
     "output_type": "stream",
     "text": [
      "{'gaurav': 1989, 'shruti': 1989, 'meenu': 1993, 'prayank': 2019}\n"
     ]
    }
   ],
   "source": [
    "dict1 = {'gaurav' : 1989, 'shruti' : 1989, 'meenu' : 1993, 'prayank' : 2019}\n",
    "\n",
    "print (dict1)"
   ]
  },
  {
   "cell_type": "code",
   "execution_count": 135,
   "metadata": {},
   "outputs": [
    {
     "name": "stdout",
     "output_type": "stream",
     "text": [
      "{}\n",
      "<class 'dict'>\n"
     ]
    }
   ],
   "source": [
    "emptydict = { }\n",
    "\n",
    "print (emptydict)\n",
    "\n",
    "print (type(emptydict))"
   ]
  },
  {
   "cell_type": "code",
   "execution_count": 139,
   "metadata": {},
   "outputs": [
    {
     "name": "stdout",
     "output_type": "stream",
     "text": [
      "{'gaurav': 9, 'shruti': 10, 'prayank': 7, 'meenu': 2}\n"
     ]
    }
   ],
   "source": [
    "# create dict with list of tuples and dict() method\n",
    "\n",
    "dict2 = dict([('gaurav', 9), ('shruti', 10), ('prayank', 7), ('meenu', 2)])\n",
    "\n",
    "print (dict2)"
   ]
  },
  {
   "cell_type": "code",
   "execution_count": 140,
   "metadata": {},
   "outputs": [
    {
     "name": "stdout",
     "output_type": "stream",
     "text": [
      "{14: 'gaurav', '25': ['shruti', 'nikhil']}\n"
     ]
    }
   ],
   "source": [
    "# mixed datatype dictionary\n",
    "\n",
    "dict3 = {14 : 'gaurav', '25' : ['shruti', 'nikhil']}\n",
    "\n",
    "print (dict3)"
   ]
  },
  {
   "cell_type": "code",
   "execution_count": 141,
   "metadata": {},
   "outputs": [
    {
     "name": "stdout",
     "output_type": "stream",
     "text": [
      "1993\n"
     ]
    }
   ],
   "source": [
    "# Dictionary access\n",
    "\n",
    "dict1 = {'gaurav' : 1989, 'shruti' : 1989, 'meenu' : 1993, 'prayank' : 2019}\n",
    "\n",
    "print (dict1['meenu'])"
   ]
  },
  {
   "cell_type": "code",
   "execution_count": 144,
   "metadata": {},
   "outputs": [
    {
     "data": {
      "text/plain": [
       "1993"
      ]
     },
     "execution_count": 144,
     "metadata": {},
     "output_type": "execute_result"
    }
   ],
   "source": [
    "# Dict access by using get() method\n",
    "\n",
    "dict1 = {'gaurav' : 1989, 'shruti' : 1989, 'meenu' : 1993, 'prayank' : 2019}\n",
    "\n",
    "dict1.get('meenu')"
   ]
  },
  {
   "cell_type": "code",
   "execution_count": 145,
   "metadata": {},
   "outputs": [
    {
     "ename": "KeyError",
     "evalue": "'nikhil'",
     "output_type": "error",
     "traceback": [
      "\u001b[1;31m---------------------------------------------------------------------------\u001b[0m",
      "\u001b[1;31mKeyError\u001b[0m                                  Traceback (most recent call last)",
      "\u001b[1;32m<ipython-input-145-803bd3245455>\u001b[0m in \u001b[0;36m<module>\u001b[1;34m\u001b[0m\n\u001b[0;32m      3\u001b[0m \u001b[0mdict1\u001b[0m \u001b[1;33m=\u001b[0m \u001b[1;33m{\u001b[0m\u001b[1;34m'gaurav'\u001b[0m \u001b[1;33m:\u001b[0m \u001b[1;36m1989\u001b[0m\u001b[1;33m,\u001b[0m \u001b[1;34m'shruti'\u001b[0m \u001b[1;33m:\u001b[0m \u001b[1;36m1989\u001b[0m\u001b[1;33m,\u001b[0m \u001b[1;34m'meenu'\u001b[0m \u001b[1;33m:\u001b[0m \u001b[1;36m1993\u001b[0m\u001b[1;33m,\u001b[0m \u001b[1;34m'prayank'\u001b[0m \u001b[1;33m:\u001b[0m \u001b[1;36m2019\u001b[0m\u001b[1;33m}\u001b[0m\u001b[1;33m\u001b[0m\u001b[1;33m\u001b[0m\u001b[0m\n\u001b[0;32m      4\u001b[0m \u001b[1;33m\u001b[0m\u001b[0m\n\u001b[1;32m----> 5\u001b[1;33m \u001b[0mprint\u001b[0m \u001b[1;33m(\u001b[0m\u001b[0mdict1\u001b[0m\u001b[1;33m[\u001b[0m\u001b[1;34m'nikhil'\u001b[0m\u001b[1;33m]\u001b[0m\u001b[1;33m)\u001b[0m\u001b[1;33m\u001b[0m\u001b[1;33m\u001b[0m\u001b[0m\n\u001b[0m",
      "\u001b[1;31mKeyError\u001b[0m: 'nikhil'"
     ]
    }
   ],
   "source": [
    "# if we will find unavailable key then it will give key error\n",
    "\n",
    "dict1 = {'gaurav' : 1989, 'shruti' : 1989, 'meenu' : 1993, 'prayank' : 2019}\n",
    "\n",
    "print (dict1['nikhil'])"
   ]
  },
  {
   "cell_type": "code",
   "execution_count": 146,
   "metadata": {},
   "outputs": [
    {
     "name": "stdout",
     "output_type": "stream",
     "text": [
      "None\n"
     ]
    }
   ],
   "source": [
    "# if we will find it from get() method then it will not show any error whereas o/p will come as \"NONE\"\n",
    "\n",
    "dict1 = {'gaurav' : 1989, 'shruti' : 1989, 'meenu' : 1993, 'prayank' : 2019}\n",
    "\n",
    "print (dict1.get('nikhil'))"
   ]
  },
  {
   "cell_type": "code",
   "execution_count": 149,
   "metadata": {},
   "outputs": [
    {
     "name": "stdout",
     "output_type": "stream",
     "text": [
      "{'gaurav': 1989, 'shruti': 1989, 'meenu': 1993, 'prayank': 2019, 'nikhil': 1992}\n"
     ]
    }
   ],
   "source": [
    "# Addition of new key:value pair\n",
    "\n",
    "dict1 = {'gaurav' : 1989, 'shruti' : 1989, 'meenu' : 1993, 'prayank' : 2019}\n",
    "\n",
    "dict1['nikhil'] = 1992\n",
    "\n",
    "print (dict1)"
   ]
  },
  {
   "cell_type": "code",
   "execution_count": 150,
   "metadata": {},
   "outputs": [
    {
     "name": "stdout",
     "output_type": "stream",
     "text": [
      "{'gaurav': 1989, 'shruti': 1988, 'meenu': 1993, 'prayank': 2019}\n"
     ]
    }
   ],
   "source": [
    "# modification in exiiting key value pair\n",
    "\n",
    "dict1 = {'gaurav' : 1989, 'shruti' : 1989, 'meenu' : 1993, 'prayank' : 2019}\n",
    "\n",
    "dict1['shruti'] = 1988\n",
    "\n",
    "print (dict1)"
   ]
  },
  {
   "cell_type": "code",
   "execution_count": 151,
   "metadata": {},
   "outputs": [
    {
     "name": "stdout",
     "output_type": "stream",
     "text": [
      "{'gaurav': 1989, 'meenu': 1993, 'prayank': 2019}\n"
     ]
    }
   ],
   "source": [
    "# Delete/ remove methods \n",
    "\n",
    "# By using pop() method\n",
    "\n",
    "dict1 = {'gaurav' : 1989, 'shruti' : 1989, 'meenu' : 1993, 'prayank' : 2019}\n",
    "\n",
    "dict1.pop('shruti')\n",
    "\n",
    "print (dict1)"
   ]
  },
  {
   "cell_type": "code",
   "execution_count": 154,
   "metadata": {},
   "outputs": [
    {
     "name": "stdout",
     "output_type": "stream",
     "text": [
      "{'gaurav': 1989, 'meenu': 1993, 'prayank': 2019}\n"
     ]
    }
   ],
   "source": [
    "# by using del method\n",
    "\n",
    "dict1 = {'gaurav' : 1989, 'shruti' : 1989, 'meenu' : 1993, 'prayank' : 2019}\n",
    "\n",
    "del dict1['shruti']\n",
    "\n",
    "print (dict1)"
   ]
  },
  {
   "cell_type": "code",
   "execution_count": 155,
   "metadata": {},
   "outputs": [
    {
     "name": "stdout",
     "output_type": "stream",
     "text": [
      "{}\n"
     ]
    }
   ],
   "source": [
    "# by using clear () method, empty dict will be there in memory space.\n",
    "\n",
    "dict1 = {'gaurav' : 1989, 'shruti' : 1989, 'meenu' : 1993, 'prayank' : 2019}\n",
    "\n",
    "dict1.clear()\n",
    "\n",
    "print (dict1)"
   ]
  },
  {
   "cell_type": "code",
   "execution_count": 156,
   "metadata": {},
   "outputs": [
    {
     "ename": "NameError",
     "evalue": "name 'dict1' is not defined",
     "output_type": "error",
     "traceback": [
      "\u001b[1;31m---------------------------------------------------------------------------\u001b[0m",
      "\u001b[1;31mNameError\u001b[0m                                 Traceback (most recent call last)",
      "\u001b[1;32m<ipython-input-156-5d8202e86b94>\u001b[0m in \u001b[0;36m<module>\u001b[1;34m\u001b[0m\n\u001b[0;32m      3\u001b[0m \u001b[1;32mdel\u001b[0m \u001b[0mdict1\u001b[0m\u001b[1;33m\u001b[0m\u001b[1;33m\u001b[0m\u001b[0m\n\u001b[0;32m      4\u001b[0m \u001b[1;33m\u001b[0m\u001b[0m\n\u001b[1;32m----> 5\u001b[1;33m \u001b[0mprint\u001b[0m \u001b[1;33m(\u001b[0m\u001b[0mdict1\u001b[0m\u001b[1;33m)\u001b[0m\u001b[1;33m\u001b[0m\u001b[1;33m\u001b[0m\u001b[0m\n\u001b[0m",
      "\u001b[1;31mNameError\u001b[0m: name 'dict1' is not defined"
     ]
    }
   ],
   "source": [
    "# deletion of dict by using del method\n",
    "\n",
    "dict1 = {'gaurav' : 1989, 'shruti' : 1989, 'meenu' : 1993, 'prayank' : 2019}\n",
    "\n",
    "del dict1\n",
    "\n",
    "print (dict1)"
   ]
  },
  {
   "cell_type": "code",
   "execution_count": 158,
   "metadata": {},
   "outputs": [
    {
     "name": "stdout",
     "output_type": "stream",
     "text": [
      "{'gaurav': 1989, 'shruti': 1989, 'meenu': 1993, 'prayank': 2019}\n"
     ]
    }
   ],
   "source": [
    "# Dictionary methods\n",
    "\n",
    "# Copy same existing dict data to new dict\n",
    "\n",
    "dict1 = {'gaurav' : 1989, 'shruti' : 1989, 'meenu' : 1993, 'prayank' : 2019}\n",
    "\n",
    "dict2 = dict1.copy()\n",
    "\n",
    "print (dict2)"
   ]
  },
  {
   "cell_type": "code",
   "execution_count": 159,
   "metadata": {},
   "outputs": [
    {
     "name": "stdout",
     "output_type": "stream",
     "text": [
      "dict_keys(['gaurav', 'shruti', 'meenu', 'prayank'])\n",
      "dict_values([1989, 1989, 1993, 2019])\n"
     ]
    }
   ],
   "source": [
    "dict1 = {'gaurav' : 1989, 'shruti' : 1989, 'meenu' : 1993, 'prayank' : 2019}\n",
    "\n",
    "print(dict1.keys())          # return keys of dictionary\n",
    "\n",
    "print(dict1.values())        # return values of dictionary"
   ]
  },
  {
   "cell_type": "code",
   "execution_count": 160,
   "metadata": {},
   "outputs": [
    {
     "name": "stdout",
     "output_type": "stream",
     "text": [
      "{'gaurav': 1989, 'shruti': 1989, 'saurav': 1989}\n"
     ]
    }
   ],
   "source": [
    "# if we want to assign same value to all keys and formkey sequence method is there.\n",
    "\n",
    "dict4 = {}.fromkeys(['gaurav', 'shruti', 'saurav'], 1989)\n",
    "\n",
    "print (dict4)"
   ]
  },
  {
   "cell_type": "code",
   "execution_count": 161,
   "metadata": {},
   "outputs": [
    {
     "name": "stdout",
     "output_type": "stream",
     "text": [
      "dict_items([(9, 1989), (10, 1989), (11, 1992), (2, 1993)])\n"
     ]
    }
   ],
   "source": [
    "# items() method is for giving new view to dictionary (key, value)\n",
    "\n",
    "dict5 = {9:1989, 10:1989, 11:1992, 2:1993}\n",
    "print (dict5.items())"
   ]
  },
  {
   "cell_type": "code",
   "execution_count": 162,
   "metadata": {},
   "outputs": [
    {
     "name": "stdout",
     "output_type": "stream",
     "text": [
      "['__class__', '__contains__', '__delattr__', '__delitem__', '__dir__', '__doc__', '__eq__', '__format__', '__ge__', '__getattribute__', '__getitem__', '__gt__', '__hash__', '__init__', '__init_subclass__', '__iter__', '__le__', '__len__', '__lt__', '__ne__', '__new__', '__reduce__', '__reduce_ex__', '__repr__', '__setattr__', '__setitem__', '__sizeof__', '__str__', '__subclasshook__', 'clear', 'copy', 'fromkeys', 'get', 'items', 'keys', 'pop', 'popitem', 'setdefault', 'update', 'values']\n"
     ]
    }
   ],
   "source": [
    "# all methods and attributes of dictionary\n",
    "\n",
    "dict = {}\n",
    "\n",
    "print (dir(dict))"
   ]
  },
  {
   "cell_type": "markdown",
   "metadata": {},
   "source": [
    "## Comprehensions in Dictionary"
   ]
  },
  {
   "cell_type": "code",
   "execution_count": 165,
   "metadata": {},
   "outputs": [
    {
     "name": "stdout",
     "output_type": "stream",
     "text": [
      "('gaurav', 1989)\n",
      "('shruti', 1989)\n",
      "('meenu', 1993)\n",
      "('prayank', 2019)\n"
     ]
    }
   ],
   "source": [
    "# iterate dict same as list comprehensions\n",
    "\n",
    "dict1 = {'gaurav' : 1989, 'shruti' : 1989, 'meenu' : 1993, 'prayank' : 2019}\n",
    "\n",
    "for dictionary in dict1.items():\n",
    "    print (dictionary)"
   ]
  },
  {
   "cell_type": "code",
   "execution_count": 169,
   "metadata": {},
   "outputs": [
    {
     "name": "stdout",
     "output_type": "stream",
     "text": [
      "{'gaurav': 1989, 'meenu': 1993, 'prayank': 2019}\n"
     ]
    }
   ],
   "source": [
    "# create dict with having odd values \n",
    "\n",
    "dict1 = {'gaurav' : 1989, 'shruti' : 1988, 'meenu' : 1993, 'prayank' : 2019}\n",
    "\n",
    "odd_value_dict = {k:v for k,v in dict1.items() if v%2 != 0}\n",
    " \n",
    "print (odd_value_dict)"
   ]
  },
  {
   "cell_type": "code",
   "execution_count": 170,
   "metadata": {},
   "outputs": [
    {
     "name": "stdout",
     "output_type": "stream",
     "text": [
      "{'gauravbatra': 1990, 'meenubatra': 1994, 'prayankbatra': 2020}\n"
     ]
    }
   ],
   "source": [
    "# perform opertions on key values pair\n",
    "\n",
    "dict1 = {'gaurav' : 1989, 'shruti' : 1988, 'meenu' : 1993, 'prayank' : 2019}\n",
    "\n",
    "odd_value_dict = {k + 'batra' : v+1  for k,v in dict1.items() if v%2 != 0}\n",
    " \n",
    "print (odd_value_dict)"
   ]
  },
  {
   "cell_type": "markdown",
   "metadata": {},
   "source": [
    "# Strings"
   ]
  },
  {
   "cell_type": "code",
   "execution_count": 1,
   "metadata": {},
   "outputs": [
    {
     "name": "stdout",
     "output_type": "stream",
     "text": [
      "gaurav\n",
      "batra\n",
      "triple\n"
     ]
    }
   ],
   "source": [
    "# in strings, basically we use single/ double strings and triple qotes will be used for comments/ docstings.\n",
    "\n",
    "single_string = 'gaurav'\n",
    "print (single_string)\n",
    "\n",
    "double_string = \"batra\"\n",
    "print (double_string)\n",
    "\n",
    "triple_string = '''triple'''\n",
    "print (triple_string)"
   ]
  },
  {
   "cell_type": "code",
   "execution_count": 8,
   "metadata": {},
   "outputs": [
    {
     "name": "stdout",
     "output_type": "stream",
     "text": [
      "a\n",
      "t\n"
     ]
    }
   ],
   "source": [
    "# Access Characters in string\n",
    "\n",
    "access_string = \"gaurav batra\"\n",
    "\n",
    "print (access_string[4])           # access 4th character by using index method and start index will be \"0\"\n",
    "\n",
    "print (access_string[-3])          # access by negative indexing"
   ]
  },
  {
   "cell_type": "code",
   "execution_count": 7,
   "metadata": {},
   "outputs": [
    {
     "name": "stdout",
     "output_type": "stream",
     "text": [
      "aurav b\n",
      "atr\n"
     ]
    }
   ],
   "source": [
    "# slicing method\n",
    "\n",
    "access_string = \"gaurav batra\"\n",
    "\n",
    "print (access_string[1:8])             # access by positive slicing \n",
    "\n",
    "print (access_string[-4:-1])           # access by negative slicing"
   ]
  },
  {
   "cell_type": "code",
   "execution_count": 9,
   "metadata": {},
   "outputs": [
    {
     "ename": "IndexError",
     "evalue": "string index out of range",
     "output_type": "error",
     "traceback": [
      "\u001b[1;31m---------------------------------------------------------------------------\u001b[0m",
      "\u001b[1;31mIndexError\u001b[0m                                Traceback (most recent call last)",
      "\u001b[1;32m<ipython-input-9-ec6f910be0f9>\u001b[0m in \u001b[0;36m<module>\u001b[1;34m\u001b[0m\n\u001b[0;32m      1\u001b[0m \u001b[1;31m# indexing errors\u001b[0m\u001b[1;33m\u001b[0m\u001b[1;33m\u001b[0m\u001b[1;33m\u001b[0m\u001b[0m\n\u001b[0;32m      2\u001b[0m \u001b[1;33m\u001b[0m\u001b[0m\n\u001b[1;32m----> 3\u001b[1;33m \u001b[0mprint\u001b[0m \u001b[1;33m(\u001b[0m\u001b[0maccess_string\u001b[0m\u001b[1;33m[\u001b[0m\u001b[1;36m17\u001b[0m\u001b[1;33m]\u001b[0m\u001b[1;33m)\u001b[0m                     \u001b[1;31m# indexing out of range\u001b[0m\u001b[1;33m\u001b[0m\u001b[1;33m\u001b[0m\u001b[0m\n\u001b[0m",
      "\u001b[1;31mIndexError\u001b[0m: string index out of range"
     ]
    }
   ],
   "source": [
    "# indexing errors\n",
    "\n",
    "print (access_string[17])                     # indexing out of range"
   ]
  },
  {
   "cell_type": "code",
   "execution_count": 10,
   "metadata": {},
   "outputs": [
    {
     "ename": "TypeError",
     "evalue": "string indices must be integers",
     "output_type": "error",
     "traceback": [
      "\u001b[1;31m---------------------------------------------------------------------------\u001b[0m",
      "\u001b[1;31mTypeError\u001b[0m                                 Traceback (most recent call last)",
      "\u001b[1;32m<ipython-input-10-83fcdafaada2>\u001b[0m in \u001b[0;36m<module>\u001b[1;34m\u001b[0m\n\u001b[1;32m----> 1\u001b[1;33m \u001b[0mprint\u001b[0m \u001b[1;33m(\u001b[0m\u001b[0maccess_string\u001b[0m\u001b[1;33m[\u001b[0m\u001b[1;36m1.7\u001b[0m\u001b[1;33m]\u001b[0m\u001b[1;33m)\u001b[0m                     \u001b[1;31m# floating point indexing\u001b[0m\u001b[1;33m\u001b[0m\u001b[1;33m\u001b[0m\u001b[0m\n\u001b[0m",
      "\u001b[1;31mTypeError\u001b[0m: string indices must be integers"
     ]
    }
   ],
   "source": [
    "print (access_string[1.7])                     # floating point indexing"
   ]
  },
  {
   "cell_type": "code",
   "execution_count": 11,
   "metadata": {},
   "outputs": [
    {
     "ename": "TypeError",
     "evalue": "'str' object does not support item assignment",
     "output_type": "error",
     "traceback": [
      "\u001b[1;31m---------------------------------------------------------------------------\u001b[0m",
      "\u001b[1;31mTypeError\u001b[0m                                 Traceback (most recent call last)",
      "\u001b[1;32m<ipython-input-11-b808703d850f>\u001b[0m in \u001b[0;36m<module>\u001b[1;34m\u001b[0m\n\u001b[0;32m      5\u001b[0m \u001b[0maccess_string\u001b[0m \u001b[1;33m=\u001b[0m \u001b[1;34m\"gaurav batra\"\u001b[0m\u001b[1;33m\u001b[0m\u001b[1;33m\u001b[0m\u001b[0m\n\u001b[0;32m      6\u001b[0m \u001b[1;33m\u001b[0m\u001b[0m\n\u001b[1;32m----> 7\u001b[1;33m \u001b[0maccess_string\u001b[0m\u001b[1;33m[\u001b[0m\u001b[1;36m4\u001b[0m\u001b[1;33m]\u001b[0m \u001b[1;33m=\u001b[0m \u001b[1;34m'b'\u001b[0m\u001b[1;33m\u001b[0m\u001b[1;33m\u001b[0m\u001b[0m\n\u001b[0m\u001b[0;32m      8\u001b[0m \u001b[1;33m\u001b[0m\u001b[0m\n\u001b[0;32m      9\u001b[0m \u001b[0mprint\u001b[0m \u001b[1;33m(\u001b[0m\u001b[0maccess_string\u001b[0m\u001b[1;33m)\u001b[0m\u001b[1;33m\u001b[0m\u001b[1;33m\u001b[0m\u001b[0m\n",
      "\u001b[1;31mTypeError\u001b[0m: 'str' object does not support item assignment"
     ]
    }
   ],
   "source": [
    "# Change or delete of strings.\n",
    "\n",
    "# as we can't do changes/ modifications in strings because strings are immutable in nature.\n",
    "\n",
    "access_string = \"gaurav batra\"\n",
    "\n",
    "access_string[4] = 'b'\n",
    "\n",
    "print (access_string)"
   ]
  },
  {
   "cell_type": "code",
   "execution_count": 12,
   "metadata": {},
   "outputs": [
    {
     "name": "stdout",
     "output_type": "stream",
     "text": [
      "gaurbv batra\n"
     ]
    }
   ],
   "source": [
    "# we assign same string to different variable.\n",
    "\n",
    "name_string ='gaurbv batra'\n",
    "\n",
    "print (name_string)"
   ]
  },
  {
   "cell_type": "code",
   "execution_count": 13,
   "metadata": {},
   "outputs": [
    {
     "name": "stdout",
     "output_type": "stream",
     "text": [
      "2655169523056\n",
      "2655167956336\n"
     ]
    }
   ],
   "source": [
    "# whereas ID's will be different for both strings because string got changed due to change in one character itself.\n",
    "\n",
    "print (id(access_string))\n",
    "\n",
    "print (id(name_string))"
   ]
  },
  {
   "cell_type": "code",
   "execution_count": 14,
   "metadata": {},
   "outputs": [
    {
     "ename": "NameError",
     "evalue": "name 'name_string' is not defined",
     "output_type": "error",
     "traceback": [
      "\u001b[1;31m---------------------------------------------------------------------------\u001b[0m",
      "\u001b[1;31mNameError\u001b[0m                                 Traceback (most recent call last)",
      "\u001b[1;32m<ipython-input-14-fce098042bc3>\u001b[0m in \u001b[0;36m<module>\u001b[1;34m\u001b[0m\n\u001b[0;32m      1\u001b[0m \u001b[1;32mdel\u001b[0m \u001b[0mname_string\u001b[0m\u001b[1;33m\u001b[0m\u001b[1;33m\u001b[0m\u001b[0m\n\u001b[0;32m      2\u001b[0m \u001b[1;33m\u001b[0m\u001b[0m\n\u001b[1;32m----> 3\u001b[1;33m \u001b[0mprint\u001b[0m \u001b[1;33m(\u001b[0m\u001b[0mname_string\u001b[0m\u001b[1;33m)\u001b[0m\u001b[1;33m\u001b[0m\u001b[1;33m\u001b[0m\u001b[0m\n\u001b[0m",
      "\u001b[1;31mNameError\u001b[0m: name 'name_string' is not defined"
     ]
    }
   ],
   "source": [
    "# deletion of complete string\n",
    "\n",
    "del name_string\n",
    "\n",
    "print (name_string)"
   ]
  },
  {
   "cell_type": "code",
   "execution_count": 21,
   "metadata": {},
   "outputs": [
    {
     "name": "stdout",
     "output_type": "stream",
     "text": [
      "prayank batra \n",
      "prayank batra prayank batra \n"
     ]
    }
   ],
   "source": [
    "# String operations\n",
    "\n",
    "# 1. Concatenation\n",
    "\n",
    "# \"+\" is used for joining of two strings\n",
    "\n",
    "# \"*\" is used for repeating the same strings as its defined.\n",
    "\n",
    "f_name ='prayank '\n",
    "l_name = 'batra '\n",
    "name = f_name  +  l_name\n",
    "print (name)\n",
    "\n",
    "print (name * 2)"
   ]
  },
  {
   "cell_type": "code",
   "execution_count": 28,
   "metadata": {},
   "outputs": [
    {
     "name": "stdout",
     "output_type": "stream",
     "text": [
      "character count of 'a' in string : 4\n"
     ]
    }
   ],
   "source": [
    "# for counting characters in a string\n",
    "\n",
    "charcount = 0\n",
    "for character in name:\n",
    "    if character == 'a':\n",
    "        charcount += 1\n",
    "print (\"character count of 'a' in string :\", charcount)"
   ]
  },
  {
   "cell_type": "code",
   "execution_count": 30,
   "metadata": {},
   "outputs": [
    {
     "name": "stdout",
     "output_type": "stream",
     "text": [
      "True\n",
      "False\n",
      "False\n"
     ]
    }
   ],
   "source": [
    "# string membership test\n",
    "\n",
    "name = 'prayank batra'\n",
    "\n",
    "print ('r' in name)\n",
    "\n",
    "print ('g' in name)\n",
    "\n",
    "print ('a' not in name)"
   ]
  },
  {
   "cell_type": "code",
   "execution_count": 32,
   "metadata": {},
   "outputs": [
    {
     "name": "stdout",
     "output_type": "stream",
     "text": [
      "prayank batra\n",
      "PRAYANK BATRA\n"
     ]
    }
   ],
   "source": [
    "# Strings methods\n",
    "\n",
    "name = 'prayank batra'\n",
    "\n",
    "print (name.lower())               # for changing it into lower alphabets\n",
    "\n",
    "print (name.upper())               # for changing it into upper alphabets"
   ]
  },
  {
   "cell_type": "code",
   "execution_count": 33,
   "metadata": {},
   "outputs": [
    {
     "name": "stdout",
     "output_type": "stream",
     "text": [
      "['strings', 'are', 'immutable', 'in', 'nature.']\n"
     ]
    }
   ],
   "source": [
    "string1 = 'strings are immutable in nature.'\n",
    "\n",
    "print (string1.split())                             # for spliting the string"
   ]
  },
  {
   "cell_type": "code",
   "execution_count": 39,
   "metadata": {},
   "outputs": [
    {
     "data": {
      "text/plain": [
       "'strings are immutable in nature.'"
      ]
     },
     "execution_count": 39,
     "metadata": {},
     "output_type": "execute_result"
    }
   ],
   "source": [
    "' '.join(['strings', 'are', 'immutable', 'in', 'nature.'])                  # for making string by joining words"
   ]
  },
  {
   "cell_type": "code",
   "execution_count": 41,
   "metadata": {},
   "outputs": [
    {
     "data": {
      "text/plain": [
       "2"
      ]
     },
     "execution_count": 41,
     "metadata": {},
     "output_type": "execute_result"
    }
   ],
   "source": [
    "name.find('a')                     # for finding any element in string"
   ]
  },
  {
   "cell_type": "code",
   "execution_count": 42,
   "metadata": {},
   "outputs": [
    {
     "name": "stdout",
     "output_type": "stream",
     "text": [
      "prayank batra\n",
      "prayank khatra\n"
     ]
    }
   ],
   "source": [
    "name = 'prayank batra'               # for replacing any word\n",
    "\n",
    "name1 = name.replace(\"batra\", \"khatra\")\n",
    "\n",
    "print (name)\n",
    "\n",
    "print (name1)"
   ]
  },
  {
   "cell_type": "markdown",
   "metadata": {},
   "source": [
    "# Python program to check where string is palindrome or not?"
   ]
  },
  {
   "cell_type": "code",
   "execution_count": 44,
   "metadata": {},
   "outputs": [
    {
     "name": "stdout",
     "output_type": "stream",
     "text": [
      "varuag \n"
     ]
    }
   ],
   "source": [
    "# Exercise : 1 --> for reverse a word\n",
    "\n",
    "originalword = \"gaurav\"\n",
    "\n",
    "reverseword = ' '\n",
    "\n",
    "for character in originalword:\n",
    "    reverseword = character + reverseword\n",
    "\n",
    "print (reverseword)\n"
   ]
  },
  {
   "cell_type": "code",
   "execution_count": 45,
   "metadata": {},
   "outputs": [
    {
     "name": "stdout",
     "output_type": "stream",
     "text": [
      "Given string is not a palindrome\n"
     ]
    }
   ],
   "source": [
    "# Exercise : 2 --> check if word is palindrome or not?\n",
    "\n",
    "originalword = originalword.lower()\n",
    "reverseword = reverseword.lower()\n",
    "\n",
    "if originalword == reverseword :\n",
    "    print (\"Given string is a palindrome\")\n",
    "else:\n",
    "    print (\"Given string is not a palindrome\")"
   ]
  },
  {
   "cell_type": "code",
   "execution_count": 60,
   "metadata": {},
   "outputs": [
    {
     "name": "stdout",
     "output_type": "stream",
     "text": [
      " works string reverse is how This \n"
     ]
    }
   ],
   "source": [
    "# Exercise : 3 --> sort sentences in reverse alphabetical order\n",
    "\n",
    "mystring = \"This is how reverse string works\"\n",
    "\n",
    "breakdown_string = mystring.split()                # breakdown string in list of words.\n",
    "  \n",
    "breakdown_string.sort(reverse = True)               # reverse sort this list\n",
    "\n",
    "rev_string = ' '\n",
    "\n",
    "for word in breakdown_string:\n",
    "    rev_string += word + ' '\n",
    "\n",
    "print (rev_string)"
   ]
  },
  {
   "cell_type": "markdown",
   "metadata": {},
   "source": [
    "# FUNCTIONS"
   ]
  },
  {
   "cell_type": "code",
   "execution_count": 64,
   "metadata": {},
   "outputs": [],
   "source": [
    "def gaurav_batra(var):                   # Defining function and calling function by var\n",
    "    \"\"\"\n",
    "    This function will print the name.\n",
    "    \"\"\"\n",
    "    print (\"gaurav \"+ str(var))"
   ]
  },
  {
   "cell_type": "code",
   "execution_count": 66,
   "metadata": {},
   "outputs": [
    {
     "name": "stdout",
     "output_type": "stream",
     "text": [
      "gaurav batra\n"
     ]
    }
   ],
   "source": [
    "gaurav_batra ('batra')                    # pass var \"batra\" to function for calling the function here."
   ]
  },
  {
   "cell_type": "code",
   "execution_count": 67,
   "metadata": {},
   "outputs": [
    {
     "name": "stdout",
     "output_type": "stream",
     "text": [
      "\n",
      "    This function will print the name.\n",
      "    \n"
     ]
    }
   ],
   "source": [
    "print (gaurav_batra.__doc__)             # Docstring of above defined function gaurav_batra"
   ]
  },
  {
   "cell_type": "code",
   "execution_count": 70,
   "metadata": {},
   "outputs": [],
   "source": [
    "# Define of function for multiplication of numbers\n",
    "\n",
    "def multiplicationofnums (numbers):\n",
    "    \"\"\"\n",
    "    This function will do multiplication of all numbers.\n",
    "    \"\"\"\n",
    "    multi_var = 1\n",
    "    for number in numbers:\n",
    "        multi_var *= number\n",
    "    return multi_var"
   ]
  },
  {
   "cell_type": "code",
   "execution_count": 71,
   "metadata": {},
   "outputs": [
    {
     "name": "stdout",
     "output_type": "stream",
     "text": [
      "168\n"
     ]
    }
   ],
   "source": [
    "# calling above function for performing operation\n",
    "\n",
    "multi_num = multiplicationofnums ([2, 6, 7, 2])\n",
    "\n",
    "print(multi_num)"
   ]
  },
  {
   "cell_type": "code",
   "execution_count": 72,
   "metadata": {},
   "outputs": [
    {
     "name": "stdout",
     "output_type": "stream",
     "text": [
      "\n",
      "    This function will do multiplication of all numbers.\n",
      "    \n"
     ]
    }
   ],
   "source": [
    "print (multiplicationofnums.__doc__)                      # print docsting for above defined function"
   ]
  },
  {
   "cell_type": "code",
   "execution_count": 75,
   "metadata": {},
   "outputs": [
    {
     "name": "stdout",
     "output_type": "stream",
     "text": [
      "Inside the function block : I will have to be there as Local variable\n",
      "Inside the function block : I will be global variable\n",
      "outside the function block : I will be global variable\n"
     ]
    },
    {
     "ename": "NameError",
     "evalue": "name 'loc_var' is not defined",
     "output_type": "error",
     "traceback": [
      "\u001b[1;31m---------------------------------------------------------------------------\u001b[0m",
      "\u001b[1;31mNameError\u001b[0m                                 Traceback (most recent call last)",
      "\u001b[1;32m<ipython-input-75-ac7f1405cb51>\u001b[0m in \u001b[0;36m<module>\u001b[1;34m\u001b[0m\n\u001b[0;32m     17\u001b[0m \u001b[0mprint\u001b[0m \u001b[1;33m(\u001b[0m\u001b[1;34m\"outside the function block :\"\u001b[0m\u001b[1;33m,\u001b[0m \u001b[0mglo_var\u001b[0m\u001b[1;33m)\u001b[0m\u001b[1;33m\u001b[0m\u001b[1;33m\u001b[0m\u001b[0m\n\u001b[0;32m     18\u001b[0m \u001b[1;33m\u001b[0m\u001b[0m\n\u001b[1;32m---> 19\u001b[1;33m \u001b[0mprint\u001b[0m \u001b[1;33m(\u001b[0m\u001b[1;34m\"outside the function block :\"\u001b[0m\u001b[1;33m,\u001b[0m \u001b[0mloc_var\u001b[0m\u001b[1;33m)\u001b[0m\u001b[1;33m\u001b[0m\u001b[1;33m\u001b[0m\u001b[0m\n\u001b[0m\u001b[0;32m     20\u001b[0m \u001b[1;33m\u001b[0m\u001b[0m\n",
      "\u001b[1;31mNameError\u001b[0m: name 'loc_var' is not defined"
     ]
    }
   ],
   "source": [
    "# Define scope and lifetime of global and local variable\n",
    "\n",
    "glo_var = \"I will be global variable\"\n",
    "\n",
    "def checklifetime():\n",
    "    \"\"\"\n",
    "    Function to test lifetime of variables.\n",
    "    \"\"\"\n",
    "    loc_var = \"I will have to be there as Local variable\"\n",
    "    \n",
    "    print (\"Inside the function block :\", loc_var)          # prints local variable\n",
    "    \n",
    "    print (\"Inside the function block :\", glo_var)          # prints global variable\n",
    "    \n",
    "checklifetime()                                             # call function here to check global variable\n",
    "\n",
    "print (\"outside the function block :\", glo_var)             # as global variable in scope so it will print outside block   \n",
    "\n",
    "print (\"outside the function block :\", loc_var)            # local variable is not in scope of outside block\n",
    "   "
   ]
  },
  {
   "cell_type": "markdown",
   "metadata": {},
   "source": [
    "### Python function to print factorial of a number"
   ]
  },
  {
   "cell_type": "code",
   "execution_count": 85,
   "metadata": {},
   "outputs": [
    {
     "name": "stdout",
     "output_type": "stream",
     "text": [
      "Factorial of 5 is : 120\n"
     ]
    }
   ],
   "source": [
    "def factorial(num):\n",
    "    \"\"\"\n",
    "    This function will give factorial of a number\n",
    "    \"\"\"\n",
    "    fact_num = 1\n",
    "    while (num > 0):\n",
    "        fact_num *= num\n",
    "        num -= 1\n",
    "    return fact_num   \n",
    "\n",
    "number = 5\n",
    "print (\"Factorial of {} is : {}\".format(number, factorial(number)))"
   ]
  },
  {
   "cell_type": "markdown",
   "metadata": {},
   "source": [
    "## Types of Functions"
   ]
  },
  {
   "cell_type": "markdown",
   "metadata": {},
   "source": [
    "### Built in Functions"
   ]
  },
  {
   "cell_type": "code",
   "execution_count": 86,
   "metadata": {},
   "outputs": [
    {
     "name": "stdout",
     "output_type": "stream",
     "text": [
      "10.5\n"
     ]
    }
   ],
   "source": [
    "# abs() :- for getting absolute value\n",
    "\n",
    "num = -10.5\n",
    "\n",
    "print (abs(num))"
   ]
  },
  {
   "cell_type": "code",
   "execution_count": 88,
   "metadata": {},
   "outputs": [
    {
     "name": "stdout",
     "output_type": "stream",
     "text": [
      "False\n"
     ]
    }
   ],
   "source": [
    "# all() :- all() returns as True except 0, none and false\n",
    "\n",
    "set1 = {10, 20, 30, 0}\n",
    "\n",
    "print(all(set1))"
   ]
  },
  {
   "cell_type": "code",
   "execution_count": 90,
   "metadata": {},
   "outputs": [
    {
     "name": "stdout",
     "output_type": "stream",
     "text": [
      "True\n"
     ]
    }
   ],
   "source": [
    "list1 = [10, 20, 30]\n",
    "\n",
    "print(all(list1))"
   ]
  },
  {
   "cell_type": "code",
   "execution_count": 91,
   "metadata": {},
   "outputs": [
    {
     "name": "stdout",
     "output_type": "stream",
     "text": [
      "True\n"
     ]
    }
   ],
   "source": [
    "tuple1 = (10, 20, 30, 'false')\n",
    "\n",
    "print(all(tuple1))                     # if false is taken as string then it will come as True"
   ]
  },
  {
   "cell_type": "code",
   "execution_count": 93,
   "metadata": {},
   "outputs": [
    {
     "name": "stdout",
     "output_type": "stream",
     "text": [
      "True\n"
     ]
    }
   ],
   "source": [
    "emptylist = []\n",
    "\n",
    "print (all(emptylist))"
   ]
  },
  {
   "cell_type": "code",
   "execution_count": 94,
   "metadata": {},
   "outputs": [
    {
     "name": "stdout",
     "output_type": "stream",
     "text": [
      "False\n"
     ]
    }
   ],
   "source": [
    "tuple1 = (False, 1, 5, 10)               # if false is taken as boolean value then it will come as False\n",
    "\n",
    "print (all(tuple1))"
   ]
  },
  {
   "cell_type": "code",
   "execution_count": 95,
   "metadata": {},
   "outputs": [
    {
     "name": "stdout",
     "output_type": "stream",
     "text": [
      "['__add__', '__class__', '__contains__', '__delattr__', '__delitem__', '__dir__', '__doc__', '__eq__', '__format__', '__ge__', '__getattribute__', '__getitem__', '__gt__', '__hash__', '__iadd__', '__imul__', '__init__', '__init_subclass__', '__iter__', '__le__', '__len__', '__lt__', '__mul__', '__ne__', '__new__', '__reduce__', '__reduce_ex__', '__repr__', '__reversed__', '__rmul__', '__setattr__', '__setitem__', '__sizeof__', '__str__', '__subclasshook__', 'append', 'clear', 'copy', 'count', 'extend', 'index', 'insert', 'pop', 'remove', 'reverse', 'sort']\n"
     ]
    }
   ],
   "source": [
    "# dir() method :- list of valid attributes\n",
    "\n",
    "list1 = [2, 4, 5]\n",
    "print (dir(list1))"
   ]
  },
  {
   "cell_type": "code",
   "execution_count": 96,
   "metadata": {},
   "outputs": [
    {
     "name": "stdout",
     "output_type": "stream",
     "text": [
      "(4, 2)\n"
     ]
    }
   ],
   "source": [
    "# divmod() method\n",
    "\n",
    "print (divmod(14,3))                 # it will give quotient and reminder in output"
   ]
  },
  {
   "cell_type": "code",
   "execution_count": 102,
   "metadata": {},
   "outputs": [
    {
     "name": "stdout",
     "output_type": "stream",
     "text": [
      "Index 21 as value 10\n",
      "Index 22 as value 20\n",
      "Index 23 as value 30\n",
      "Index 24 as value 50\n"
     ]
    }
   ],
   "source": [
    "# enumerate() method :- we cna define indexing.\n",
    "\n",
    "list1 = [10, 20, 30, 50]\n",
    "\n",
    "for index, num in enumerate(list1, 21):\n",
    "    print (\"Index {0} as value {1}\". format(index, num))"
   ]
  },
  {
   "cell_type": "code",
   "execution_count": 103,
   "metadata": {},
   "outputs": [
    {
     "name": "stdout",
     "output_type": "stream",
     "text": [
      "[1, 3, 5, 7, 9, 11, 13, 15, 17, 19, 21, 23, 25, 27, 29]\n"
     ]
    }
   ],
   "source": [
    "# filter() method :- filter(function, iterable)\n",
    "\n",
    "def odd_numbers (num):\n",
    "    \"\"\"\n",
    "    this function will give all odd values.\n",
    "    \"\"\"\n",
    "    \n",
    "    if num%2 != 0:\n",
    "        return num\n",
    "\n",
    "numbers = range(30)\n",
    "oddnum = list(filter(odd_numbers, numbers))\n",
    "print (oddnum)"
   ]
  },
  {
   "cell_type": "code",
   "execution_count": 106,
   "metadata": {},
   "outputs": [
    {
     "name": "stdout",
     "output_type": "stream",
     "text": [
      "True\n"
     ]
    }
   ],
   "source": [
    "# isinstance() method :- isinstance(object, classinfo)\n",
    "\n",
    "#for getting correct info about defined object and its class\n",
    "\n",
    "set1 = {'a', 11, 23, 'b'}\n",
    "print (isinstance(set1, set))"
   ]
  },
  {
   "cell_type": "code",
   "execution_count": 111,
   "metadata": {},
   "outputs": [
    {
     "name": "stdout",
     "output_type": "stream",
     "text": [
      "True\n",
      "False\n"
     ]
    }
   ],
   "source": [
    "dict1 = {'a':10, 'b' : 20, 'c':30}\n",
    "print (isinstance(dict1, dict))\n",
    "\n",
    "print (isinstance(dict1, list))"
   ]
  },
  {
   "cell_type": "code",
   "execution_count": 113,
   "metadata": {},
   "outputs": [
    {
     "name": "stdout",
     "output_type": "stream",
     "text": [
      "[5.0, 10.0, 15.0, 25.0]\n"
     ]
    }
   ],
   "source": [
    "# map() method :- map(function_to_apply, list_of_input)\n",
    "\n",
    "list1 = [10, 20, 30, 50]\n",
    "\n",
    "half = []\n",
    "\n",
    "for num in list1:\n",
    "    \n",
    "    half.append(num/2)\n",
    "    \n",
    "print (half)"
   ]
  },
  {
   "cell_type": "code",
   "execution_count": 114,
   "metadata": {},
   "outputs": [
    {
     "name": "stdout",
     "output_type": "stream",
     "text": [
      "[5.0, 10.0, 15.0, 25.0]\n"
     ]
    }
   ],
   "source": [
    "# now we will get the same result as give above by using map() method\n",
    "\n",
    "def halfofnum (num):\n",
    "    return (num/2)\n",
    "\n",
    "print (list(map(halfofnum, list1)))"
   ]
  },
  {
   "cell_type": "code",
   "execution_count": 116,
   "metadata": {},
   "outputs": [
    {
     "name": "stdout",
     "output_type": "stream",
     "text": [
      "110\n"
     ]
    }
   ],
   "source": [
    "# regluar way of programming\n",
    "\n",
    "list1 = [10, 20, 30, 50]\n",
    "\n",
    "sum_list1 = 0\n",
    "\n",
    "for num in list1:\n",
    "    sum_list1 += num\n",
    "    \n",
    "print (sum_list1)  \n",
    "\n",
    "# now we will do the same by using reduce() method :- "
   ]
  },
  {
   "cell_type": "code",
   "execution_count": 117,
   "metadata": {},
   "outputs": [
    {
     "name": "stdout",
     "output_type": "stream",
     "text": [
      "110\n"
     ]
    }
   ],
   "source": [
    "# reduce() method :-\n",
    "\n",
    "from functools import reduce\n",
    "\n",
    "def addofnums (a, b):\n",
    "    return a+b\n",
    "\n",
    "sum_list1 = reduce(addofnums, list1)\n",
    "print (sum_list1)"
   ]
  },
  {
   "cell_type": "markdown",
   "metadata": {},
   "source": [
    "###  User-Defined functions"
   ]
  },
  {
   "cell_type": "code",
   "execution_count": 122,
   "metadata": {},
   "outputs": [
    {
     "name": "stdout",
     "output_type": "stream",
     "text": [
      "Sum of 10 and 5 is 15\n"
     ]
    }
   ],
   "source": [
    "def addofnums(a, b):\n",
    "    \"\"\"\n",
    "    this function will return sum of two numbers.\n",
    "    \"\"\"\n",
    "    sum_num = a + b\n",
    "    return sum_num\n",
    "\n",
    "a = 10\n",
    "b = 5\n",
    "\n",
    "print (\"Sum of {0} and {1} is {2}\".format (a, b, addofnums(a , b)))"
   ]
  },
  {
   "cell_type": "markdown",
   "metadata": {},
   "source": [
    "### Python program of Making of a calculator "
   ]
  },
  {
   "cell_type": "code",
   "execution_count": 127,
   "metadata": {},
   "outputs": [
    {
     "name": "stdout",
     "output_type": "stream",
     "text": [
      "Select an option\n",
      "1. Addition\n",
      "2. Substraction\n",
      "3. Multiplication\n",
      "4. Division\n",
      "5. Exponential\n",
      "Enter your Choice from 1-5 : 5\n",
      "Enter Ist num : 3\n",
      "Enter 2nd num : 5\n",
      "Exponential of 3.0 and 5.0 : 243.0 \n"
     ]
    }
   ],
   "source": [
    "def add (x,y) :\n",
    "    \"\"\"\n",
    "    this function will give addition.\n",
    "    \"\"\"\n",
    "    return x + y\n",
    "\n",
    "def substract (x,y) :\n",
    "    \"\"\"\n",
    "    this function will give substraction.\n",
    "    \"\"\"\n",
    "    return x - y\n",
    "\n",
    "def mutiply (x,y) :\n",
    "    \"\"\"\n",
    "    this function will give Multiplication.\n",
    "    \"\"\"\n",
    "    return x * y\n",
    "\n",
    "def division (x,y) :\n",
    "    \"\"\"\n",
    "    this function will give Division.\n",
    "    \"\"\"\n",
    "    return x / y\n",
    "\n",
    "def Exponent (x,y) :\n",
    "    \"\"\"\n",
    "    this function will give Exponential.\n",
    "    \"\"\"\n",
    "    return x ** y\n",
    "\n",
    "print (\"Select an option\")\n",
    "print (\"1. Addition\")\n",
    "print (\"2. Substraction\")\n",
    "print (\"3. Multiplication\")\n",
    "print (\"4. Division\")\n",
    "print (\"5. Exponential\")\n",
    "\n",
    "choice = int(input(\"Enter your Choice from 1-5 : \"))\n",
    "\n",
    "num1 = float (input (\"Enter Ist num : \"))\n",
    "num2 = float (input (\"Enter 2nd num : \"))\n",
    "\n",
    "if choice == 1:\n",
    "    print (\"Addition of {0} and {1} : {2} \" .format(num1, num2, add(num1, num2)))\n",
    "elif choice == 2:\n",
    "    print (\"Substraction of {0} and {1} : {2} \" .format(num1, num2, substract(num1, num2)))\n",
    "elif choice == 3:\n",
    "    print (\"Multiplication of {0} and {1} : {2} \" .format(num1, num2, multiply(num1, num2)))\n",
    "elif choice == 4:\n",
    "    print (\"Division of {0} and {1} : {2} \" .format(num1, num2, division(num1, num2)))\n",
    "elif choice == 5:\n",
    "    print (\"Exponential of {0} and {1} : {2} \" .format(num1, num2, Exponent(num1, num2)))\n",
    "else:\n",
    "    print (\"Invalid Choice so kindly enter from 1-5 for getting require result.\")"
   ]
  },
  {
   "cell_type": "markdown",
   "metadata": {},
   "source": [
    "# Arguments in Functions"
   ]
  },
  {
   "cell_type": "code",
   "execution_count": 128,
   "metadata": {},
   "outputs": [
    {
     "name": "stdout",
     "output_type": "stream",
     "text": [
      "Hello! gaurav left Unilever and wants to join good organization\n"
     ]
    }
   ],
   "source": [
    "def hello (name, msg):\n",
    "    \"\"\"\n",
    "    This function will print a message for a person.\n",
    "    \"\"\"\n",
    "    print (\"Hello! {0} {1}\".format(name, msg))\n",
    "    \n",
    "hello (\"gaurav\", \"left Unilever and wants to join good organization\")             # pass arguments to the function "
   ]
  },
  {
   "cell_type": "markdown",
   "metadata": {},
   "source": [
    "## Default Arguments"
   ]
  },
  {
   "cell_type": "code",
   "execution_count": 130,
   "metadata": {},
   "outputs": [
    {
     "name": "stdout",
     "output_type": "stream",
     "text": [
      "Hello! gaurav left Unilever and wants to join good organization\n"
     ]
    }
   ],
   "source": [
    "# provision to pass default value to an argument by using assignment operator (=)\n",
    "\n",
    "def hello (name, msg = \"worked in Unilever very dedicately but didn't find any growth\"):\n",
    "    \"\"\"\n",
    "    This function welcomes user with default message if message is not passed\n",
    "    while calling funciton.\n",
    "    \"\"\"\n",
    "    print (\"Hello! {0} {1}\".format(name, msg))\n",
    "    \n",
    "hello (\"gaurav\", \"left Unilever and wants to join good organization\")             # pass arguments to the function "
   ]
  },
  {
   "cell_type": "code",
   "execution_count": 131,
   "metadata": {},
   "outputs": [
    {
     "name": "stdout",
     "output_type": "stream",
     "text": [
      "Hello! gaurav worked in Unilever very dedicately but didn't find any growth\n"
     ]
    }
   ],
   "source": [
    "# without passing messgae argument then it will pick msg passed to function\n",
    "\n",
    "hello (\"gaurav\")"
   ]
  },
  {
   "cell_type": "code",
   "execution_count": 132,
   "metadata": {},
   "outputs": [
    {
     "ename": "SyntaxError",
     "evalue": "non-default argument follows default argument (<ipython-input-132-1e6e9e3cfd8c>, line 1)",
     "output_type": "error",
     "traceback": [
      "\u001b[1;36m  File \u001b[1;32m\"<ipython-input-132-1e6e9e3cfd8c>\"\u001b[1;36m, line \u001b[1;32m1\u001b[0m\n\u001b[1;33m    def hello (msg = \"worked in Unilever very dedicately but didn't find any growth\", name):\u001b[0m\n\u001b[1;37m              ^\u001b[0m\n\u001b[1;31mSyntaxError\u001b[0m\u001b[1;31m:\u001b[0m non-default argument follows default argument\n"
     ]
    }
   ],
   "source": [
    "def hello (msg = \"worked in Unilever very dedicately but didn't find any growth\", name):\n",
    "    \"\"\"\n",
    "    This function welcomes user with default message if message is not passed\n",
    "    while calling funciton.\n",
    "    \"\"\"\n",
    "    print (\"Hello! {0} {1}\".format(name, msg))\n",
    "    \n",
    "hello (\"gaurav\", \"left Unilever and wants to join good organization\")             # pass arguments to the function\n",
    "\n",
    "# prints syntax error because on right side, it should have arguments too."
   ]
  },
  {
   "cell_type": "code",
   "execution_count": 134,
   "metadata": {},
   "outputs": [
    {
     "name": "stdout",
     "output_type": "stream",
     "text": [
      "Hello! shruti worked in Unilever very dedicately but didn't find any growth\n"
     ]
    }
   ],
   "source": [
    "def hello (msg = \"worked in Unilever very dedicately but didn't find any growth\", name = 'shruti'):\n",
    "    \"\"\"\n",
    "    This function welcomes user with default message if message is not passed\n",
    "    while calling funciton.\n",
    "    \"\"\"\n",
    "    print (\"Hello! {0} {1}\".format(name, msg))\n",
    "    \n",
    "hello ( )             # if we already passed both while defining function and leave blank this."
   ]
  },
  {
   "cell_type": "markdown",
   "metadata": {},
   "source": [
    "## Keyword Arguments"
   ]
  },
  {
   "cell_type": "code",
   "execution_count": 141,
   "metadata": {},
   "outputs": [
    {
     "name": "stdout",
     "output_type": "stream",
     "text": [
      "Hello! gaurav left Unilever and wants to join good organization\n"
     ]
    }
   ],
   "source": [
    "def hello (**kwargs):\n",
    "    \"\"\"\n",
    "    This function welcomes user with provided message\n",
    "    \"\"\"\n",
    "    if kwargs:\n",
    "        print (\"Hello! {0} {1}\".format(kwargs['name'], kwargs['msg']))\n",
    "    \n",
    "hello(name = \"gaurav\", msg = \"left Unilever and wants to join good organization\")             # pass arguments to the function"
   ]
  },
  {
   "cell_type": "markdown",
   "metadata": {},
   "source": [
    "## Arbitary Arguments"
   ]
  },
  {
   "cell_type": "code",
   "execution_count": 142,
   "metadata": {},
   "outputs": [
    {
     "name": "stdout",
     "output_type": "stream",
     "text": [
      "('gaurav', 'lives in bharat city, GZB', '& his contact no. 8130410111', 'and is looking for job', 'after doing python')\n",
      "Plz find require info gaurav\n",
      "Plz find require info lives in bharat city, GZB\n",
      "Plz find require info & his contact no. 8130410111\n",
      "Plz find require info and is looking for job\n",
      "Plz find require info after doing python\n"
     ]
    }
   ],
   "source": [
    "def hello (*info):\n",
    "    \"\"\"\n",
    "    This function provides user info.\n",
    "    \"\"\"\n",
    "    print (info)\n",
    "    for user_info in info:\n",
    "        print (\"Plz find require info {0}\".format(user_info))\n",
    "\n",
    "\n",
    "\n",
    "hello (\"gaurav\", \"lives in bharat city, GZB\", \"& his contact no. 8130410111\", \"and is looking for job\", \"after doing python\")             # pass arguments to the function"
   ]
  },
  {
   "cell_type": "markdown",
   "metadata": {},
   "source": [
    "# Recursive functions"
   ]
  },
  {
   "cell_type": "markdown",
   "metadata": {},
   "source": [
    "### Finding factorial of a number by using Recursive functions"
   ]
  },
  {
   "cell_type": "code",
   "execution_count": 149,
   "metadata": {},
   "outputs": [
    {
     "name": "stdout",
     "output_type": "stream",
     "text": [
      "Factorial of a 7 : 5040\n"
     ]
    }
   ],
   "source": [
    "def factorial (num):\n",
    "    \"\"\"\n",
    "    This function is for calculating factorial by using Recursive function.\n",
    "    \"\"\"\n",
    "    \n",
    "    return 1 if num == 1 else (num*factorial (num-1))\n",
    "\n",
    "number = 7\n",
    "\n",
    "print (\"Factorial of a {0} : {1}\". format(number, factorial(number)))"
   ]
  },
  {
   "cell_type": "markdown",
   "metadata": {},
   "source": [
    "### Finding Fibonacci Series by using Recursive functions"
   ]
  },
  {
   "cell_type": "code",
   "execution_count": 150,
   "metadata": {},
   "outputs": [
    {
     "name": "stdout",
     "output_type": "stream",
     "text": [
      "Fibonacci series is given as below:-\n",
      "0\n",
      "1\n",
      "1\n",
      "2\n",
      "3\n",
      "5\n",
      "8\n"
     ]
    }
   ],
   "source": [
    "def fibonacci (num):\n",
    "    \"\"\"\n",
    "    This function is for calculating Fibonacci Series by using Recursive function.\n",
    "    \"\"\"\n",
    "    return num if num <= 1 else fibonacci (num - 1) + fibonacci (num - 2)\n",
    "\n",
    "number = 7\n",
    "\n",
    "print (\"Fibonacci series is given as below:-\")\n",
    "for num in range(number): \n",
    "    print(fibonacci(num))"
   ]
  },
  {
   "cell_type": "markdown",
   "metadata": {},
   "source": [
    "# LAMDBA or ANONYMOUS FUNCTION"
   ]
  },
  {
   "cell_type": "code",
   "execution_count": 152,
   "metadata": {},
   "outputs": [
    {
     "name": "stdout",
     "output_type": "stream",
     "text": [
      "225\n"
     ]
    }
   ],
   "source": [
    "# for getting square of a number normally\n",
    "\n",
    "def square(num):\n",
    "    return num ** 2\n",
    "print(square(15))"
   ]
  },
  {
   "cell_type": "code",
   "execution_count": 155,
   "metadata": {},
   "outputs": [
    {
     "name": "stdout",
     "output_type": "stream",
     "text": [
      "225\n"
     ]
    }
   ],
   "source": [
    "# for getting square of a number by using LAMDBA function\n",
    "\n",
    "square = lambda num: num ** 2\n",
    "\n",
    "print(square(15))"
   ]
  },
  {
   "cell_type": "code",
   "execution_count": 159,
   "metadata": {},
   "outputs": [
    {
     "name": "stdout",
     "output_type": "stream",
     "text": [
      "[0, 2, 4, 6, 8, 10, 12, 14, 16, 18, 20, 22, 24, 26, 28, 30, 32, 34, 36, 38]\n"
     ]
    }
   ],
   "source": [
    "# Use Lambda with filter()\n",
    "\n",
    "list1 = range(40)\n",
    "\n",
    "even_list = list (filter(lambda x: (x%2 == 0),list1))\n",
    "\n",
    "print (even_list)\n"
   ]
  },
  {
   "cell_type": "code",
   "execution_count": 179,
   "metadata": {},
   "outputs": [
    {
     "name": "stdout",
     "output_type": "stream",
     "text": [
      "(4, 9, 25, 36, 49, 64)\n"
     ]
    }
   ],
   "source": [
    "# use lambda with map()\n",
    "\n",
    "mytuple = (2, 3, 5, 6, 7, 8)\n",
    "\n",
    "square_list = tuple(map(lambda x:x**2, mytuple))\n",
    "\n",
    "print (square_list)"
   ]
  },
  {
   "cell_type": "code",
   "execution_count": 171,
   "metadata": {},
   "outputs": [
    {
     "name": "stdout",
     "output_type": "stream",
     "text": [
      "31\n"
     ]
    }
   ],
   "source": [
    "# use lambda with reduce()\n",
    "\n",
    "from functools import reduce\n",
    "\n",
    "mylist1 = [2, 3, 5, 6, 7, 8]\n",
    "\n",
    "sumofmylist = reduce(lambda x, y : x+y, mylist1)\n",
    "\n",
    "print (sumofmylist)"
   ]
  },
  {
   "cell_type": "markdown",
   "metadata": {},
   "source": [
    "## Modules"
   ]
  },
  {
   "cell_type": "code",
   "execution_count": 1,
   "metadata": {},
   "outputs": [
    {
     "data": {
      "text/plain": [
       "5040"
      ]
     },
     "execution_count": 1,
     "metadata": {},
     "output_type": "execute_result"
    }
   ],
   "source": [
    "import math \n",
    "math.factorial(7)"
   ]
  },
  {
   "cell_type": "code",
   "execution_count": 3,
   "metadata": {},
   "outputs": [
    {
     "data": {
      "text/plain": [
       "7.0"
      ]
     },
     "execution_count": 3,
     "metadata": {},
     "output_type": "execute_result"
    }
   ],
   "source": [
    "math.fabs(7)                  # for getting absolute value "
   ]
  },
  {
   "cell_type": "code",
   "execution_count": 4,
   "metadata": {},
   "outputs": [
    {
     "data": {
      "text/plain": [
       "120"
      ]
     },
     "execution_count": 4,
     "metadata": {},
     "output_type": "execute_result"
    }
   ],
   "source": [
    "# import alias :- shortening modules name and define after \"as\" keyword\n",
    "\n",
    "import math as m\n",
    "m.factorial(5)"
   ]
  },
  {
   "cell_type": "code",
   "execution_count": 5,
   "metadata": {},
   "outputs": [
    {
     "data": {
      "text/plain": [
       "0.5328750961481006"
      ]
     },
     "execution_count": 5,
     "metadata": {},
     "output_type": "execute_result"
    }
   ],
   "source": [
    "import random as rd                # this random module gives random value\n",
    "rd.random()"
   ]
  },
  {
   "cell_type": "code",
   "execution_count": 6,
   "metadata": {},
   "outputs": [
    {
     "name": "stdout",
     "output_type": "stream",
     "text": [
      "2020-05-13\n"
     ]
    }
   ],
   "source": [
    "from datetime import date\n",
    "\n",
    "print (date.today())"
   ]
  },
  {
   "cell_type": "code",
   "execution_count": 13,
   "metadata": {},
   "outputs": [
    {
     "data": {
      "text/plain": [
       "datetime.datetime(2020, 5, 13, 10, 20, 59, 32914)"
      ]
     },
     "execution_count": 13,
     "metadata": {},
     "output_type": "execute_result"
    }
   ],
   "source": [
    "import datetime\n",
    "\n",
    "datetime.datetime.now()"
   ]
  },
  {
   "cell_type": "code",
   "execution_count": 16,
   "metadata": {},
   "outputs": [
    {
     "name": "stdout",
     "output_type": "stream",
     "text": [
      "120\n"
     ]
    }
   ],
   "source": [
    "# Import all module names of math\n",
    "\n",
    "from math import *\n",
    "\n",
    "print (factorial(5))"
   ]
  },
  {
   "cell_type": "code",
   "execution_count": 20,
   "metadata": {},
   "outputs": [
    {
     "name": "stdout",
     "output_type": "stream",
     "text": [
      "5.710036949078421e+25\n"
     ]
    }
   ],
   "source": [
    "print (cosh(60))"
   ]
  },
  {
   "cell_type": "code",
   "execution_count": 22,
   "metadata": {},
   "outputs": [
    {
     "name": "stdout",
     "output_type": "stream",
     "text": [
      "['__doc__', '__loader__', '__name__', '__package__', '__spec__', 'acos', 'acosh', 'asin', 'asinh', 'atan', 'atan2', 'atanh', 'ceil', 'copysign', 'cos', 'cosh', 'degrees', 'e', 'erf', 'erfc', 'exp', 'expm1', 'fabs', 'factorial', 'floor', 'fmod', 'frexp', 'fsum', 'gamma', 'gcd', 'hypot', 'inf', 'isclose', 'isfinite', 'isinf', 'isnan', 'ldexp', 'lgamma', 'log', 'log10', 'log1p', 'log2', 'modf', 'nan', 'pi', 'pow', 'radians', 'remainder', 'sin', 'sinh', 'sqrt', 'tan', 'tanh', 'tau', 'trunc']\n"
     ]
    }
   ],
   "source": [
    "print (dir(math))"
   ]
  },
  {
   "cell_type": "code",
   "execution_count": 26,
   "metadata": {},
   "outputs": [
    {
     "name": "stdout",
     "output_type": "stream",
     "text": [
      "1\n",
      "0\n",
      "Error occurred: <class 'ZeroDivisionError'> occurred\n",
      ".............................................\n",
      "abc\n",
      "Error occurred: <class 'TypeError'> occurred\n",
      ".............................................\n",
      "5\n",
      "The inverse of an 5 is 0.2\n"
     ]
    }
   ],
   "source": [
    "# Catching exceptions in data\n",
    "\n",
    "import sys\n",
    "\n",
    "list1 = [1, 0, 'abc', 5]\n",
    "\n",
    "for element in list1:\n",
    "    try: \n",
    "        print(element)\n",
    "        inv = 1/ element\n",
    "    except:\n",
    "        print(\"Error occurred:\", sys.exc_info()[0], 'occurred')\n",
    "        print ('.............................................')\n",
    "print (\"The inverse of an\", element, 'is', inv)"
   ]
  },
  {
   "cell_type": "code",
   "execution_count": 33,
   "metadata": {},
   "outputs": [
    {
     "name": "stdout",
     "output_type": "stream",
     "text": [
      ".............................................\n",
      "abc\n",
      "This is value Error\n",
      ".............................................\n",
      "0\n",
      "This is ZeroDivisionError\n",
      ".............................................\n",
      "3\n",
      "The inverse of an 3 is 0.3333333333333333\n"
     ]
    }
   ],
   "source": [
    "# Catching Specific exceptions in data\n",
    "\n",
    "import sys\n",
    "\n",
    "list1 = ['abc', 0, 3]\n",
    "\n",
    "for element in list1:\n",
    "    try:\n",
    "        print ('.............................................')\n",
    "        print(element)\n",
    "        inv = 1/ int(element)\n",
    "    \n",
    "    except(ValueError):\n",
    "        print(\"This is value Error\")\n",
    "        \n",
    "    except(ZeroDivisionError):\n",
    "        print(\"This is ZeroDivisionError\")\n",
    "\n",
    "    except:\n",
    "        print(\"This is General Error\")\n",
    "    \n",
    "        \n",
    "print (\"The inverse of an\", element, 'is', inv)"
   ]
  },
  {
   "cell_type": "code",
   "execution_count": 34,
   "metadata": {},
   "outputs": [
    {
     "ename": "KeyboardInterrupt",
     "evalue": "",
     "output_type": "error",
     "traceback": [
      "\u001b[1;31m---------------------------------------------------------------------------\u001b[0m",
      "\u001b[1;31mKeyboardInterrupt\u001b[0m                         Traceback (most recent call last)",
      "\u001b[1;32m<ipython-input-34-aa6727c0334c>\u001b[0m in \u001b[0;36m<module>\u001b[1;34m\u001b[0m\n\u001b[0;32m      2\u001b[0m  \u001b[1;31m# by using raise keyword\u001b[0m\u001b[1;33m\u001b[0m\u001b[1;33m\u001b[0m\u001b[1;33m\u001b[0m\u001b[0m\n\u001b[0;32m      3\u001b[0m \u001b[1;33m\u001b[0m\u001b[0m\n\u001b[1;32m----> 4\u001b[1;33m \u001b[1;32mraise\u001b[0m \u001b[0mKeyboardInterrupt\u001b[0m\u001b[1;33m\u001b[0m\u001b[1;33m\u001b[0m\u001b[0m\n\u001b[0m",
      "\u001b[1;31mKeyboardInterrupt\u001b[0m: "
     ]
    }
   ],
   "source": [
    "# Exception raised forcefully\n",
    " # by using raise keyword\n",
    "    \n",
    "raise KeyboardInterrupt"
   ]
  },
  {
   "cell_type": "code",
   "execution_count": 35,
   "metadata": {},
   "outputs": [
    {
     "ename": "KeyboardInterrupt",
     "evalue": "This is keyboard error interruption to stop it forcefully",
     "output_type": "error",
     "traceback": [
      "\u001b[1;31m---------------------------------------------------------------------------\u001b[0m",
      "\u001b[1;31mKeyboardInterrupt\u001b[0m                         Traceback (most recent call last)",
      "\u001b[1;32m<ipython-input-35-14966a126fd6>\u001b[0m in \u001b[0;36m<module>\u001b[1;34m\u001b[0m\n\u001b[1;32m----> 1\u001b[1;33m \u001b[1;32mraise\u001b[0m \u001b[0mKeyboardInterrupt\u001b[0m \u001b[1;33m(\u001b[0m\u001b[1;34m\"This is keyboard error interruption to stop it forcefully\"\u001b[0m\u001b[1;33m)\u001b[0m\u001b[1;33m\u001b[0m\u001b[1;33m\u001b[0m\u001b[0m\n\u001b[0m",
      "\u001b[1;31mKeyboardInterrupt\u001b[0m: This is keyboard error interruption to stop it forcefully"
     ]
    }
   ],
   "source": [
    "raise KeyboardInterrupt (\"This is keyboard error interruption to stop it forcefully\")"
   ]
  },
  {
   "cell_type": "code",
   "execution_count": 41,
   "metadata": {},
   "outputs": [
    {
     "name": "stdout",
     "output_type": "stream",
     "text": [
      "Enter any add number: 10\n",
      "Error : Kindly provide Odd ynumber as defined in above message.\n"
     ]
    }
   ],
   "source": [
    "try:\n",
    "    oddnum = int(input(\"Enter any add number: \"))\n",
    "    if oddnum % 2 == 0:\n",
    "        raise ValueError(\"Error : Kindly provide Odd ynumber as defined in above message.\")\n",
    "except ValueError as e:\n",
    "    print(e)"
   ]
  },
  {
   "cell_type": "code",
   "execution_count": 42,
   "metadata": {},
   "outputs": [
    {
     "name": "stdout",
     "output_type": "stream",
     "text": [
      "Inside finally block\n"
     ]
    },
    {
     "ename": "NameError",
     "evalue": "name 'f' is not defined",
     "output_type": "error",
     "traceback": [
      "\u001b[1;31m---------------------------------------------------------------------------\u001b[0m",
      "\u001b[1;31mFileNotFoundError\u001b[0m                         Traceback (most recent call last)",
      "\u001b[1;32m<ipython-input-42-d7721f3cf53e>\u001b[0m in \u001b[0;36m<module>\u001b[1;34m\u001b[0m\n\u001b[0;32m      3\u001b[0m \u001b[1;32mtry\u001b[0m\u001b[1;33m:\u001b[0m\u001b[1;33m\u001b[0m\u001b[1;33m\u001b[0m\u001b[0m\n\u001b[1;32m----> 4\u001b[1;33m     \u001b[0mf\u001b[0m \u001b[1;33m=\u001b[0m \u001b[0mopen\u001b[0m\u001b[1;33m(\u001b[0m\u001b[1;34m\"filenotpresent.txt\"\u001b[0m\u001b[1;33m)\u001b[0m\u001b[1;33m\u001b[0m\u001b[1;33m\u001b[0m\u001b[0m\n\u001b[0m\u001b[0;32m      5\u001b[0m \u001b[1;32mexcept\u001b[0m\u001b[1;33m:\u001b[0m\u001b[1;33m\u001b[0m\u001b[1;33m\u001b[0m\u001b[0m\n",
      "\u001b[1;31mFileNotFoundError\u001b[0m: [Errno 2] No such file or directory: 'filenotpresent.txt'",
      "\nDuring handling of the above exception, another exception occurred:\n",
      "\u001b[1;31mNameError\u001b[0m                                 Traceback (most recent call last)",
      "\u001b[1;32m<ipython-input-42-d7721f3cf53e>\u001b[0m in \u001b[0;36m<module>\u001b[1;34m\u001b[0m\n\u001b[0;32m      5\u001b[0m \u001b[1;32mexcept\u001b[0m\u001b[1;33m:\u001b[0m\u001b[1;33m\u001b[0m\u001b[1;33m\u001b[0m\u001b[0m\n\u001b[0;32m      6\u001b[0m     \u001b[0mprint\u001b[0m\u001b[1;33m(\u001b[0m\u001b[1;34m\"Inside finally block\"\u001b[0m\u001b[1;33m)\u001b[0m\u001b[1;33m\u001b[0m\u001b[1;33m\u001b[0m\u001b[0m\n\u001b[1;32m----> 7\u001b[1;33m     \u001b[0mf\u001b[0m\u001b[1;33m.\u001b[0m\u001b[0mclose\u001b[0m\u001b[1;33m(\u001b[0m\u001b[1;33m)\u001b[0m\u001b[1;33m\u001b[0m\u001b[1;33m\u001b[0m\u001b[0m\n\u001b[0m",
      "\u001b[1;31mNameError\u001b[0m: name 'f' is not defined"
     ]
    }
   ],
   "source": [
    "# try..finally\n",
    "\n",
    "try:\n",
    "    f = open(\"filenotpresent.txt\")\n",
    "except:\n",
    "    print(\"Inside finally block\")\n",
    "    f.close()"
   ]
  },
  {
   "cell_type": "code",
   "execution_count": 43,
   "metadata": {},
   "outputs": [
    {
     "name": "stdout",
     "output_type": "stream",
     "text": [
      "0\n",
      "1\n",
      "2\n",
      "3\n",
      "4\n",
      "5\n",
      "6\n",
      "7\n",
      "8\n",
      "9\n",
      "None\n"
     ]
    }
   ],
   "source": [
    "# Debugging in python : \"pdb\"\n",
    "\n",
    "#understand how this function works :-\n",
    "\n",
    "def iterateotitems(n):\n",
    "    for i in range(n):\n",
    "        print (i)\n",
    "    return\n",
    "\n",
    "print (iterateotitems(10))\n"
   ]
  },
  {
   "cell_type": "code",
   "execution_count": 4,
   "metadata": {},
   "outputs": [
    {
     "name": "stdout",
     "output_type": "stream",
     "text": [
      "Peace comes from within\n"
     ]
    }
   ],
   "source": [
    "string = \"peace comes from within\"\n",
    "\n",
    "capitalized_string = string.capitalize()\n",
    "\n",
    "print (capitalized_string)"
   ]
  },
  {
   "cell_type": "code",
   "execution_count": null,
   "metadata": {},
   "outputs": [],
   "source": [
    "# now for debugging, we will use this funciton \"pdb.set_trace()\"\n",
    "\n",
    "import pdb\n",
    "\n",
    "def iterateotitems(n):\n",
    "    for i in range(n):\n",
    "        pdb.set_trace()\n",
    "        print (i)\n",
    "    return\n",
    "\n",
    "print (iterateotitems(10))\n",
    "\n",
    "\n",
    "\"\"\"\n",
    "few popular commands of debugging is given as below :-\n",
    " C: continue\n",
    " h : help\n",
    " p :print\n",
    " q : quit\n",
    " p locals()\n",
    " p globals()\n",
    " whatis\n",
    " list\n",
    "\n",
    "\"\"\""
   ]
  }
 ],
 "metadata": {
  "kernelspec": {
   "display_name": "Python 3",
   "language": "python",
   "name": "python3"
  },
  "language_info": {
   "codemirror_mode": {
    "name": "ipython",
    "version": 3
   },
   "file_extension": ".py",
   "mimetype": "text/x-python",
   "name": "python",
   "nbconvert_exporter": "python",
   "pygments_lexer": "ipython3",
   "version": "3.7.3"
  }
 },
 "nbformat": 4,
 "nbformat_minor": 2
}
